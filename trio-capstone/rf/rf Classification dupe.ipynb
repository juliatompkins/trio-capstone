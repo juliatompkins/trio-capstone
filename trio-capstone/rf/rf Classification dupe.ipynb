{
 "cells": [
  {
   "cell_type": "code",
   "execution_count": 3,
   "id": "40d0ed8c",
   "metadata": {},
   "outputs": [
    {
     "ename": "ModuleNotFoundError",
     "evalue": "No module named 'geohelpers'",
     "output_type": "error",
     "traceback": [
      "\u001b[1;31m---------------------------------------------------------------------------\u001b[0m",
      "\u001b[1;31mModuleNotFoundError\u001b[0m                       Traceback (most recent call last)",
      "Input \u001b[1;32mIn [3]\u001b[0m, in \u001b[0;36m<cell line: 11>\u001b[1;34m()\u001b[0m\n\u001b[0;32m      9\u001b[0m \u001b[38;5;28;01mimport\u001b[39;00m \u001b[38;5;21;01mgeopandas\u001b[39;00m \u001b[38;5;28;01mas\u001b[39;00m \u001b[38;5;21;01mgpd\u001b[39;00m\n\u001b[0;32m     10\u001b[0m \u001b[38;5;28;01mfrom\u001b[39;00m \u001b[38;5;21;01mrasterio\u001b[39;00m\u001b[38;5;21;01m.\u001b[39;00m\u001b[38;5;21;01mplot\u001b[39;00m \u001b[38;5;28;01mimport\u001b[39;00m show\n\u001b[1;32m---> 11\u001b[0m \u001b[38;5;28;01mfrom\u001b[39;00m \u001b[38;5;21;01mgeohelpers\u001b[39;00m \u001b[38;5;28;01mimport\u001b[39;00m collocate, getCoords\n\u001b[0;32m     12\u001b[0m \u001b[38;5;28;01mfrom\u001b[39;00m \u001b[38;5;21;01mosgeo\u001b[39;00m \u001b[38;5;28;01mimport\u001b[39;00m osr, ogr, gdal\n\u001b[0;32m     13\u001b[0m \u001b[38;5;28;01mimport\u001b[39;00m \u001b[38;5;21;01mpyproj\u001b[39;00m\n",
      "\u001b[1;31mModuleNotFoundError\u001b[0m: No module named 'geohelpers'"
     ]
    }
   ],
   "source": [
    "from osgeo import osr, ogr, gdal\n",
    "from sklearn.ensemble import RandomForestClassifier\n",
    "from sklearn.datasets import make_classification\n",
    "import numpy as np \n",
    "import pandas as pd \n",
    "import geopandas as gpd\n",
    "import rasterio\n",
    "from sklearn.model_selection import train_test_split\n",
    "import geopandas as gpd\n",
    "from rasterio.plot import show\n",
    "from geohelpers import collocate, getCoords\n",
    "from osgeo import osr, ogr, gdal\n",
    "import pyproj\n",
    "from pyproj import Proj, transform\n",
    "import geopandas as gpd\n",
    "import numpy as np\n",
    "import rasterio\n",
    "import pandas as pd\n",
    "import seaborn as sns\n",
    "import matplotlib as plt\n",
    "from sklearn.model_selection import train_test_split\n",
    "from sklearn import svm\n",
    "import matplotlib.pyplot as plt\n",
    "import math\n",
    "import datetime\n",
    "import geopandas as gpd"
   ]
  },
  {
   "cell_type": "markdown",
   "id": "ee2ba6bd-18a0-4783-b209-bfec1af0f8f4",
   "metadata": {},
   "source": [
    "goal: produce a 30m raster where each pixel is binned by some index (using a dummy rn) Use SVR (support vector regression) for continuous multi-class classification."
   ]
  },
  {
   "cell_type": "code",
   "execution_count": null,
   "id": "cb81a85b",
   "metadata": {},
   "outputs": [],
   "source": [
    "td = r\"data\\MetroLinkStatinsTEST.shp\"\n",
    "\n",
    "td_gdf = gpd.read_file(td)\n",
    "td_gdf = td_gdf.drop(columns= ['OBJECTID']) \n",
    "td_gdf = td_gdf.drop(columns= ['OBJECTID_1']) \n",
    "td_gdf = td_gdf.drop(columns= ['StopName']) \n",
    "td_gdf = td_gdf.drop(columns= ['StopAbbr']) \n",
    "td_gdf = td_gdf.drop(columns= ['StopID']) \n",
    "\n",
    "td_gdf.head()"
   ]
  },
  {
   "cell_type": "code",
   "execution_count": null,
   "id": "0304f8dd",
   "metadata": {},
   "outputs": [],
   "source": [
    "import rasterio\n",
    "import numpy as np\n",
    "\n",
    "# List of raster file paths\n",
    "raster_files = [\n",
    "    r\"FeatureMat\\CID_bin_fm.tif\",\n",
    "  #  r\"FeatureMat\\NLNorm_fm.tif\",\n",
    "    r\"FeatureMat\\OppZones_bin_fm.tif\",\n",
    "  #  r\"FeatureMat\\parksNormDist_fm.tif\",\n",
    "  #  r\"FeatureMat\\POP_30m.tif\",\n",
    "  #  r\"FeatureMat\\Routes_bin_fm.tif\",\n",
    "  #  r\"FeatureMat\\SBDs_bin_fm.tif\",\n",
    "  #  r\"FeatureMat\\TDD_bin_fm.tif\",\n",
    "  #  r\"FeatureMat\\TIF_bin_fm.tif\",\n",
    "  #  r\"FeatureMat\\trans_weigh.tif\"\n",
    "]\n",
    "\n",
    "# Initialize an empty list to store the arrays\n",
    "arrays = []\n",
    "\n",
    "# Loop through each raster file and read it as an array\n",
    "for file_path in raster_files:\n",
    "    with rasterio.open(file_path) as src:\n",
    "        arr = src.read(1)  # Assuming you want to read the first band (index 0)\n",
    "        print(arr.shape)\n",
    "        arrays.append(arr)\n",
    "\n",
    "# Concatenate the arrays along the third axis (axis=2) to create an nxmx10 array\n",
    "feature_mat = np.stack(arrays, axis=2)\n",
    "\n",
    "# Print information about the concatenated array\n",
    "print(\"Shape of the concatenated array:\", feature_mat.shape)\n",
    "print(\"Data type of the concatenated array:\", feature_mat.dtype)\n",
    "print(\"Mean value of the concatenated array:\", np.mean(feature_mat))\n",
    "\n",
    "\n",
    "#n rows, m columns, h bands\n",
    "n, m, h = feature_mat.shape\n",
    "print('m: ',m,'n: ',n,'h: ',h)"
   ]
  },
  {
   "cell_type": "code",
   "execution_count": null,
   "id": "4d304e11",
   "metadata": {},
   "outputs": [],
   "source": [
    "def transform_4326_to_3857(lat, long):\n",
    "    # make spatial references\n",
    "    # 4326 in\n",
    "    InSR = osr.SpatialReference()\n",
    "    InSR.ImportFromEPSG(4326)\n",
    "    # 3857 out\n",
    "    OutSR = osr.SpatialReference()\n",
    "    OutSR.ImportFromEPSG(3857)\n",
    "    \n",
    "    # create the point\n",
    "    Point = ogr.Geometry(ogr.wkbPoint)\n",
    "    Point.AddPoint(lat,long)\n",
    "\n",
    "    # assign the spacial reference to the point\n",
    "    Point.AssignSpatialReference(InSR)\n",
    "\n",
    "    # transform\n",
    "    transform_error_code = Point.TransformTo(OutSR)\n",
    "\n",
    "    # error check (eg, point is out of bounds, etc)\n",
    "    if transform_error_code == 0:\n",
    "        # success\n",
    "        return (Point.GetX(),Point.GetY())\n",
    "    else:\n",
    "        #failed\n",
    "        logging.warn(\"Transform failed! Error {transform_error_code}\")\n",
    "        return None"
   ]
  },
  {
   "cell_type": "code",
   "execution_count": null,
   "id": "dda8a258-57a6-44db-94be-41596c5effb0",
   "metadata": {},
   "outputs": [],
   "source": [
    "td_label = [td_gdf['trans_weig']]\n",
    "tdd = [td_gdf['TDD_bin_fm']]\n",
    "routes = [td_gdf['Routes_bin']]\n",
    "cid = [td_gdf['CID_bin_fm']]\n",
    "opp = [td_gdf['OppZones_b']]\n",
    "tif = [td_gdf['TIF_bin_fm']]\n",
    "sbd = [td_gdf['SBDs_bin_f']]\n",
    "nl = [td_gdf['NLNorm_fm']]\n",
    "parks = [td_gdf['parksNormD']]\n",
    "pop = [td_gdf['StlPop_fm']]\n",
    "lon_list = [td_gdf['LON']]\n",
    "lat_list = [td_gdf['LAT']]"
   ]
  },
  {
   "cell_type": "code",
   "execution_count": null,
   "id": "b2344c75",
   "metadata": {},
   "outputs": [],
   "source": [
    "'''\n",
    "td_df = df = pd.DataFrame({\n",
    "    'Lon': lon_list,\n",
    "    'Lat': lat_list,\n",
    "    'index': td_label,\n",
    "})\n",
    "'''\n",
    "lon_d = pd.DataFrame(lon_list).T\n",
    "lat_d = pd.DataFrame(lat_list).T\n",
    "label_d = pd.DataFrame(td_label).T\n",
    "tdd_d = pd.DataFrame(tdd).T\n",
    "routes_d = pd.DataFrame(routes).T\n",
    "cid_d = pd.DataFrame(cid).T\n",
    "opp_d = pd.DataFrame(opp).T\n",
    "tif_d = pd.DataFrame(tif).T\n",
    "sbd_d = pd.DataFrame(sbd).T\n",
    "nl_d = pd.DataFrame(nl).T\n",
    "parks_d = pd.DataFrame(parks).T\n",
    "pop_d = pd.DataFrame(pop).T\n",
    "\n",
    "td_df = pd.concat([lon_d, lat_d, label_d, tdd_d, routes_d, cid_d, opp_d, tif_d, sbd_d, nl_d, parks_d, pop_d], axis=1)\n"
   ]
  },
  {
   "cell_type": "code",
   "execution_count": null,
   "id": "6e08f97d",
   "metadata": {},
   "outputs": [],
   "source": [
    "td_df.head()"
   ]
  },
  {
   "cell_type": "code",
   "execution_count": null,
   "id": "7e8490da",
   "metadata": {},
   "outputs": [],
   "source": [
    "from sklearn import metrics\n",
    "from sklearn.ensemble import RandomForestClassifier\n",
    "from sklearn.svm import SVR\n",
    "from sklearn.pipeline import make_pipeline\n",
    "from sklearn.preprocessing import StandardScaler\n",
    "import numpy as np"
   ]
  },
  {
   "cell_type": "code",
   "execution_count": null,
   "id": "ac5fe563",
   "metadata": {},
   "outputs": [],
   "source": [
    "#prepare class label array!\n",
    "n_samples, n_features = td_df.shape[0], td_df.shape[1]-2\n",
    "X = np.array(td_df.iloc[:,2:4]) #train model on everything but lat and lon\n",
    "y = td_df.iloc[:,2] #class labels"
   ]
  },
  {
   "cell_type": "code",
   "execution_count": null,
   "id": "b5f01705-f1db-4c6d-8564-177ba73322b1",
   "metadata": {},
   "outputs": [],
   "source": [
    "regr = make_pipeline(StandardScaler(), SVR(C=1.0, epsilon=0.2))\n",
    "regr.fit(X, y)"
   ]
  },
  {
   "cell_type": "code",
   "execution_count": null,
   "id": "03fda212-ebca-4a01-9ff1-d81a972e6a50",
   "metadata": {},
   "outputs": [],
   "source": [
    "'''\n",
    "y_pred = regr.predict(X_test)\n",
    "print(y_pred)\n",
    "y_pred_2 = clf.predict(X_train)\n",
    "print(\"Testing Accuracy:\",metrics.accuracy_score(y_test, y_pred))\n",
    "print(\"Training Accuracy:\",metrics.accuracy_score(y_train, y_pred_2))\n",
    "'''"
   ]
  },
  {
   "cell_type": "code",
   "execution_count": null,
   "id": "f88f6981",
   "metadata": {},
   "outputs": [],
   "source": [
    "print('m: ',m,'n: ',n,'h: ',h)\n",
    "hi = feature_mat.reshape(h, m*n)\n",
    "v = pd.DataFrame(hi)\n",
    "'''\n",
    "pd.set_option('display.max_rows', None)\n",
    "pd.set_option('display.max_columns', 100)\n",
    "pd.set_option('display.width', 1000)\n",
    "pd.set_option('display.colheader_justify', 'center')\n",
    "pd.set_option('display.precision', 3)\n",
    "display(v)\n",
    "'''"
   ]
  },
  {
   "cell_type": "code",
   "execution_count": null,
   "id": "f5c2da17",
   "metadata": {},
   "outputs": [],
   "source": [
    "import time\n",
    "start_time = time.time()  # Start timing\n",
    "\n",
    "assignments = []\n",
    "for col in v:\n",
    "    if not pd.isna(v.iloc[0,col]):  # Check if the value is not NaN\n",
    "        print('row: ', v.loc[:,col])\n",
    "        class_pred = regr.predict(np.array(v.loc[:, col]).reshape(1, -1))[0]\n",
    "        #print(class_pred)\n",
    "    else:\n",
    "        class_pred = 'NaN'\n",
    "       #print(class_pred)\n",
    "    if col%1000 == 0:\n",
    "        print('px: ', col, ' assignment: ', class_pred)\n",
    "    assignments.append(class_pred)\n",
    "print(\"Done\")"
   ]
  },
  {
   "cell_type": "code",
   "execution_count": 21,
   "id": "25a4c9a5",
   "metadata": {},
   "outputs": [
    {
     "name": "stdout",
     "output_type": "stream",
     "text": [
      "time taken to run the program:  1.0  minutes\n"
     ]
    }
   ],
   "source": [
    "print('time taken to run the program: ', total_time//60, ' minutes')"
   ]
  },
  {
   "cell_type": "code",
   "execution_count": 23,
   "id": "de739809",
   "metadata": {},
   "outputs": [
    {
     "name": "stdout",
     "output_type": "stream",
     "text": [
      "(50880,)\n",
      "(159, 320)\n"
     ]
    }
   ],
   "source": [
    "assignmentsArr = np.array(assignments)\n",
    "print(assignmentsArr.shape)\n",
    "lc = assignmentsArr.reshape(m,n)\n",
    "print(lc.shape)"
   ]
  },
  {
   "cell_type": "code",
   "execution_count": 27,
   "id": "5eee55c8-796f-4b34-89de-df5576eeab10",
   "metadata": {},
   "outputs": [
    {
     "ename": "AttributeError",
     "evalue": "module 'matplotlib.pyplot' has no attribute 'aspect'",
     "output_type": "error",
     "traceback": [
      "\u001b[1;31m---------------------------------------------------------------------------\u001b[0m",
      "\u001b[1;31mAttributeError\u001b[0m                            Traceback (most recent call last)",
      "Input \u001b[1;32mIn [27]\u001b[0m, in \u001b[0;36m<cell line: 6>\u001b[1;34m()\u001b[0m\n\u001b[0;32m      4\u001b[0m plt\u001b[38;5;241m.\u001b[39mxlabel(\u001b[38;5;124m'\u001b[39m\u001b[38;5;124mColumn Index\u001b[39m\u001b[38;5;124m'\u001b[39m)\n\u001b[0;32m      5\u001b[0m plt\u001b[38;5;241m.\u001b[39mylabel(\u001b[38;5;124m'\u001b[39m\u001b[38;5;124mRow Index\u001b[39m\u001b[38;5;124m'\u001b[39m)\n\u001b[1;32m----> 6\u001b[0m \u001b[43mplt\u001b[49m\u001b[38;5;241;43m.\u001b[39;49m\u001b[43maspect\u001b[49m(\u001b[38;5;124m'\u001b[39m\u001b[38;5;124mequal\u001b[39m\u001b[38;5;124m'\u001b[39m)  \u001b[38;5;66;03m# Ensure equal aspect ratio\u001b[39;00m\n\u001b[0;32m      8\u001b[0m plt\u001b[38;5;241m.\u001b[39mshow()\n",
      "\u001b[1;31mAttributeError\u001b[0m: module 'matplotlib.pyplot' has no attribute 'aspect'"
     ]
    },
    {
     "data": {
      "image/png": "[encoded data removed]",
      "text/plain": [
       "<Figure size 432x288 with 1 Axes>"
      ]
     },
     "metadata": {
      "needs_background": "light"
     },
     "output_type": "display_data"
    }
   ],
   "source": [
    "# Plot Classified Image \n",
    "img_class = plt.imshow(lc, cmap='jet_r')\n",
    "plt.title('Classified')\n",
    "plt.xlabel('Column Index')\n",
    "plt.ylabel('Row Index')\n",
    "\n",
    "plt.show()"
   ]
  },
  {
   "cell_type": "code",
   "execution_count": null,
   "id": "406bc012",
   "metadata": {},
   "outputs": [],
   "source": [
    "#function to write array to tiff\n",
    "def write_geotiff(filename, arr, in_ds):\n",
    "    if arr.dtype == np.float32:\n",
    "        arr_type = gdal.GDT_Float32\n",
    "    else:\n",
    "        arr_type = gdal.GDT_Int32\n",
    "\n",
    "    driver = gdal.GetDriverByName(\"GTiff\")\n",
    "    out_ds = driver.Create(filename, arr.shape[1], arr.shape[0], 1, arr_type)  # Create a 2D image\n",
    "    out_ds.SetProjection(in_ds.GetProjection())\n",
    "    out_ds.SetGeoTransform(in_ds.GetGeoTransform())\n",
    "    out_ds.GetRasterBand(1).WriteArray(arr)  # Write the 2D image data to the GeoTIFF\n",
    "    out_ds.FlushCache()\n",
    "    out_ds = None  # Close the dataset to save changes"
   ]
  },
  {
   "cell_type": "code",
   "execution_count": null,
   "id": "56e71f1d",
   "metadata": {},
   "outputs": [],
   "source": [
    "#function to \n",
    "write_geotiff(\"data\\LandCoverStl.tif\", lc, ndvi_ds)   \n"
   ]
  },
  {
   "cell_type": "code",
   "execution_count": null,
   "id": "2a93cd30-0548-41e3-aa0d-5b46cfd91f29",
   "metadata": {},
   "outputs": [],
   "source": []
  }
 ],
 "metadata": {
  "kernelspec": {
   "display_name": "Python 3 (ipykernel)",
   "language": "python",
   "name": "python3"
  },
  "language_info": {
   "codemirror_mode": {
    "name": "ipython",
    "version": 3
   },
   "file_extension": ".py",
   "mimetype": "text/x-python",
   "name": "python",
   "nbconvert_exporter": "python",
   "pygments_lexer": "ipython3",
   "version": "3.9.5"
  }
 },
 "nbformat": 4,
 "nbformat_minor": 5
}
