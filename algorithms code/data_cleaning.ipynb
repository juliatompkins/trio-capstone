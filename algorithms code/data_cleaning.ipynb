{
 "cells": [
  {
   "cell_type": "code",
   "execution_count": 1,
   "id": "0118789c",
   "metadata": {},
   "outputs": [],
   "source": [
    "def clean(census_data, race_data):\n",
    "    \n",
    "    # clean census data\n",
    "    warnings. filterwarnings('ignore')\n",
    "\n",
    "    # Only keep important columns\n",
    "    census_data = census_data[['location','label','estimate','moe']]\n",
    "    census_data['label'] = census_data['label'].str.replace('Estimate', '').str.replace('Total', '').str.replace('!!', '').str.replace(':', '')\n",
    "    census_data['location'] = census_data['location'].str.replace('; St. Louis city; Missouri','')\n",
    "\n",
    "    # Filter out aggregate columns\n",
    "    all_totals = census_data[census_data['label']=='']\n",
    "    trans_totals_mask = ~census_data['label'].astype(str).str.contains('[$]')\n",
    "    trans_totals = census_data.loc[trans_totals_mask][1:]\n",
    "    income_totals = census_data[census_data['label'].str.startswith(\"$\")]\n",
    "    not_to_include = pd.concat([trans_totals, income_totals, all_totals])\n",
    "    merged_df = pd.merge(census_data, not_to_include, how='left', indicator=True)\n",
    "    no_totals = merged_df[merged_df['_merge'] == 'left_only'].drop(columns=['_merge'])[1:]\n",
    "    split_data = no_totals['label'].str.split('$', 1, expand=True)\n",
    "    no_totals[['transportation', 'income']] = split_data\n",
    "    no_totals.drop(columns=['label'], inplace=True)\n",
    "    no_totals['income'] = '$' + no_totals['income']\n",
    "    from_this = no_totals['income'].unique()\n",
    "    to_this = [1, 10000, 15000, 25000, 35000, 50000, 65000, 75000]\n",
    "    no_totals['avg income'] = no_totals['income'].replace(from_this, to_this)\n",
    "    clean_census_data = no_totals\n",
    "    \n",
    "    # clean race data\n",
    "    # Only keep important columns\n",
    "    race_data = race_data[['location','label','concept','estimate','moe']]\n",
    "    race_data['label'] = race_data['label'].str.replace('Estimate', '').str.replace('Total', '').str.replace('!!', '').str.replace(':', '')\n",
    "    race_data['location'] = race_data['location'].str.replace('; St. Louis city; Missouri','')\n",
    "    race_data['concept'] = race_data['concept'].str.replace('MEANS OF TRANSPORTATION TO WORK ', '').str.replace(')','').str.replace('(','').str.replace('ALONE','')\n",
    "\n",
    "    # Filter out aggregate rows and rename columns\n",
    "    race_data = race_data[race_data['label'] != '']\n",
    "    race_data = race_data.rename(columns={'label': 'transportation', 'concept': 'race'})\n",
    "    \n",
    "    # Group by census tract and mode of transportation\n",
    "    by_tract_trans = clean_census_data.groupby(['location','transportation'])['estimate'].sum()\n",
    "\n",
    "    # Find percentage of people who take public transport in each tract\n",
    "    tract_pops = clean_census_data.groupby('location', as_index = False)['estimate'].sum()['estimate'].tolist()\n",
    "    public_transit_pops = clean_census_data[clean_census_data['transportation']=='Public transportation (excluding taxicab)'].groupby(['location','transportation'], as_index = False)['estimate'].sum()['estimate'].tolist()\n",
    "    total_public_transit_pops = sum(public_transit_pops)\n",
    "\n",
    "    # Add percentages back in to groupby\n",
    "    by_tract = clean_census_data.groupby('location', as_index = False)['estimate'].sum()\n",
    "    by_tract['transit weight'] = np.array(public_transit_pops) / total_public_transit_pops\n",
    "    \n",
    "    # Group by census tract and income\n",
    "    by_tract_inc = clean_census_data.groupby(['location','avg income'])['estimate'].sum()\n",
    "\n",
    "    # Find average income of each tract\n",
    "    tract_incomes = (clean_census_data['avg income']*clean_census_data['estimate']).groupby(clean_census_data['location']).sum().tolist()\n",
    "    tract_totals = sum(tract_incomes)\n",
    "    tract_incomes_new = np.array([tract_totals - i for i in tract_incomes])\n",
    "    income_weight = tract_incomes_new / sum(tract_incomes_new)\n",
    "\n",
    "    # Add percentages back in to groupby\n",
    "    by_tract['income weight'] = income_weight\n",
    "    \n",
    "    # Find minority (nonwhite) population of each tract\n",
    "    total_pops = race_data.groupby('location')['estimate'].sum().tolist()\n",
    "    nonwhite_pops = race_data[race_data['race'] != 'WHITE '].groupby('location')['estimate'].sum().tolist()\n",
    "    total_nonwhite_pop = sum(nonwhite_pops)\n",
    "\n",
    "    # add back in to groupby\n",
    "    by_tract['race weight'] = np.array(nonwhite_pops) / total_nonwhite_pop\n",
    "    \n",
    "    return by_tract"
   ]
  },
  {
   "cell_type": "code",
   "execution_count": 3,
   "id": "71b784b2-6cbc-4383-b40a-9d45fc937a8f",
   "metadata": {},
   "outputs": [
    {
     "ename": "TypeError",
     "evalue": "string indices must be integers",
     "output_type": "error",
     "traceback": [
      "\u001b[1;31m---------------------------------------------------------------------------\u001b[0m",
      "\u001b[1;31mTypeError\u001b[0m                                 Traceback (most recent call last)",
      "Input \u001b[1;32mIn [3]\u001b[0m, in \u001b[0;36m<cell line: 6>\u001b[1;34m()\u001b[0m\n\u001b[0;32m      3\u001b[0m census \u001b[38;5;241m=\u001b[39m \u001b[38;5;124mr\u001b[39m\u001b[38;5;124m\"\u001b[39m\u001b[38;5;124mdata\u001b[39m\u001b[38;5;124m\\\u001b[39m\u001b[38;5;124mB0119.csv\u001b[39m\u001b[38;5;124m\"\u001b[39m\n\u001b[0;32m      4\u001b[0m race \u001b[38;5;241m=\u001b[39m \u001b[38;5;124mr\u001b[39m\u001b[38;5;124m\"\u001b[39m\u001b[38;5;124mdata\u001b[39m\u001b[38;5;124m\\\u001b[39m\u001b[38;5;124mB0815.csv\u001b[39m\u001b[38;5;124m\"\u001b[39m\n\u001b[1;32m----> 6\u001b[0m data \u001b[38;5;241m=\u001b[39m \u001b[43mclean\u001b[49m\u001b[43m(\u001b[49m\u001b[43mcensus\u001b[49m\u001b[43m,\u001b[49m\u001b[43m \u001b[49m\u001b[43mrace\u001b[49m\u001b[43m)\u001b[49m\n",
      "Input \u001b[1;32mIn [1]\u001b[0m, in \u001b[0;36mclean\u001b[1;34m(census_data, race_data)\u001b[0m\n\u001b[0;32m      4\u001b[0m warnings\u001b[38;5;241m.\u001b[39m filterwarnings(\u001b[38;5;124m'\u001b[39m\u001b[38;5;124mignore\u001b[39m\u001b[38;5;124m'\u001b[39m)\n\u001b[0;32m      6\u001b[0m \u001b[38;5;66;03m# Only keep important columns\u001b[39;00m\n\u001b[1;32m----> 7\u001b[0m census_data \u001b[38;5;241m=\u001b[39m \u001b[43mcensus_data\u001b[49m\u001b[43m[\u001b[49m\u001b[43m[\u001b[49m\u001b[38;5;124;43m'\u001b[39;49m\u001b[38;5;124;43mlocation\u001b[39;49m\u001b[38;5;124;43m'\u001b[39;49m\u001b[43m,\u001b[49m\u001b[38;5;124;43m'\u001b[39;49m\u001b[38;5;124;43mlabel\u001b[39;49m\u001b[38;5;124;43m'\u001b[39;49m\u001b[43m,\u001b[49m\u001b[38;5;124;43m'\u001b[39;49m\u001b[38;5;124;43mestimate\u001b[39;49m\u001b[38;5;124;43m'\u001b[39;49m\u001b[43m,\u001b[49m\u001b[38;5;124;43m'\u001b[39;49m\u001b[38;5;124;43mmoe\u001b[39;49m\u001b[38;5;124;43m'\u001b[39;49m\u001b[43m]\u001b[49m\u001b[43m]\u001b[49m\n\u001b[0;32m      8\u001b[0m census_data[\u001b[38;5;124m'\u001b[39m\u001b[38;5;124mlabel\u001b[39m\u001b[38;5;124m'\u001b[39m] \u001b[38;5;241m=\u001b[39m census_data[\u001b[38;5;124m'\u001b[39m\u001b[38;5;124mlabel\u001b[39m\u001b[38;5;124m'\u001b[39m]\u001b[38;5;241m.\u001b[39mstr\u001b[38;5;241m.\u001b[39mreplace(\u001b[38;5;124m'\u001b[39m\u001b[38;5;124mEstimate\u001b[39m\u001b[38;5;124m'\u001b[39m, \u001b[38;5;124m'\u001b[39m\u001b[38;5;124m'\u001b[39m)\u001b[38;5;241m.\u001b[39mstr\u001b[38;5;241m.\u001b[39mreplace(\u001b[38;5;124m'\u001b[39m\u001b[38;5;124mTotal\u001b[39m\u001b[38;5;124m'\u001b[39m, \u001b[38;5;124m'\u001b[39m\u001b[38;5;124m'\u001b[39m)\u001b[38;5;241m.\u001b[39mstr\u001b[38;5;241m.\u001b[39mreplace(\u001b[38;5;124m'\u001b[39m\u001b[38;5;124m!!\u001b[39m\u001b[38;5;124m'\u001b[39m, \u001b[38;5;124m'\u001b[39m\u001b[38;5;124m'\u001b[39m)\u001b[38;5;241m.\u001b[39mstr\u001b[38;5;241m.\u001b[39mreplace(\u001b[38;5;124m'\u001b[39m\u001b[38;5;124m:\u001b[39m\u001b[38;5;124m'\u001b[39m, \u001b[38;5;124m'\u001b[39m\u001b[38;5;124m'\u001b[39m)\n\u001b[0;32m      9\u001b[0m census_data[\u001b[38;5;124m'\u001b[39m\u001b[38;5;124mlocation\u001b[39m\u001b[38;5;124m'\u001b[39m] \u001b[38;5;241m=\u001b[39m census_data[\u001b[38;5;124m'\u001b[39m\u001b[38;5;124mlocation\u001b[39m\u001b[38;5;124m'\u001b[39m]\u001b[38;5;241m.\u001b[39mstr\u001b[38;5;241m.\u001b[39mreplace(\u001b[38;5;124m'\u001b[39m\u001b[38;5;124m; St. Louis city; Missouri\u001b[39m\u001b[38;5;124m'\u001b[39m,\u001b[38;5;124m'\u001b[39m\u001b[38;5;124m'\u001b[39m)\n",
      "\u001b[1;31mTypeError\u001b[0m: string indices must be integers"
     ]
    }
   ],
   "source": [
    "import warnings\n",
    "\n",
    "census = r\"data\\B0119.csv\"\n",
    "race = r\"data\\B0815.csv\"\n",
    "\n",
    "data = clean(census, race)"
   ]
  },
  {
   "cell_type": "code",
   "execution_count": null,
   "id": "f88e5d02-f731-42a8-8f26-4fd2f9e77cdb",
   "metadata": {},
   "outputs": [],
   "source": []
  }
 ],
 "metadata": {
  "kernelspec": {
   "display_name": "Python 3 (ipykernel)",
   "language": "python",
   "name": "python3"
  },
  "language_info": {
   "codemirror_mode": {
    "name": "ipython",
    "version": 3
   },
   "file_extension": ".py",
   "mimetype": "text/x-python",
   "name": "python",
   "nbconvert_exporter": "python",
   "pygments_lexer": "ipython3",
   "version": "3.9.5"
  }
 },
 "nbformat": 4,
 "nbformat_minor": 5
}
