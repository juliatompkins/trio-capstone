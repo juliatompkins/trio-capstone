{
 "cells": [
  {
   "cell_type": "code",
   "execution_count": 11,
   "id": "c5040f1d",
   "metadata": {},
   "outputs": [],
   "source": [
    "import numpy as np\n",
    "import pandas as pd\n",
    "import random\n",
    "import warnings\n",
    "import matplotlib.pyplot as plt\n",
    "from scipy.optimize import minimize\n",
    "from sklearn.linear_model import LinearRegression\n",
    "import plotly.express as px\n",
    "%run data_cleaning.ipynb\n",
    "\n",
    "centroid_locations = pd.read_csv(\"/Users/dylanmack/Library/CloudStorage/OneDrive-WashingtonUniversityinSt.Louis/ESE 499/trio-capstone/data/CensusTractCentroids.csv\")\n",
    "metro_locations = pd.read_csv(\"/Users/dylanmack/Library/CloudStorage/OneDrive-WashingtonUniversityinSt.Louis/ESE 499/trio-capstone/data/MetroLinkStations_REGISTERED.csv\")\n",
    "north_south_locations = pd.read_csv(\"/Users/dylanmack/Library/CloudStorage/OneDrive-WashingtonUniversityinSt.Louis/ESE 499/trio-capstone/data/MetroLinkStations_NS.csv\")\n",
    "census_data = data = pd.read_csv(\"/Users/dylanmack/Library/CloudStorage/OneDrive-WashingtonUniversityinSt.Louis/ESE 499/trio-capstone/data/B08119_stl_city.csv\")\n",
    "race_data = pd.read_csv(\"/Users/dylanmack/Library/CloudStorage/OneDrive-WashingtonUniversityinSt.Louis/ESE 499/trio-capstone/data/B08105_stl_city.csv\")"
   ]
  },
  {
   "cell_type": "code",
   "execution_count": 12,
   "id": "f19884fd",
   "metadata": {},
   "outputs": [],
   "source": [
    "by_tract = clean(census_data, race_data)\n",
    "centroid_locations_small = centroid_locations[['NAMELSAD','INTPTLAT','INTPTLON']]\n",
    "centroid_locations_small = centroid_locations_small.rename(columns = {\"NAMELSAD\": \"location\", \"INTPTLAT\" : \"LAT\", \"INTPTLON\" : \"LON\"})\n",
    "full_data = by_tract.merge(centroid_locations_small, on='location')"
   ]
  },
  {
   "cell_type": "code",
   "execution_count": 13,
   "id": "6f9111f6",
   "metadata": {},
   "outputs": [
    {
     "data": {
      "text/html": [
       "<div>\n",
       "<style scoped>\n",
       "    .dataframe tbody tr th:only-of-type {\n",
       "        vertical-align: middle;\n",
       "    }\n",
       "\n",
       "    .dataframe tbody tr th {\n",
       "        vertical-align: top;\n",
       "    }\n",
       "\n",
       "    .dataframe thead th {\n",
       "        text-align: right;\n",
       "    }\n",
       "</style>\n",
       "<table border=\"1\" class=\"dataframe\">\n",
       "  <thead>\n",
       "    <tr style=\"text-align: right;\">\n",
       "      <th></th>\n",
       "      <th>location</th>\n",
       "      <th>estimate</th>\n",
       "      <th>transit weight</th>\n",
       "      <th>income weight</th>\n",
       "      <th>race weight</th>\n",
       "      <th>node id</th>\n",
       "      <th>LAT</th>\n",
       "      <th>LON</th>\n",
       "    </tr>\n",
       "  </thead>\n",
       "  <tbody>\n",
       "    <tr>\n",
       "      <th>0</th>\n",
       "      <td>Census Tract 1011</td>\n",
       "      <td>1039</td>\n",
       "      <td>0.003275</td>\n",
       "      <td>0.009653</td>\n",
       "      <td>0.007499</td>\n",
       "      <td>1011</td>\n",
       "      <td>38.554718</td>\n",
       "      <td>-90.273620</td>\n",
       "    </tr>\n",
       "    <tr>\n",
       "      <th>1</th>\n",
       "      <td>Census Tract 1012</td>\n",
       "      <td>1921</td>\n",
       "      <td>0.001162</td>\n",
       "      <td>0.009570</td>\n",
       "      <td>0.012480</td>\n",
       "      <td>1012</td>\n",
       "      <td>38.561824</td>\n",
       "      <td>-90.274863</td>\n",
       "    </tr>\n",
       "    <tr>\n",
       "      <th>2</th>\n",
       "      <td>Census Tract 1013</td>\n",
       "      <td>2161</td>\n",
       "      <td>0.003697</td>\n",
       "      <td>0.009560</td>\n",
       "      <td>0.013909</td>\n",
       "      <td>1013</td>\n",
       "      <td>38.566560</td>\n",
       "      <td>-90.264211</td>\n",
       "    </tr>\n",
       "    <tr>\n",
       "      <th>3</th>\n",
       "      <td>Census Tract 1014</td>\n",
       "      <td>1502</td>\n",
       "      <td>0.010036</td>\n",
       "      <td>0.009614</td>\n",
       "      <td>0.010099</td>\n",
       "      <td>1014</td>\n",
       "      <td>38.562243</td>\n",
       "      <td>-90.253522</td>\n",
       "    </tr>\n",
       "    <tr>\n",
       "      <th>4</th>\n",
       "      <td>Census Tract 1015</td>\n",
       "      <td>1318</td>\n",
       "      <td>0.003381</td>\n",
       "      <td>0.009645</td>\n",
       "      <td>0.008554</td>\n",
       "      <td>1015</td>\n",
       "      <td>38.548544</td>\n",
       "      <td>-90.264511</td>\n",
       "    </tr>\n",
       "    <tr>\n",
       "      <th>...</th>\n",
       "      <td>...</td>\n",
       "      <td>...</td>\n",
       "      <td>...</td>\n",
       "      <td>...</td>\n",
       "      <td>...</td>\n",
       "      <td>...</td>\n",
       "      <td>...</td>\n",
       "      <td>...</td>\n",
       "    </tr>\n",
       "    <tr>\n",
       "      <th>99</th>\n",
       "      <td>Census Tract 1274</td>\n",
       "      <td>2369</td>\n",
       "      <td>0.022502</td>\n",
       "      <td>0.009556</td>\n",
       "      <td>0.015377</td>\n",
       "      <td>1274</td>\n",
       "      <td>38.620159</td>\n",
       "      <td>-90.206053</td>\n",
       "    </tr>\n",
       "    <tr>\n",
       "      <th>100</th>\n",
       "      <td>Census Tract 1275</td>\n",
       "      <td>931</td>\n",
       "      <td>0.007817</td>\n",
       "      <td>0.009648</td>\n",
       "      <td>0.005992</td>\n",
       "      <td>1275</td>\n",
       "      <td>38.637493</td>\n",
       "      <td>-90.210272</td>\n",
       "    </tr>\n",
       "    <tr>\n",
       "      <th>101</th>\n",
       "      <td>Census Tract 1276</td>\n",
       "      <td>1683</td>\n",
       "      <td>0.002218</td>\n",
       "      <td>0.009568</td>\n",
       "      <td>0.010884</td>\n",
       "      <td>1276</td>\n",
       "      <td>38.603873</td>\n",
       "      <td>-90.199501</td>\n",
       "    </tr>\n",
       "    <tr>\n",
       "      <th>102</th>\n",
       "      <td>Census Tract 1277</td>\n",
       "      <td>832</td>\n",
       "      <td>0.018065</td>\n",
       "      <td>0.009668</td>\n",
       "      <td>0.005355</td>\n",
       "      <td>1277</td>\n",
       "      <td>38.652853</td>\n",
       "      <td>-90.228653</td>\n",
       "    </tr>\n",
       "    <tr>\n",
       "      <th>103</th>\n",
       "      <td>Census Tract 1278</td>\n",
       "      <td>1161</td>\n",
       "      <td>0.017008</td>\n",
       "      <td>0.009626</td>\n",
       "      <td>0.007737</td>\n",
       "      <td>1278</td>\n",
       "      <td>38.631952</td>\n",
       "      <td>-90.225920</td>\n",
       "    </tr>\n",
       "  </tbody>\n",
       "</table>\n",
       "<p>104 rows × 8 columns</p>\n",
       "</div>"
      ],
      "text/plain": [
       "              location  estimate  transit weight  income weight  race weight  \\\n",
       "0    Census Tract 1011      1039        0.003275       0.009653     0.007499   \n",
       "1    Census Tract 1012      1921        0.001162       0.009570     0.012480   \n",
       "2    Census Tract 1013      2161        0.003697       0.009560     0.013909   \n",
       "3    Census Tract 1014      1502        0.010036       0.009614     0.010099   \n",
       "4    Census Tract 1015      1318        0.003381       0.009645     0.008554   \n",
       "..                 ...       ...             ...            ...          ...   \n",
       "99   Census Tract 1274      2369        0.022502       0.009556     0.015377   \n",
       "100  Census Tract 1275       931        0.007817       0.009648     0.005992   \n",
       "101  Census Tract 1276      1683        0.002218       0.009568     0.010884   \n",
       "102  Census Tract 1277       832        0.018065       0.009668     0.005355   \n",
       "103  Census Tract 1278      1161        0.017008       0.009626     0.007737   \n",
       "\n",
       "    node id        LAT        LON  \n",
       "0      1011  38.554718 -90.273620  \n",
       "1      1012  38.561824 -90.274863  \n",
       "2      1013  38.566560 -90.264211  \n",
       "3      1014  38.562243 -90.253522  \n",
       "4      1015  38.548544 -90.264511  \n",
       "..      ...        ...        ...  \n",
       "99     1274  38.620159 -90.206053  \n",
       "100    1275  38.637493 -90.210272  \n",
       "101    1276  38.603873 -90.199501  \n",
       "102    1277  38.652853 -90.228653  \n",
       "103    1278  38.631952 -90.225920  \n",
       "\n",
       "[104 rows x 8 columns]"
      ]
     },
     "execution_count": 13,
     "metadata": {},
     "output_type": "execute_result"
    }
   ],
   "source": [
    "lat_bounds = (min(full_data['LAT']),max(full_data['LAT']))\n",
    "lon_bounds = (min(full_data['LON']),max(full_data['LON']))\n",
    "full_data"
   ]
  },
  {
   "cell_type": "code",
   "execution_count": 25,
   "id": "fcbe9e0e",
   "metadata": {},
   "outputs": [
    {
     "ename": "KeyboardInterrupt",
     "evalue": "",
     "output_type": "error",
     "traceback": [
      "\u001b[0;31m---------------------------------------------------------------------------\u001b[0m",
      "\u001b[0;31mKeyboardInterrupt\u001b[0m                         Traceback (most recent call last)",
      "Cell \u001b[0;32mIn[25], line 95\u001b[0m\n\u001b[1;32m     93\u001b[0m eval_metric1[i] \u001b[38;5;241m=\u001b[39m dist_to_nearest_stop_eval1(centroid_locations, rand_metros)\n\u001b[1;32m     94\u001b[0m eval_metric2[i] \u001b[38;5;241m=\u001b[39m dist_to_nearest_stop_eval2(centroid_locations, rand_metros)\n\u001b[0;32m---> 95\u001b[0m eval_metric3[i] \u001b[38;5;241m=\u001b[39m dist_to_nearest_stop_eval3(centroid_locations, rand_metros)\n\u001b[1;32m     96\u001b[0m eval_metric4[i] \u001b[38;5;241m=\u001b[39m dist_to_nearest_stop_eval4(centroid_locations, rand_metros)\n",
      "Cell \u001b[0;32mIn[25], line 48\u001b[0m, in \u001b[0;36mdist_to_nearest_stop_eval3\u001b[0;34m(centroid_locations, metro_locations)\u001b[0m\n\u001b[1;32m     46\u001b[0m closest_distance \u001b[38;5;241m=\u001b[39m \u001b[38;5;28mfloat\u001b[39m(\u001b[38;5;124m'\u001b[39m\u001b[38;5;124minf\u001b[39m\u001b[38;5;124m'\u001b[39m) \u001b[38;5;66;03m# initialize to infinity\u001b[39;00m\n\u001b[1;32m     47\u001b[0m \u001b[38;5;28;01mfor\u001b[39;00m j \u001b[38;5;129;01min\u001b[39;00m \u001b[38;5;28mrange\u001b[39m(\u001b[38;5;28mlen\u001b[39m(metro_locations)):\n\u001b[0;32m---> 48\u001b[0m     metro \u001b[38;5;241m=\u001b[39m np\u001b[38;5;241m.\u001b[39marray([metro_locations[j][\u001b[38;5;241m1\u001b[39m],metro_locations[j][\u001b[38;5;241m0\u001b[39m]])\n\u001b[1;32m     49\u001b[0m     diff_latlon \u001b[38;5;241m=\u001b[39m cent\u001b[38;5;241m-\u001b[39mmetro\n\u001b[1;32m     50\u001b[0m     diff_miles \u001b[38;5;241m=\u001b[39m np\u001b[38;5;241m.\u001b[39mcopy(diff_latlon)\n",
      "\u001b[0;31mKeyboardInterrupt\u001b[0m: "
     ]
    }
   ],
   "source": [
    "def dist_to_nearest_stop_eval1(centroid_locations, metro_locations):\n",
    "    shortest_distance = np.zeros(len(centroid_locations))\n",
    "    \n",
    "    for i in range(len(centroid_locations)):\n",
    "        cent = np.array([centroid_locations.INTPTLAT[i],centroid_locations.INTPTLON[i]])\n",
    "        closest_distance = float('inf') # initialize to infinity\n",
    "        for j in range(len(metro_locations)):\n",
    "            metro = np.array([metro_locations[j][1],metro_locations[j][0]])\n",
    "            diff_latlon = cent-metro\n",
    "            diff_miles = np.copy(diff_latlon)\n",
    "            diff_miles[0] = 69*diff_latlon[0]\n",
    "            diff_miles[1] = 54.6*diff_latlon[1]\n",
    "            distance = np.linalg.norm(diff_miles)\n",
    "            if (distance < closest_distance):\n",
    "                closest_distance = distance\n",
    "        shortest_distance[i] = closest_distance\n",
    "    \n",
    "    return np.sum(shortest_distance)/len(shortest_distance)\n",
    "\n",
    "\n",
    "def dist_to_nearest_stop_eval2(centroid_locations, metro_locations):\n",
    "    shortest_distance = np.zeros(len(centroid_locations))\n",
    "    \n",
    "    for i in range(len(centroid_locations)):\n",
    "        cent = np.array([centroid_locations.INTPTLAT[i],centroid_locations.INTPTLON[i]])\n",
    "        closest_distance = float('inf') # initialize to infinity\n",
    "        for j in range(len(metro_locations)):\n",
    "            metro = np.array([metro_locations[j][1],metro_locations[j][0]])\n",
    "            diff_latlon = cent-metro\n",
    "            diff_miles = np.copy(diff_latlon)\n",
    "            diff_miles[0] = 69*diff_latlon[0]\n",
    "            diff_miles[1] = 54.6*diff_latlon[1]\n",
    "            distance = np.linalg.norm(diff_miles)\n",
    "            if (distance < closest_distance):\n",
    "                closest_distance = distance\n",
    "        shortest_distance[i] = closest_distance\n",
    "    \n",
    "    return np.dot(shortest_distance, full_data['transit weight'])\n",
    "\n",
    "\n",
    "def dist_to_nearest_stop_eval3(centroid_locations, metro_locations):\n",
    "    shortest_distance = np.zeros(len(centroid_locations))\n",
    "    \n",
    "    for i in range(len(centroid_locations)):\n",
    "        cent = np.array([centroid_locations.INTPTLAT[i],centroid_locations.INTPTLON[i]])\n",
    "        closest_distance = float('inf') # initialize to infinity\n",
    "        for j in range(len(metro_locations)):\n",
    "            metro = np.array([metro_locations[j][1],metro_locations[j][0]])\n",
    "            diff_latlon = cent-metro\n",
    "            diff_miles = np.copy(diff_latlon)\n",
    "            diff_miles[0] = 69*diff_latlon[0]\n",
    "            diff_miles[1] = 54.6*diff_latlon[1]\n",
    "            distance = np.linalg.norm(diff_miles)\n",
    "            if (distance < closest_distance):\n",
    "                closest_distance = distance\n",
    "        shortest_distance[i] = closest_distance\n",
    "    \n",
    "    return np.dot(shortest_distance, full_data['income weight'])\n",
    "\n",
    "\n",
    "def dist_to_nearest_stop_eval4(centroid_locations, metro_locations):\n",
    "    shortest_distance = np.zeros(len(centroid_locations))\n",
    "    \n",
    "    for i in range(len(centroid_locations)):\n",
    "        cent = np.array([centroid_locations.INTPTLAT[i],centroid_locations.INTPTLON[i]])\n",
    "        closest_distance = float('inf') # initialize to infinity\n",
    "        for j in range(len(metro_locations)):\n",
    "            metro = np.array([metro_locations[j][1],metro_locations[j][0]])\n",
    "            diff_latlon = cent-metro\n",
    "            diff_miles = np.copy(diff_latlon)\n",
    "            diff_miles[0] = 69*diff_latlon[0]\n",
    "            diff_miles[1] = 54.6*diff_latlon[1]\n",
    "            distance = np.linalg.norm(diff_miles)\n",
    "            if (distance < closest_distance):\n",
    "                closest_distance = distance\n",
    "        shortest_distance[i] = closest_distance\n",
    "    \n",
    "    return np.dot(shortest_distance, full_data['race weight'])\n",
    "\n",
    "ensemble_size = 1000000\n",
    "num_stops = 12 #number of proposed north-south stops\n",
    "eval_metric1 = np.zeros(ensemble_size)\n",
    "eval_metric2 = np.zeros(ensemble_size)\n",
    "eval_metric3 = np.zeros(ensemble_size)\n",
    "eval_metric4 = np.zeros(ensemble_size)\n",
    "rand_metros = np.zeros([num_stops,2])\n",
    "\n",
    "for i in range(ensemble_size):\n",
    "    for j in range(num_stops):\n",
    "        rand_metros[j,0] = random.uniform(lon_bounds[0], lon_bounds[1])\n",
    "        rand_metros[j,1] = random.uniform(lat_bounds[0], lat_bounds[1])\n",
    "    \n",
    "    eval_metric1[i] = dist_to_nearest_stop_eval1(centroid_locations, rand_metros)\n",
    "    eval_metric2[i] = dist_to_nearest_stop_eval2(centroid_locations, rand_metros)\n",
    "    eval_metric3[i] = dist_to_nearest_stop_eval3(centroid_locations, rand_metros)\n",
    "    eval_metric4[i] = dist_to_nearest_stop_eval4(centroid_locations, rand_metros)\n",
    "    \n",
    "    "
   ]
  },
  {
   "cell_type": "code",
   "execution_count": 26,
   "id": "d61caa83",
   "metadata": {},
   "outputs": [
    {
     "data": {
      "text/plain": [
       "Text(0.5, 1.0, 'Distribution of Distance to Nearest Stop Metric for Randomly Assigned Metro Stops')"
      ]
     },
     "execution_count": 26,
     "metadata": {},
     "output_type": "execute_result"
    },
    {
     "data": {
      "image/png": "[encoded data removed]",
      "text/plain": [
       "<Figure size 640x480 with 1 Axes>"
      ]
     },
     "metadata": {},
     "output_type": "display_data"
    }
   ],
   "source": [
    "plt.hist(eval_metric1[eval_metric1 != 0], bins = 1000, density = True)\n",
    "plt.title(\"Distribution of Distance to Nearest Stop Metric for Randomly Assigned Metro Stops\")"
   ]
  },
  {
   "cell_type": "code",
   "execution_count": 27,
   "id": "7d15f1b0",
   "metadata": {},
   "outputs": [
    {
     "data": {
      "text/plain": [
       "24411"
      ]
     },
     "execution_count": 27,
     "metadata": {},
     "output_type": "execute_result"
    }
   ],
   "source": [
    "len(eval_metric1[eval_metric1 != 0])"
   ]
  },
  {
   "cell_type": "code",
   "execution_count": 32,
   "id": "77cfcd33",
   "metadata": {},
   "outputs": [
    {
     "data": {
      "image/png": "[encoded data removed]",
      "text/plain": [
       "<Figure size 640x480 with 2 Axes>"
      ]
     },
     "metadata": {},
     "output_type": "display_data"
    }
   ],
   "source": [
    "plt.hist2d(eval_metric1[eval_metric1 != 0], eval_metric2[eval_metric2 != 0], bins=(100, 100), cmap=plt.cm.jet, density = True)\n",
    "plt.colorbar(label='Density')\n",
    "plt.xlabel('Unweighted')\n",
    "plt.ylabel('Transit')\n",
    "plt.title('2D Histogram')\n",
    "\n",
    "# Overlay the line y = x\n",
    "plt.plot([-3, 3], [-3, 3], 'w--')  # Plotting y = x line (from -3 to 3)\n",
    "\n",
    "plt.show()"
   ]
  },
  {
   "cell_type": "code",
   "execution_count": null,
   "id": "f4767023",
   "metadata": {},
   "outputs": [],
   "source": []
  },
  {
   "cell_type": "code",
   "execution_count": 34,
   "id": "801eb197",
   "metadata": {},
   "outputs": [
    {
     "data": {
      "application/vnd.plotly.v1+json": {
       "config": {
        "plotlyServerURL": "https://plot.ly"
       },
       "data": [
        {
         "hovertemplate": "size=%{marker.size}<br>lat=%{lat}<br>long=%{lon}<extra></extra>",
         "lat": [
          38.681520313775394,
          38.66794038497722,
          38.61503694748,
          38.57472289486318,
          38.64299750351013,
          38.60459415395699,
          38.590424357396,
          38.629427334545014,
          38.64506889882569,
          38.64644988415907,
          38.68927690412289,
          38.5561316470218
         ],
         "legendgroup": "",
         "lon": [
          -90.19269811526908,
          -90.26882328526035,
          -90.28903156611439,
          -90.21578949708103,
          -90.20002781574637,
          -90.31003892661617,
          -90.28676643112193,
          -90.2258126465255,
          -90.26804059706637,
          -90.25442683484246,
          -90.28929742862154,
          -90.25759914925321
         ],
         "marker": {
          "color": "#636efa",
          "size": [
           1,
           1,
           1,
           1,
           1,
           1,
           1,
           1,
           1,
           1,
           1,
           1
          ],
          "sizemode": "area",
          "sizeref": 0.0044444444444444444
         },
         "mode": "markers",
         "name": "",
         "showlegend": false,
         "subplot": "mapbox",
         "type": "scattermapbox"
        }
       ],
       "layout": {
        "height": 750,
        "legend": {
         "itemsizing": "constant",
         "tracegroupgap": 0
        },
        "mapbox": {
         "center": {
          "lat": 38.62863260205278,
          "lon": -90.25486269112655
         },
         "domain": {
          "x": [
           0,
           1
          ],
          "y": [
           0,
           1
          ]
         },
         "style": "open-street-map",
         "zoom": 10
        },
        "margin": {
         "t": 60
        },
        "template": {
         "data": {
          "bar": [
           {
            "error_x": {
             "color": "#2a3f5f"
            },
            "error_y": {
             "color": "#2a3f5f"
            },
            "marker": {
             "line": {
              "color": "#E5ECF6",
              "width": 0.5
             },
             "pattern": {
              "fillmode": "overlay",
              "size": 10,
              "solidity": 0.2
             }
            },
            "type": "bar"
           }
          ],
          "barpolar": [
           {
            "marker": {
             "line": {
              "color": "#E5ECF6",
              "width": 0.5
             },
             "pattern": {
              "fillmode": "overlay",
              "size": 10,
              "solidity": 0.2
             }
            },
            "type": "barpolar"
           }
          ],
          "carpet": [
           {
            "aaxis": {
             "endlinecolor": "#2a3f5f",
             "gridcolor": "white",
             "linecolor": "white",
             "minorgridcolor": "white",
             "startlinecolor": "#2a3f5f"
            },
            "baxis": {
             "endlinecolor": "#2a3f5f",
             "gridcolor": "white",
             "linecolor": "white",
             "minorgridcolor": "white",
             "startlinecolor": "#2a3f5f"
            },
            "type": "carpet"
           }
          ],
          "choropleth": [
           {
            "colorbar": {
             "outlinewidth": 0,
             "ticks": ""
            },
            "type": "choropleth"
           }
          ],
          "contour": [
           {
            "colorbar": {
             "outlinewidth": 0,
             "ticks": ""
            },
            "colorscale": [
             [
              0,
              "#0d0887"
             ],
             [
              0.1111111111111111,
              "#46039f"
             ],
             [
              0.2222222222222222,
              "#7201a8"
             ],
             [
              0.3333333333333333,
              "#9c179e"
             ],
             [
              0.4444444444444444,
              "#bd3786"
             ],
             [
              0.5555555555555556,
              "#d8576b"
             ],
             [
              0.6666666666666666,
              "#ed7953"
             ],
             [
              0.7777777777777778,
              "#fb9f3a"
             ],
             [
              0.8888888888888888,
              "#fdca26"
             ],
             [
              1,
              "#f0f921"
             ]
            ],
            "type": "contour"
           }
          ],
          "contourcarpet": [
           {
            "colorbar": {
             "outlinewidth": 0,
             "ticks": ""
            },
            "type": "contourcarpet"
           }
          ],
          "heatmap": [
           {
            "colorbar": {
             "outlinewidth": 0,
             "ticks": ""
            },
            "colorscale": [
             [
              0,
              "#0d0887"
             ],
             [
              0.1111111111111111,
              "#46039f"
             ],
             [
              0.2222222222222222,
              "#7201a8"
             ],
             [
              0.3333333333333333,
              "#9c179e"
             ],
             [
              0.4444444444444444,
              "#bd3786"
             ],
             [
              0.5555555555555556,
              "#d8576b"
             ],
             [
              0.6666666666666666,
              "#ed7953"
             ],
             [
              0.7777777777777778,
              "#fb9f3a"
             ],
             [
              0.8888888888888888,
              "#fdca26"
             ],
             [
              1,
              "#f0f921"
             ]
            ],
            "type": "heatmap"
           }
          ],
          "heatmapgl": [
           {
            "colorbar": {
             "outlinewidth": 0,
             "ticks": ""
            },
            "colorscale": [
             [
              0,
              "#0d0887"
             ],
             [
              0.1111111111111111,
              "#46039f"
             ],
             [
              0.2222222222222222,
              "#7201a8"
             ],
             [
              0.3333333333333333,
              "#9c179e"
             ],
             [
              0.4444444444444444,
              "#bd3786"
             ],
             [
              0.5555555555555556,
              "#d8576b"
             ],
             [
              0.6666666666666666,
              "#ed7953"
             ],
             [
              0.7777777777777778,
              "#fb9f3a"
             ],
             [
              0.8888888888888888,
              "#fdca26"
             ],
             [
              1,
              "#f0f921"
             ]
            ],
            "type": "heatmapgl"
           }
          ],
          "histogram": [
           {
            "marker": {
             "pattern": {
              "fillmode": "overlay",
              "size": 10,
              "solidity": 0.2
             }
            },
            "type": "histogram"
           }
          ],
          "histogram2d": [
           {
            "colorbar": {
             "outlinewidth": 0,
             "ticks": ""
            },
            "colorscale": [
             [
              0,
              "#0d0887"
             ],
             [
              0.1111111111111111,
              "#46039f"
             ],
             [
              0.2222222222222222,
              "#7201a8"
             ],
             [
              0.3333333333333333,
              "#9c179e"
             ],
             [
              0.4444444444444444,
              "#bd3786"
             ],
             [
              0.5555555555555556,
              "#d8576b"
             ],
             [
              0.6666666666666666,
              "#ed7953"
             ],
             [
              0.7777777777777778,
              "#fb9f3a"
             ],
             [
              0.8888888888888888,
              "#fdca26"
             ],
             [
              1,
              "#f0f921"
             ]
            ],
            "type": "histogram2d"
           }
          ],
          "histogram2dcontour": [
           {
            "colorbar": {
             "outlinewidth": 0,
             "ticks": ""
            },
            "colorscale": [
             [
              0,
              "#0d0887"
             ],
             [
              0.1111111111111111,
              "#46039f"
             ],
             [
              0.2222222222222222,
              "#7201a8"
             ],
             [
              0.3333333333333333,
              "#9c179e"
             ],
             [
              0.4444444444444444,
              "#bd3786"
             ],
             [
              0.5555555555555556,
              "#d8576b"
             ],
             [
              0.6666666666666666,
              "#ed7953"
             ],
             [
              0.7777777777777778,
              "#fb9f3a"
             ],
             [
              0.8888888888888888,
              "#fdca26"
             ],
             [
              1,
              "#f0f921"
             ]
            ],
            "type": "histogram2dcontour"
           }
          ],
          "mesh3d": [
           {
            "colorbar": {
             "outlinewidth": 0,
             "ticks": ""
            },
            "type": "mesh3d"
           }
          ],
          "parcoords": [
           {
            "line": {
             "colorbar": {
              "outlinewidth": 0,
              "ticks": ""
             }
            },
            "type": "parcoords"
           }
          ],
          "pie": [
           {
            "automargin": true,
            "type": "pie"
           }
          ],
          "scatter": [
           {
            "fillpattern": {
             "fillmode": "overlay",
             "size": 10,
             "solidity": 0.2
            },
            "type": "scatter"
           }
          ],
          "scatter3d": [
           {
            "line": {
             "colorbar": {
              "outlinewidth": 0,
              "ticks": ""
             }
            },
            "marker": {
             "colorbar": {
              "outlinewidth": 0,
              "ticks": ""
             }
            },
            "type": "scatter3d"
           }
          ],
          "scattercarpet": [
           {
            "marker": {
             "colorbar": {
              "outlinewidth": 0,
              "ticks": ""
             }
            },
            "type": "scattercarpet"
           }
          ],
          "scattergeo": [
           {
            "marker": {
             "colorbar": {
              "outlinewidth": 0,
              "ticks": ""
             }
            },
            "type": "scattergeo"
           }
          ],
          "scattergl": [
           {
            "marker": {
             "colorbar": {
              "outlinewidth": 0,
              "ticks": ""
             }
            },
            "type": "scattergl"
           }
          ],
          "scattermapbox": [
           {
            "marker": {
             "colorbar": {
              "outlinewidth": 0,
              "ticks": ""
             }
            },
            "type": "scattermapbox"
           }
          ],
          "scatterpolar": [
           {
            "marker": {
             "colorbar": {
              "outlinewidth": 0,
              "ticks": ""
             }
            },
            "type": "scatterpolar"
           }
          ],
          "scatterpolargl": [
           {
            "marker": {
             "colorbar": {
              "outlinewidth": 0,
              "ticks": ""
             }
            },
            "type": "scatterpolargl"
           }
          ],
          "scatterternary": [
           {
            "marker": {
             "colorbar": {
              "outlinewidth": 0,
              "ticks": ""
             }
            },
            "type": "scatterternary"
           }
          ],
          "surface": [
           {
            "colorbar": {
             "outlinewidth": 0,
             "ticks": ""
            },
            "colorscale": [
             [
              0,
              "#0d0887"
             ],
             [
              0.1111111111111111,
              "#46039f"
             ],
             [
              0.2222222222222222,
              "#7201a8"
             ],
             [
              0.3333333333333333,
              "#9c179e"
             ],
             [
              0.4444444444444444,
              "#bd3786"
             ],
             [
              0.5555555555555556,
              "#d8576b"
             ],
             [
              0.6666666666666666,
              "#ed7953"
             ],
             [
              0.7777777777777778,
              "#fb9f3a"
             ],
             [
              0.8888888888888888,
              "#fdca26"
             ],
             [
              1,
              "#f0f921"
             ]
            ],
            "type": "surface"
           }
          ],
          "table": [
           {
            "cells": {
             "fill": {
              "color": "#EBF0F8"
             },
             "line": {
              "color": "white"
             }
            },
            "header": {
             "fill": {
              "color": "#C8D4E3"
             },
             "line": {
              "color": "white"
             }
            },
            "type": "table"
           }
          ]
         },
         "layout": {
          "annotationdefaults": {
           "arrowcolor": "#2a3f5f",
           "arrowhead": 0,
           "arrowwidth": 1
          },
          "autotypenumbers": "strict",
          "coloraxis": {
           "colorbar": {
            "outlinewidth": 0,
            "ticks": ""
           }
          },
          "colorscale": {
           "diverging": [
            [
             0,
             "#8e0152"
            ],
            [
             0.1,
             "#c51b7d"
            ],
            [
             0.2,
             "#de77ae"
            ],
            [
             0.3,
             "#f1b6da"
            ],
            [
             0.4,
             "#fde0ef"
            ],
            [
             0.5,
             "#f7f7f7"
            ],
            [
             0.6,
             "#e6f5d0"
            ],
            [
             0.7,
             "#b8e186"
            ],
            [
             0.8,
             "#7fbc41"
            ],
            [
             0.9,
             "#4d9221"
            ],
            [
             1,
             "#276419"
            ]
           ],
           "sequential": [
            [
             0,
             "#0d0887"
            ],
            [
             0.1111111111111111,
             "#46039f"
            ],
            [
             0.2222222222222222,
             "#7201a8"
            ],
            [
             0.3333333333333333,
             "#9c179e"
            ],
            [
             0.4444444444444444,
             "#bd3786"
            ],
            [
             0.5555555555555556,
             "#d8576b"
            ],
            [
             0.6666666666666666,
             "#ed7953"
            ],
            [
             0.7777777777777778,
             "#fb9f3a"
            ],
            [
             0.8888888888888888,
             "#fdca26"
            ],
            [
             1,
             "#f0f921"
            ]
           ],
           "sequentialminus": [
            [
             0,
             "#0d0887"
            ],
            [
             0.1111111111111111,
             "#46039f"
            ],
            [
             0.2222222222222222,
             "#7201a8"
            ],
            [
             0.3333333333333333,
             "#9c179e"
            ],
            [
             0.4444444444444444,
             "#bd3786"
            ],
            [
             0.5555555555555556,
             "#d8576b"
            ],
            [
             0.6666666666666666,
             "#ed7953"
            ],
            [
             0.7777777777777778,
             "#fb9f3a"
            ],
            [
             0.8888888888888888,
             "#fdca26"
            ],
            [
             1,
             "#f0f921"
            ]
           ]
          },
          "colorway": [
           "#636efa",
           "#EF553B",
           "#00cc96",
           "#ab63fa",
           "#FFA15A",
           "#19d3f3",
           "#FF6692",
           "#B6E880",
           "#FF97FF",
           "#FECB52"
          ],
          "font": {
           "color": "#2a3f5f"
          },
          "geo": {
           "bgcolor": "white",
           "lakecolor": "white",
           "landcolor": "#E5ECF6",
           "showlakes": true,
           "showland": true,
           "subunitcolor": "white"
          },
          "hoverlabel": {
           "align": "left"
          },
          "hovermode": "closest",
          "mapbox": {
           "style": "light"
          },
          "paper_bgcolor": "white",
          "plot_bgcolor": "#E5ECF6",
          "polar": {
           "angularaxis": {
            "gridcolor": "white",
            "linecolor": "white",
            "ticks": ""
           },
           "bgcolor": "#E5ECF6",
           "radialaxis": {
            "gridcolor": "white",
            "linecolor": "white",
            "ticks": ""
           }
          },
          "scene": {
           "xaxis": {
            "backgroundcolor": "#E5ECF6",
            "gridcolor": "white",
            "gridwidth": 2,
            "linecolor": "white",
            "showbackground": true,
            "ticks": "",
            "zerolinecolor": "white"
           },
           "yaxis": {
            "backgroundcolor": "#E5ECF6",
            "gridcolor": "white",
            "gridwidth": 2,
            "linecolor": "white",
            "showbackground": true,
            "ticks": "",
            "zerolinecolor": "white"
           },
           "zaxis": {
            "backgroundcolor": "#E5ECF6",
            "gridcolor": "white",
            "gridwidth": 2,
            "linecolor": "white",
            "showbackground": true,
            "ticks": "",
            "zerolinecolor": "white"
           }
          },
          "shapedefaults": {
           "line": {
            "color": "#2a3f5f"
           }
          },
          "ternary": {
           "aaxis": {
            "gridcolor": "white",
            "linecolor": "white",
            "ticks": ""
           },
           "baxis": {
            "gridcolor": "white",
            "linecolor": "white",
            "ticks": ""
           },
           "bgcolor": "#E5ECF6",
           "caxis": {
            "gridcolor": "white",
            "linecolor": "white",
            "ticks": ""
           }
          },
          "title": {
           "x": 0.05
          },
          "xaxis": {
           "automargin": true,
           "gridcolor": "white",
           "linecolor": "white",
           "ticks": "",
           "title": {
            "standoff": 15
           },
           "zerolinecolor": "white",
           "zerolinewidth": 2
          },
          "yaxis": {
           "automargin": true,
           "gridcolor": "white",
           "linecolor": "white",
           "ticks": "",
           "title": {
            "standoff": 15
           },
           "zerolinecolor": "white",
           "zerolinewidth": 2
          }
         }
        }
       }
      },
      "text/html": [
       "<div>                            <div id=\"76531ab2-4d01-474f-99c1-927804d58238\" class=\"plotly-graph-div\" style=\"height:750px; width:100%;\"></div>            <script type=\"text/javascript\">                require([\"plotly\"], function(Plotly) {                    window.PLOTLYENV=window.PLOTLYENV || {};                                    if (document.getElementById(\"76531ab2-4d01-474f-99c1-927804d58238\")) {                    Plotly.newPlot(                        \"76531ab2-4d01-474f-99c1-927804d58238\",                        [{\"hovertemplate\":\"size=%{marker.size}\\u003cbr\\u003elat=%{lat}\\u003cbr\\u003elong=%{lon}\\u003cextra\\u003e\\u003c\\u002fextra\\u003e\",\"lat\":[38.681520313775394,38.66794038497722,38.61503694748,38.57472289486318,38.64299750351013,38.60459415395699,38.590424357396,38.629427334545014,38.64506889882569,38.64644988415907,38.68927690412289,38.5561316470218],\"legendgroup\":\"\",\"lon\":[-90.19269811526908,-90.26882328526035,-90.28903156611439,-90.21578949708103,-90.20002781574637,-90.31003892661617,-90.28676643112193,-90.2258126465255,-90.26804059706637,-90.25442683484246,-90.28929742862154,-90.25759914925321],\"marker\":{\"color\":\"#636efa\",\"size\":[1,1,1,1,1,1,1,1,1,1,1,1],\"sizemode\":\"area\",\"sizeref\":0.0044444444444444444},\"mode\":\"markers\",\"name\":\"\",\"showlegend\":false,\"subplot\":\"mapbox\",\"type\":\"scattermapbox\"}],                        {\"template\":{\"data\":{\"histogram2dcontour\":[{\"type\":\"histogram2dcontour\",\"colorbar\":{\"outlinewidth\":0,\"ticks\":\"\"},\"colorscale\":[[0.0,\"#0d0887\"],[0.1111111111111111,\"#46039f\"],[0.2222222222222222,\"#7201a8\"],[0.3333333333333333,\"#9c179e\"],[0.4444444444444444,\"#bd3786\"],[0.5555555555555556,\"#d8576b\"],[0.6666666666666666,\"#ed7953\"],[0.7777777777777778,\"#fb9f3a\"],[0.8888888888888888,\"#fdca26\"],[1.0,\"#f0f921\"]]}],\"choropleth\":[{\"type\":\"choropleth\",\"colorbar\":{\"outlinewidth\":0,\"ticks\":\"\"}}],\"histogram2d\":[{\"type\":\"histogram2d\",\"colorbar\":{\"outlinewidth\":0,\"ticks\":\"\"},\"colorscale\":[[0.0,\"#0d0887\"],[0.1111111111111111,\"#46039f\"],[0.2222222222222222,\"#7201a8\"],[0.3333333333333333,\"#9c179e\"],[0.4444444444444444,\"#bd3786\"],[0.5555555555555556,\"#d8576b\"],[0.6666666666666666,\"#ed7953\"],[0.7777777777777778,\"#fb9f3a\"],[0.8888888888888888,\"#fdca26\"],[1.0,\"#f0f921\"]]}],\"heatmap\":[{\"type\":\"heatmap\",\"colorbar\":{\"outlinewidth\":0,\"ticks\":\"\"},\"colorscale\":[[0.0,\"#0d0887\"],[0.1111111111111111,\"#46039f\"],[0.2222222222222222,\"#7201a8\"],[0.3333333333333333,\"#9c179e\"],[0.4444444444444444,\"#bd3786\"],[0.5555555555555556,\"#d8576b\"],[0.6666666666666666,\"#ed7953\"],[0.7777777777777778,\"#fb9f3a\"],[0.8888888888888888,\"#fdca26\"],[1.0,\"#f0f921\"]]}],\"heatmapgl\":[{\"type\":\"heatmapgl\",\"colorbar\":{\"outlinewidth\":0,\"ticks\":\"\"},\"colorscale\":[[0.0,\"#0d0887\"],[0.1111111111111111,\"#46039f\"],[0.2222222222222222,\"#7201a8\"],[0.3333333333333333,\"#9c179e\"],[0.4444444444444444,\"#bd3786\"],[0.5555555555555556,\"#d8576b\"],[0.6666666666666666,\"#ed7953\"],[0.7777777777777778,\"#fb9f3a\"],[0.8888888888888888,\"#fdca26\"],[1.0,\"#f0f921\"]]}],\"contourcarpet\":[{\"type\":\"contourcarpet\",\"colorbar\":{\"outlinewidth\":0,\"ticks\":\"\"}}],\"contour\":[{\"type\":\"contour\",\"colorbar\":{\"outlinewidth\":0,\"ticks\":\"\"},\"colorscale\":[[0.0,\"#0d0887\"],[0.1111111111111111,\"#46039f\"],[0.2222222222222222,\"#7201a8\"],[0.3333333333333333,\"#9c179e\"],[0.4444444444444444,\"#bd3786\"],[0.5555555555555556,\"#d8576b\"],[0.6666666666666666,\"#ed7953\"],[0.7777777777777778,\"#fb9f3a\"],[0.8888888888888888,\"#fdca26\"],[1.0,\"#f0f921\"]]}],\"surface\":[{\"type\":\"surface\",\"colorbar\":{\"outlinewidth\":0,\"ticks\":\"\"},\"colorscale\":[[0.0,\"#0d0887\"],[0.1111111111111111,\"#46039f\"],[0.2222222222222222,\"#7201a8\"],[0.3333333333333333,\"#9c179e\"],[0.4444444444444444,\"#bd3786\"],[0.5555555555555556,\"#d8576b\"],[0.6666666666666666,\"#ed7953\"],[0.7777777777777778,\"#fb9f3a\"],[0.8888888888888888,\"#fdca26\"],[1.0,\"#f0f921\"]]}],\"mesh3d\":[{\"type\":\"mesh3d\",\"colorbar\":{\"outlinewidth\":0,\"ticks\":\"\"}}],\"scatter\":[{\"fillpattern\":{\"fillmode\":\"overlay\",\"size\":10,\"solidity\":0.2},\"type\":\"scatter\"}],\"parcoords\":[{\"type\":\"parcoords\",\"line\":{\"colorbar\":{\"outlinewidth\":0,\"ticks\":\"\"}}}],\"scatterpolargl\":[{\"type\":\"scatterpolargl\",\"marker\":{\"colorbar\":{\"outlinewidth\":0,\"ticks\":\"\"}}}],\"bar\":[{\"error_x\":{\"color\":\"#2a3f5f\"},\"error_y\":{\"color\":\"#2a3f5f\"},\"marker\":{\"line\":{\"color\":\"#E5ECF6\",\"width\":0.5},\"pattern\":{\"fillmode\":\"overlay\",\"size\":10,\"solidity\":0.2}},\"type\":\"bar\"}],\"scattergeo\":[{\"type\":\"scattergeo\",\"marker\":{\"colorbar\":{\"outlinewidth\":0,\"ticks\":\"\"}}}],\"scatterpolar\":[{\"type\":\"scatterpolar\",\"marker\":{\"colorbar\":{\"outlinewidth\":0,\"ticks\":\"\"}}}],\"histogram\":[{\"marker\":{\"pattern\":{\"fillmode\":\"overlay\",\"size\":10,\"solidity\":0.2}},\"type\":\"histogram\"}],\"scattergl\":[{\"type\":\"scattergl\",\"marker\":{\"colorbar\":{\"outlinewidth\":0,\"ticks\":\"\"}}}],\"scatter3d\":[{\"type\":\"scatter3d\",\"line\":{\"colorbar\":{\"outlinewidth\":0,\"ticks\":\"\"}},\"marker\":{\"colorbar\":{\"outlinewidth\":0,\"ticks\":\"\"}}}],\"scattermapbox\":[{\"type\":\"scattermapbox\",\"marker\":{\"colorbar\":{\"outlinewidth\":0,\"ticks\":\"\"}}}],\"scatterternary\":[{\"type\":\"scatterternary\",\"marker\":{\"colorbar\":{\"outlinewidth\":0,\"ticks\":\"\"}}}],\"scattercarpet\":[{\"type\":\"scattercarpet\",\"marker\":{\"colorbar\":{\"outlinewidth\":0,\"ticks\":\"\"}}}],\"carpet\":[{\"aaxis\":{\"endlinecolor\":\"#2a3f5f\",\"gridcolor\":\"white\",\"linecolor\":\"white\",\"minorgridcolor\":\"white\",\"startlinecolor\":\"#2a3f5f\"},\"baxis\":{\"endlinecolor\":\"#2a3f5f\",\"gridcolor\":\"white\",\"linecolor\":\"white\",\"minorgridcolor\":\"white\",\"startlinecolor\":\"#2a3f5f\"},\"type\":\"carpet\"}],\"table\":[{\"cells\":{\"fill\":{\"color\":\"#EBF0F8\"},\"line\":{\"color\":\"white\"}},\"header\":{\"fill\":{\"color\":\"#C8D4E3\"},\"line\":{\"color\":\"white\"}},\"type\":\"table\"}],\"barpolar\":[{\"marker\":{\"line\":{\"color\":\"#E5ECF6\",\"width\":0.5},\"pattern\":{\"fillmode\":\"overlay\",\"size\":10,\"solidity\":0.2}},\"type\":\"barpolar\"}],\"pie\":[{\"automargin\":true,\"type\":\"pie\"}]},\"layout\":{\"autotypenumbers\":\"strict\",\"colorway\":[\"#636efa\",\"#EF553B\",\"#00cc96\",\"#ab63fa\",\"#FFA15A\",\"#19d3f3\",\"#FF6692\",\"#B6E880\",\"#FF97FF\",\"#FECB52\"],\"font\":{\"color\":\"#2a3f5f\"},\"hovermode\":\"closest\",\"hoverlabel\":{\"align\":\"left\"},\"paper_bgcolor\":\"white\",\"plot_bgcolor\":\"#E5ECF6\",\"polar\":{\"bgcolor\":\"#E5ECF6\",\"angularaxis\":{\"gridcolor\":\"white\",\"linecolor\":\"white\",\"ticks\":\"\"},\"radialaxis\":{\"gridcolor\":\"white\",\"linecolor\":\"white\",\"ticks\":\"\"}},\"ternary\":{\"bgcolor\":\"#E5ECF6\",\"aaxis\":{\"gridcolor\":\"white\",\"linecolor\":\"white\",\"ticks\":\"\"},\"baxis\":{\"gridcolor\":\"white\",\"linecolor\":\"white\",\"ticks\":\"\"},\"caxis\":{\"gridcolor\":\"white\",\"linecolor\":\"white\",\"ticks\":\"\"}},\"coloraxis\":{\"colorbar\":{\"outlinewidth\":0,\"ticks\":\"\"}},\"colorscale\":{\"sequential\":[[0.0,\"#0d0887\"],[0.1111111111111111,\"#46039f\"],[0.2222222222222222,\"#7201a8\"],[0.3333333333333333,\"#9c179e\"],[0.4444444444444444,\"#bd3786\"],[0.5555555555555556,\"#d8576b\"],[0.6666666666666666,\"#ed7953\"],[0.7777777777777778,\"#fb9f3a\"],[0.8888888888888888,\"#fdca26\"],[1.0,\"#f0f921\"]],\"sequentialminus\":[[0.0,\"#0d0887\"],[0.1111111111111111,\"#46039f\"],[0.2222222222222222,\"#7201a8\"],[0.3333333333333333,\"#9c179e\"],[0.4444444444444444,\"#bd3786\"],[0.5555555555555556,\"#d8576b\"],[0.6666666666666666,\"#ed7953\"],[0.7777777777777778,\"#fb9f3a\"],[0.8888888888888888,\"#fdca26\"],[1.0,\"#f0f921\"]],\"diverging\":[[0,\"#8e0152\"],[0.1,\"#c51b7d\"],[0.2,\"#de77ae\"],[0.3,\"#f1b6da\"],[0.4,\"#fde0ef\"],[0.5,\"#f7f7f7\"],[0.6,\"#e6f5d0\"],[0.7,\"#b8e186\"],[0.8,\"#7fbc41\"],[0.9,\"#4d9221\"],[1,\"#276419\"]]},\"xaxis\":{\"gridcolor\":\"white\",\"linecolor\":\"white\",\"ticks\":\"\",\"title\":{\"standoff\":15},\"zerolinecolor\":\"white\",\"automargin\":true,\"zerolinewidth\":2},\"yaxis\":{\"gridcolor\":\"white\",\"linecolor\":\"white\",\"ticks\":\"\",\"title\":{\"standoff\":15},\"zerolinecolor\":\"white\",\"automargin\":true,\"zerolinewidth\":2},\"scene\":{\"xaxis\":{\"backgroundcolor\":\"#E5ECF6\",\"gridcolor\":\"white\",\"linecolor\":\"white\",\"showbackground\":true,\"ticks\":\"\",\"zerolinecolor\":\"white\",\"gridwidth\":2},\"yaxis\":{\"backgroundcolor\":\"#E5ECF6\",\"gridcolor\":\"white\",\"linecolor\":\"white\",\"showbackground\":true,\"ticks\":\"\",\"zerolinecolor\":\"white\",\"gridwidth\":2},\"zaxis\":{\"backgroundcolor\":\"#E5ECF6\",\"gridcolor\":\"white\",\"linecolor\":\"white\",\"showbackground\":true,\"ticks\":\"\",\"zerolinecolor\":\"white\",\"gridwidth\":2}},\"shapedefaults\":{\"line\":{\"color\":\"#2a3f5f\"}},\"annotationdefaults\":{\"arrowcolor\":\"#2a3f5f\",\"arrowhead\":0,\"arrowwidth\":1},\"geo\":{\"bgcolor\":\"white\",\"landcolor\":\"#E5ECF6\",\"subunitcolor\":\"white\",\"showland\":true,\"showlakes\":true,\"lakecolor\":\"white\"},\"title\":{\"x\":0.05},\"mapbox\":{\"style\":\"light\"}}},\"mapbox\":{\"domain\":{\"x\":[0.0,1.0],\"y\":[0.0,1.0]},\"center\":{\"lat\":38.62863260205278,\"lon\":-90.25486269112655},\"zoom\":10,\"style\":\"open-street-map\"},\"legend\":{\"tracegroupgap\":0,\"itemsizing\":\"constant\"},\"margin\":{\"t\":60},\"height\":750},                        {\"responsive\": true}                    ).then(function(){\n",
       "                            \n",
       "var gd = document.getElementById('76531ab2-4d01-474f-99c1-927804d58238');\n",
       "var x = new MutationObserver(function (mutations, observer) {{\n",
       "        var display = window.getComputedStyle(gd).display;\n",
       "        if (!display || display === 'none') {{\n",
       "            console.log([gd, 'removed!']);\n",
       "            Plotly.purge(gd);\n",
       "            observer.disconnect();\n",
       "        }}\n",
       "}});\n",
       "\n",
       "// Listen for the removal of the full notebook cells\n",
       "var notebookContainer = gd.closest('#notebook-container');\n",
       "if (notebookContainer) {{\n",
       "    x.observe(notebookContainer, {childList: true});\n",
       "}}\n",
       "\n",
       "// Listen for the clearing of the current output cell\n",
       "var outputEl = gd.closest('.output');\n",
       "if (outputEl) {{\n",
       "    x.observe(outputEl, {childList: true});\n",
       "}}\n",
       "\n",
       "                        })                };                });            </script>        </div>"
      ]
     },
     "metadata": {},
     "output_type": "display_data"
    }
   ],
   "source": [
    "cluster_centroids = pd.DataFrame(data = rand_metros, columns = [\"long\", \"lat\"])\n",
    "cluster_centroids['size'] = [1 for i in range(len(cluster_centroids))]\n",
    "\n",
    "fig = px.scatter_mapbox(cluster_centroids,\n",
    "                        lat='lat',\n",
    "                        lon='long',\n",
    "                        size='size',\n",
    "                        size_max=15,\n",
    "                        zoom=10,\n",
    "                        height=750)\n",
    "fig.update_layout(mapbox_style=\"open-street-map\")"
   ]
  },
  {
   "cell_type": "code",
   "execution_count": 8,
   "id": "49c2324b",
   "metadata": {},
   "outputs": [
    {
     "data": {
      "text/plain": [
       "Text(0.5, 1.0, 'Distribution of Distance to Nearest Stop Metric for Randomly Assigned Metro Stops with Fixed Longitude')"
      ]
     },
     "execution_count": 8,
     "metadata": {},
     "output_type": "execute_result"
    },
    {
     "data": {
      "image/png": "[encoded data removed]",
      "text/plain": [
       "<Figure size 640x480 with 1 Axes>"
      ]
     },
     "metadata": {},
     "output_type": "display_data"
    }
   ],
   "source": [
    "def dist_to_nearest_stop_eval(centroid_locations, metro_locations):\n",
    "    shortest_distance = np.zeros(len(centroid_locations))\n",
    "    \n",
    "    for i in range(len(centroid_locations)):\n",
    "        cent = np.array([centroid_locations.INTPTLAT[i],centroid_locations.INTPTLON[i]])\n",
    "        closest_distance = float('inf') # initialize to infinity\n",
    "        for j in range(len(metro_locations)):\n",
    "            metro = np.array([metro_locations[j][1],metro_locations[j][0]])\n",
    "            diff_latlon = cent-metro\n",
    "            diff_miles = np.copy(diff_latlon)\n",
    "            diff_miles[0] = 69*diff_latlon[0]\n",
    "            diff_miles[1] = 54.6*diff_latlon[1]\n",
    "            distance = np.linalg.norm(diff_miles)\n",
    "            if (distance < closest_distance):\n",
    "                closest_distance = distance\n",
    "        shortest_distance[i] = closest_distance\n",
    "    \n",
    "    return np.sum(shortest_distance)/len(shortest_distance)\n",
    "\n",
    "ensemble_size = 5000\n",
    "num_stops = 12 #number of proposed north-south stops\n",
    "eval_metric = np.zeros(ensemble_size)\n",
    "rand_metros = np.zeros([num_stops,2])\n",
    "\n",
    "for i in range(ensemble_size):\n",
    "    for j in range(num_stops):\n",
    "        rand_metros[j,0] = np.mean([lon_bounds[0], lon_bounds[1]])\n",
    "        rand_metros[j,1] = random.uniform(lat_bounds[0], lat_bounds[1])\n",
    "    \n",
    "    eval_metric[i] = dist_to_nearest_stop_eval(centroid_locations, rand_metros)\n",
    "    \n",
    "plt.hist(eval_metric[eval_metric != 0], bins = 1000, density = True)\n",
    "plt.title(\"Distribution of Distance to Nearest Stop Metric for Randomly Assigned Metro Stops with Fixed Longitude\")"
   ]
  },
  {
   "cell_type": "code",
   "execution_count": 6,
   "id": "2559d069",
   "metadata": {},
   "outputs": [
    {
     "name": "stdout",
     "output_type": "stream",
     "text": [
      "[ 3.2511 -2.5696]\n",
      "[ 3.2511 -2.5696]\n"
     ]
    },
    {
     "data": {
      "text/plain": [
       "286.06280920807177"
      ]
     },
     "execution_count": 6,
     "metadata": {},
     "output_type": "execute_result"
    }
   ],
   "source": [
    "chicago = np.array([41.8781, 87.6298]) #should be lattitude and then longitude\n",
    "stl = np.array([38.6270, 90.1994])\n",
    "\n",
    "test = chicago - stl\n",
    "print(test)\n",
    "test1 = np.copy(test)\n",
    "test1[0] = test[0]*69\n",
    "test1[1] = test[0]*54.6\n",
    "print(test)\n",
    "np.linalg.norm(test1)"
   ]
  },
  {
   "cell_type": "code",
   "execution_count": null,
   "id": "0413a142",
   "metadata": {},
   "outputs": [],
   "source": []
  }
 ],
 "metadata": {
  "kernelspec": {
   "display_name": "Python 3 (ipykernel)",
   "language": "python",
   "name": "python3"
  },
  "language_info": {
   "codemirror_mode": {
    "name": "ipython",
    "version": 3
   },
   "file_extension": ".py",
   "mimetype": "text/x-python",
   "name": "python",
   "nbconvert_exporter": "python",
   "pygments_lexer": "ipython3",
   "version": "3.11.7"
  }
 },
 "nbformat": 4,
 "nbformat_minor": 5
}
