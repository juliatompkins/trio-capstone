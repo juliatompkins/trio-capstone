{
 "cells": [
  {
   "cell_type": "code",
   "execution_count": 23,
   "id": "11701737",
   "metadata": {},
   "outputs": [],
   "source": [
    "import math\n",
    "import random\n",
    "import itertools\n",
    "import numpy as np\n",
    "import pandas as pd\n",
    "import matplotlib.pyplot as plt\n",
    "from scipy.optimize import minimize\n",
    "from sklearn.linear_model import LinearRegression\n",
    "import networkx as nx\n",
    "import warnings\n",
    "import geopandas as gpd\n",
    "from shapely.geometry import Point, LineString\n",
    "from matplotlib.colors import ListedColormap\n",
    "from shapely.geometry import MultiPoint\n",
    "import matplotlib.image as mpimg\n",
    "\n",
    "%run data_cleaning.ipynb"
   ]
  },
  {
   "cell_type": "code",
   "execution_count": 24,
   "id": "92cd76b6",
   "metadata": {},
   "outputs": [],
   "source": [
    "centroid_locations = pd.read_csv(r\"data\\CensusTractCentroids.csv\")\n",
    "metro_locations = pd.read_csv(r\"data\\MetroLinkStations_REGISTERED.csv\")\n",
    "north_south_locations = pd.read_csv(r\"data\\MetroLinkStations_NS.csv\")\n",
    "census_data = data = pd.read_csv(r\"data\\B08119_stl_city.csv\")\n",
    "race_data = pd.read_csv(r\"data\\B08105_stl_city.csv\")\n",
    "stl = nx.read_weighted_edgelist(r\"data\\weighted_dual_list\",delimiter='%',nodetype=str)"
   ]
  },
  {
   "cell_type": "code",
   "execution_count": 25,
   "id": "1bcdd6fa",
   "metadata": {},
   "outputs": [
    {
     "data": {
      "text/html": [
       "<div>\n",
       "<style scoped>\n",
       "    .dataframe tbody tr th:only-of-type {\n",
       "        vertical-align: middle;\n",
       "    }\n",
       "\n",
       "    .dataframe tbody tr th {\n",
       "        vertical-align: top;\n",
       "    }\n",
       "\n",
       "    .dataframe thead th {\n",
       "        text-align: right;\n",
       "    }\n",
       "</style>\n",
       "<table border=\"1\" class=\"dataframe\">\n",
       "  <thead>\n",
       "    <tr style=\"text-align: right;\">\n",
       "      <th></th>\n",
       "      <th>location</th>\n",
       "      <th>estimate</th>\n",
       "      <th>transit weight</th>\n",
       "      <th>income weight</th>\n",
       "      <th>race weight</th>\n",
       "      <th>node id</th>\n",
       "      <th>LAT</th>\n",
       "      <th>LON</th>\n",
       "    </tr>\n",
       "  </thead>\n",
       "  <tbody>\n",
       "    <tr>\n",
       "      <th>0</th>\n",
       "      <td>Census Tract 1011</td>\n",
       "      <td>1039</td>\n",
       "      <td>0.003275</td>\n",
       "      <td>0.009653</td>\n",
       "      <td>0.007003</td>\n",
       "      <td>1011</td>\n",
       "      <td>38.554718</td>\n",
       "      <td>-90.273620</td>\n",
       "    </tr>\n",
       "    <tr>\n",
       "      <th>1</th>\n",
       "      <td>Census Tract 1012</td>\n",
       "      <td>1921</td>\n",
       "      <td>0.001162</td>\n",
       "      <td>0.009570</td>\n",
       "      <td>0.007421</td>\n",
       "      <td>1012</td>\n",
       "      <td>38.561824</td>\n",
       "      <td>-90.274863</td>\n",
       "    </tr>\n",
       "    <tr>\n",
       "      <th>2</th>\n",
       "      <td>Census Tract 1013</td>\n",
       "      <td>2161</td>\n",
       "      <td>0.003697</td>\n",
       "      <td>0.009560</td>\n",
       "      <td>0.007639</td>\n",
       "      <td>1013</td>\n",
       "      <td>38.566560</td>\n",
       "      <td>-90.264211</td>\n",
       "    </tr>\n",
       "    <tr>\n",
       "      <th>3</th>\n",
       "      <td>Census Tract 1014</td>\n",
       "      <td>1502</td>\n",
       "      <td>0.010036</td>\n",
       "      <td>0.009614</td>\n",
       "      <td>0.008835</td>\n",
       "      <td>1014</td>\n",
       "      <td>38.562243</td>\n",
       "      <td>-90.253522</td>\n",
       "    </tr>\n",
       "    <tr>\n",
       "      <th>4</th>\n",
       "      <td>Census Tract 1015</td>\n",
       "      <td>1318</td>\n",
       "      <td>0.003381</td>\n",
       "      <td>0.009645</td>\n",
       "      <td>0.007579</td>\n",
       "      <td>1015</td>\n",
       "      <td>38.548544</td>\n",
       "      <td>-90.264511</td>\n",
       "    </tr>\n",
       "  </tbody>\n",
       "</table>\n",
       "</div>"
      ],
      "text/plain": [
       "            location  estimate  transit weight  income weight  race weight  \\\n",
       "0  Census Tract 1011      1039        0.003275       0.009653     0.007003   \n",
       "1  Census Tract 1012      1921        0.001162       0.009570     0.007421   \n",
       "2  Census Tract 1013      2161        0.003697       0.009560     0.007639   \n",
       "3  Census Tract 1014      1502        0.010036       0.009614     0.008835   \n",
       "4  Census Tract 1015      1318        0.003381       0.009645     0.007579   \n",
       "\n",
       "  node id        LAT        LON  \n",
       "0    1011  38.554718 -90.273620  \n",
       "1    1012  38.561824 -90.274863  \n",
       "2    1013  38.566560 -90.264211  \n",
       "3    1014  38.562243 -90.253522  \n",
       "4    1015  38.548544 -90.264511  "
      ]
     },
     "execution_count": 25,
     "metadata": {},
     "output_type": "execute_result"
    }
   ],
   "source": [
    "k = 14 #number of clusters/metro stops for all algorithms\n",
    "\n",
    "total_weight = 0\n",
    "for edge in stl.edges(data=True):\n",
    "    total_weight = total_weight + edge[2]['weight'] \n",
    "for edge in stl.edges(data=True):\n",
    "    stl[edge[0]][edge[1]]['weight'] = total_weight - edge[2]['weight']\n",
    "\n",
    "\n",
    "by_tract = clean(census_data, race_data)\n",
    "centroid_locations_small = centroid_locations[['NAMELSAD','INTPTLAT','INTPTLON']]\n",
    "centroid_locations_small = centroid_locations_small.rename(columns = {\"NAMELSAD\": \"location\", \"INTPTLAT\" : \"LAT\", \"INTPTLON\" : \"LON\"})\n",
    "full_data = by_tract.merge(centroid_locations_small, on='location')\n",
    "full_data.head()"
   ]
  },
  {
   "cell_type": "code",
   "execution_count": 26,
   "id": "0a608871",
   "metadata": {},
   "outputs": [
    {
     "data": {
      "text/plain": [
       "[<matplotlib.lines.Line2D at 0x279bacb0848>]"
      ]
     },
     "execution_count": 26,
     "metadata": {},
     "output_type": "execute_result"
    },
    {
     "data": {
      "image/png": "[encoded data removed]",
      "text/plain": [
       "<Figure size 640x480 with 1 Axes>"
      ]
     },
     "metadata": {},
     "output_type": "display_data"
    }
   ],
   "source": [
    "plt.plot(full_data['race weight'], full_data['income weight'], '.')"
   ]
  },
  {
   "cell_type": "code",
   "execution_count": null,
   "id": "28899a60",
   "metadata": {},
   "outputs": [],
   "source": []
  }
 ],
 "metadata": {
  "kernelspec": {
   "display_name": "Python 3 (ipykernel)",
   "language": "python",
   "name": "python3"
  },
  "language_info": {
   "codemirror_mode": {
    "name": "ipython",
    "version": 3
   },
   "file_extension": ".py",
   "mimetype": "text/x-python",
   "name": "python",
   "nbconvert_exporter": "python",
   "pygments_lexer": "ipython3",
   "version": "3.7.11"
  }
 },
 "nbformat": 4,
 "nbformat_minor": 5
}
