{
 "cells": [
  {
   "cell_type": "code",
   "execution_count": 29,
   "id": "99b33aad",
   "metadata": {},
   "outputs": [],
   "source": [
    "# Import necessary packages\n",
    "import pandas as pd\n",
    "import numpy as np\n",
    "import networkx as nx\n",
    "import matplotlib.pyplot as plt\n",
    "from numpy import random\n",
    "import gerrychain   \n",
    "from gerrychain import Graph, Partition, proposals, updaters, constraints, accept, MarkovChain\n",
    "from gerrychain.updaters import cut_edges, Tally\n",
    "from gerrychain.tree import recursive_tree_part, bipartition_tree\n",
    "from gerrychain.proposals import recom\n",
    "from gerrychain.accept import always_accept\n",
    "from gerrychain.constraints import contiguous\n",
    "from functools import partial\n",
    "import geopandas as gpd\n",
    "import warnings\n",
    "import itertools\n",
    "%run optimization_functions.ipynb\n",
    "%run data_cleaning.ipynb"
   ]
  },
  {
   "cell_type": "code",
   "execution_count": 30,
   "id": "fe5e9f34",
   "metadata": {
    "scrolled": false
   },
   "outputs": [],
   "source": [
    "\n",
    "\n",
    "# Get dual graph\n",
    "#stl = nx.read_weighted_edgelist(r\"C:\\Users\\dodie\\Downloads\\spring 2024\\trio-capstone\\data pulling code\\weighted_dual_list\",delimiter='%',nodetype=str)\n",
    "stl = nx.read_weighted_edgelist(\"/Users/dylanmack/Library/CloudStorage/OneDrive-WashingtonUniversityinSt.Louis/ESE 499/trio-capstone/data pulling code/weighted_dual_list\",delimiter='%',nodetype=str)\n",
    "\n",
    "\n",
    "# get population data and set node attributes\n",
    "#centroid_locations = pd.read_csv(r\"C:\\Users\\dodie\\Downloads\\spring 2024\\trio-capstone\\data\\CensusTractCentroids.csv\")\n",
    "#metro_locations = pd.read_csv(r\"C:\\Users\\dodie\\Downloads\\spring 2024\\trio-capstone\\data\\MetroLinkStations_REGISTERED.csv\")\n",
    "#north_south_locations = pd.read_csv(r\"C:\\Users\\dodie\\Downloads\\spring 2024\\trio-capstone\\data\\MetroLinkStations_NS.csv\")\n",
    "#census_data = data = pd.read_csv(r\"C:\\Users\\dodie\\Downloads\\spring 2024\\trio-capstone\\data\\B08119_stl_city.csv\")\n",
    "#race_data = pd.read_csv(r\"C:\\Users\\dodie\\Downloads\\spring 2024\\trio-capstone\\data\\B08105_stl_city.csv\")\n",
    "\n",
    "centroid_locations = pd.read_csv(\"/Users/dylanmack/Library/CloudStorage/OneDrive-WashingtonUniversityinSt.Louis/ESE 499/trio-capstone/data/CensusTractCentroids.csv\")\n",
    "metro_locations = pd.read_csv(\"/Users/dylanmack/Library/CloudStorage/OneDrive-WashingtonUniversityinSt.Louis/ESE 499/trio-capstone/data/MetroLinkStations_REGISTERED.csv\")\n",
    "north_south_locations = pd.read_csv(\"/Users/dylanmack/Library/CloudStorage/OneDrive-WashingtonUniversityinSt.Louis/ESE 499/trio-capstone/data/MetroLinkStations_NS.csv\")\n",
    "census_data = data = pd.read_csv(\"/Users/dylanmack/Library/CloudStorage/OneDrive-WashingtonUniversityinSt.Louis/ESE 499/trio-capstone/data/B08119_stl_city.csv\")\n",
    "race_data = pd.read_csv(\"/Users/dylanmack/Library/CloudStorage/OneDrive-WashingtonUniversityinSt.Louis/ESE 499/trio-capstone/data/B08105_stl_city.csv\")\n",
    "pop_centers = pd.read_csv(\"/Users/dylanmack/Library/CloudStorage/OneDrive-WashingtonUniversityinSt.Louis/ESE 499/trio-capstone/algorithms code/data/PopCenters.csv\")\n",
    "\n",
    "full_data = clean(census_data, race_data, pop_centers, centroid_locations, 'POP')\n",
    "\n",
    "pop_dict = {tract: pop for tract, pop in zip(full_data['node id'], full_data['estimate'])}\n",
    "race_weight_dict = {tract: weight for tract, weight in zip(full_data['node id'], full_data['race weight'])}\n",
    "nx.set_node_attributes(stl, pop_dict, 'TOTPOP')\n",
    "nx.set_node_attributes(stl, race_weight_dict, 'RACEWEIGHT')\n",
    "\n"
   ]
  },
  {
   "cell_type": "code",
   "execution_count": 31,
   "id": "18c92f11",
   "metadata": {},
   "outputs": [
    {
     "data": {
      "application/vnd.jupyter.widget-view+json": {
       "model_id": "651895441f3847db9659a2972e56553f",
       "version_major": 2,
       "version_minor": 0
      },
      "text/plain": [
       "  0%|          | 0/100000 [00:00<?, ?it/s]"
      ]
     },
     "metadata": {},
     "output_type": "display_data"
    }
   ],
   "source": [
    "## Make an initial districting plan\n",
    "mod_max = mod_max_weighted(stl,14)\n",
    "nx.write_gexf(mod_max, \"ensem_recom.gexf\")\n",
    "from_modmax = nx.read_gexf(\"/Users/dylanmack/Library/CloudStorage/OneDrive-WashingtonUniversityinSt.Louis/ESE 499/trio-capstone/algorithms code/ensem_recom.gexf\")\n",
    "initial_plan = {}\n",
    "for node in from_modmax.nodes():\n",
    "    initial_plan[node] = from_modmax.nodes[node]['cluster']\n",
    "\n",
    "## Set up random walk: First need to set up initial state as a Partition object\n",
    "## Includes the dual graph and some 'updaters' along with the assignment of vertices to districts\n",
    "initial_partition = Partition(\n",
    "    stl, # dual graph\n",
    "    assignment = initial_plan, #initial districting plan\n",
    "    updaters={\n",
    "    \"our cut edges\": cut_edges,  \n",
    "    \"district population\": Tally(\"TOTPOP\", alias = \"district population\"), # across districts, add total population\n",
    "    \"district BPOP\": Tally(\"RACEWEIGHT\", alias = \"total race weight\"),       \n",
    "})\n",
    "\n",
    "## How are you going to make one step?\n",
    "ideal_pop = sum(full_data['estimate'])/14\n",
    "pop_tolerance = 0.7 # THIS SHOULD BE WAY BETTER\n",
    "\n",
    "method = partial(\n",
    "    bipartition_tree,\n",
    "    max_attempts=100,\n",
    "    allow_pair_reselection=True\n",
    ")\n",
    "\n",
    "rw_proposal = partial(recom, ## how you choose a next districting plan\n",
    "                      pop_col = \"TOTPOP\", ## What data describes population? \n",
    "                      pop_target = ideal_pop, ## What the target/ideal population is for each district \n",
    "                                              ## (we calculated ideal pop above)\n",
    "                      epsilon = pop_tolerance,  ## how far from ideal population you can deviate\n",
    "                                              ## (we set pop_tolerance above)\n",
    "                      node_repeats = 1, ## How many times you attempt before resrating\n",
    "                      method = method\n",
    "                      )\n",
    "\n",
    "## Contraint on population: stay within pop_tolerance of ideal\n",
    "population_constraint = constraints.within_percent_of_ideal_population(\n",
    "    initial_partition, \n",
    "    pop_tolerance, \n",
    "    pop_key=\"district population\")\n",
    "\n",
    "## ACCEPTANCE FUNCTION\n",
    "def acceptance_fun(partition):\n",
    "    return True\n",
    "\n",
    "  \n",
    "    \n",
    "## Creating the chain\n",
    "# Set sup the chain, but doesn't run it!\n",
    "our_random_walk = MarkovChain(\n",
    "    proposal = rw_proposal, \n",
    "    constraints = [contiguous],\n",
    "    accept = acceptance_fun, # Accept every proposed plan that meets the population constraints\n",
    "    initial_state = initial_partition, \n",
    "    total_steps = 100000) \n",
    "\n",
    "# What ensembles we want to build\n",
    "cutedge_ensemble = []\n",
    "empty_chain = True\n",
    "for _ in our_random_walk:\n",
    "    empty_chain = False\n",
    "    break\n",
    "#print(empty_chain)\n",
    "\n",
    "# This actually runs the random walk!\n",
    "for part in our_random_walk.with_progress_bar():\n",
    "    # Add cutedges to cutedges ensemble\n",
    "    #cutedge_ensemble.append(len(part[\"our cut edges\"]))\n",
    "    stops = []\n",
    "    for clust in part.parts:\n",
    "        all_lons = 0\n",
    "        all_lats = 0\n",
    "        num = 0\n",
    "        for tract in part.parts[clust]:\n",
    "            all_lons = all_lons + full_data[full_data['node id'] == tract][['LON']].iloc[0][0]\n",
    "            all_lats = all_lats + full_data[full_data['node id'] == tract][['LAT']].iloc[0][0]\n",
    "            num = num + 1\n",
    "        stop_lon = all_lons/num\n",
    "        stop_lat = all_lats/num\n",
    "        stops.append(np.array([stop_lon, stop_lat]))\n",
    "    cutedge_ensemble.append(np.mean(dist_to_nearest_stop_eval(full_data, stops)))\n",
    "\n",
    "        \n",
    "\n",
    "    \n",
    "    \n",
    "#print(cutedge_ensemble)\n",
    "\n"
   ]
  },
  {
   "cell_type": "code",
   "execution_count": 34,
   "id": "926d5ac6",
   "metadata": {},
   "outputs": [
    {
     "data": {
      "image/png": "[encoded data removed]",
      "text/plain": [
       "<Figure size 640x480 with 1 Axes>"
      ]
     },
     "metadata": {},
     "output_type": "display_data"
    }
   ],
   "source": [
    "plt.figure()\n",
    "plt.hist(cutedge_ensemble, bins = 200)\n",
    "plt.show()"
   ]
  },
  {
   "cell_type": "code",
   "execution_count": null,
   "id": "1f81a1a5",
   "metadata": {},
   "outputs": [],
   "source": []
  }
 ],
 "metadata": {
  "kernelspec": {
   "display_name": "Python 3 (ipykernel)",
   "language": "python",
   "name": "python3"
  },
  "language_info": {
   "codemirror_mode": {
    "name": "ipython",
    "version": 3
   },
   "file_extension": ".py",
   "mimetype": "text/x-python",
   "name": "python",
   "nbconvert_exporter": "python",
   "pygments_lexer": "ipython3",
   "version": "3.11.7"
  }
 },
 "nbformat": 4,
 "nbformat_minor": 5
}
