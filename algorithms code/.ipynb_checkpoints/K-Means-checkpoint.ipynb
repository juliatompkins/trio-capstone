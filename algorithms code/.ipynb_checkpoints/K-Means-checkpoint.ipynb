{
 "cells": [
  {
   "cell_type": "code",
   "execution_count": 6,
   "id": "78856ea3",
   "metadata": {},
   "outputs": [],
   "source": [
    "import numpy as np\n",
    "import pandas as pd\n",
    "import random"
   ]
  },
  {
   "cell_type": "code",
   "execution_count": null,
   "id": "fe77e963",
   "metadata": {},
   "outputs": [],
   "source": [
    "# Need dataset with census tract locations and populations (or other weighting characteristic)\n",
    "# Format should be data[:,0] = x-coordinate, data[:, 1] = y-coordinate, data[:,2] = weighting characteristic (as a count, not normalized)"
   ]
  },
  {
   "cell_type": "code",
   "execution_count": 32,
   "id": "e3af9e95",
   "metadata": {},
   "outputs": [
    {
     "ename": "NameError",
     "evalue": "name 'data' is not defined",
     "output_type": "error",
     "traceback": [
      "\u001b[0;31m---------------------------------------------------------------------------\u001b[0m",
      "\u001b[0;31mNameError\u001b[0m                                 Traceback (most recent call last)",
      "Cell \u001b[0;32mIn[32], line 3\u001b[0m\n\u001b[1;32m      1\u001b[0m k \u001b[38;5;241m=\u001b[39m \u001b[38;5;241m38\u001b[39m\n\u001b[1;32m      2\u001b[0m stop \u001b[38;5;241m=\u001b[39m \u001b[38;5;28;01mFalse\u001b[39;00m\n\u001b[0;32m----> 3\u001b[0m labels \u001b[38;5;241m=\u001b[39m np\u001b[38;5;241m.\u001b[39mzeros(\u001b[38;5;28mlen\u001b[39m(data))\n\u001b[1;32m      4\u001b[0m centroids \u001b[38;5;241m=\u001b[39m np\u001b[38;5;241m.\u001b[39mzeros([k, \u001b[38;5;241m2\u001b[39m])\n\u001b[1;32m      5\u001b[0m \u001b[38;5;28;01mfor\u001b[39;00m i \u001b[38;5;129;01min\u001b[39;00m \u001b[38;5;28mrange\u001b[39m(centroids):\n",
      "\u001b[0;31mNameError\u001b[0m: name 'data' is not defined"
     ]
    }
   ],
   "source": [
    "k = 38\n",
    "stop = False\n",
    "labels = np.zeros(len(data))\n",
    "centroids = np.zeros([k, 2])\n",
    "for i in range(centroids):\n",
    "    rand = random.randint(1, len(data)) # random initialization of centroids someone plz help\n",
    "\n",
    "while (not stop):\n",
    "    old_labels = labels\n",
    "    \n",
    "    # Calculating labels by finding nearest centroid for each census tract\n",
    "    for i in range(len(data)):\n",
    "        closest_distance = float('inf')\n",
    "        tract_center = np.array([data[i,0], data[i, 1]])\n",
    "        for j in range(len(centroids)):\n",
    "            centroid = np.array([centroids[i,0], centroids[i,1]])\n",
    "            dist = np.linalg.norm(tract_center - centroid)\n",
    "            if (dist < closest_distance):\n",
    "                closest_distance = dist\n",
    "                labels[i] = j\n",
    "    \n",
    "    # Check if any of the labels changed\n",
    "    all_same = True\n",
    "    for i in range(len(labels)):\n",
    "        if (labels[i] != old_label[i]):\n",
    "            all_same = False\n",
    "    if (all_same):\n",
    "        stop = True\n",
    "    \n",
    "    # updating centroid locations as the (weighted?) mean of each census tract in its cluster\n",
    "    new_centroids = np.zeros([k,2])\n",
    "    for i in range(len(centroids)):\n",
    "        weights = []\n",
    "        cluster = []\n",
    "        for j in range(len(data)):\n",
    "            if (labels[j] == i):\n",
    "                weights.append(data[j, 2]) # I think there's an issue here where the weights aren't guaranteed to sum to 1 because the clusters will change between iterations\n",
    "                cluster.append(np.array([data[j,0], data[j,1]]))\n",
    "        new_x = [point[0] for point in cluster]\n",
    "        new_y = [point[1] for point in cluster]\n",
    "        normalized_weights = np.array(weights)/np.sum(weights)\n",
    "        new_centroids[i,0] = np.dot(normalized_weights, new_x)\n",
    "        new_centroids[i,1] = np.dot(normalized_weights, new_y)\n",
    "    \n",
    "    centroids = new_centroids"
   ]
  },
  {
   "cell_type": "code",
   "execution_count": 41,
   "id": "a93967af",
   "metadata": {},
   "outputs": [],
   "source": [
    "test = []\n",
    "test.append(1)\n",
    "test.append(2)\n"
   ]
  },
  {
   "cell_type": "code",
   "execution_count": 45,
   "id": "e7bc1cfd",
   "metadata": {},
   "outputs": [
    {
     "data": {
      "text/plain": [
       "numpy.ndarray"
      ]
     },
     "execution_count": 45,
     "metadata": {},
     "output_type": "execute_result"
    }
   ],
   "source": [
    "test2 = np.array(test)/np.sum(test)\n",
    "type(test2)"
   ]
  },
  {
   "cell_type": "code",
   "execution_count": null,
   "id": "4d8dc2ce",
   "metadata": {},
   "outputs": [],
   "source": []
  }
 ],
 "metadata": {
  "kernelspec": {
   "display_name": "Python 3 (ipykernel)",
   "language": "python",
   "name": "python3"
  },
  "language_info": {
   "codemirror_mode": {
    "name": "ipython",
    "version": 3
   },
   "file_extension": ".py",
   "mimetype": "text/x-python",
   "name": "python",
   "nbconvert_exporter": "python",
   "pygments_lexer": "ipython3",
   "version": "3.11.7"
  }
 },
 "nbformat": 4,
 "nbformat_minor": 5
}
