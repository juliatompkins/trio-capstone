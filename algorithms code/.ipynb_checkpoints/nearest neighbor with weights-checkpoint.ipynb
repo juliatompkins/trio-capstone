{
 "cells": [
  {
   "cell_type": "code",
   "execution_count": 1,
   "id": "0c0ee115",
   "metadata": {},
   "outputs": [],
   "source": [
    "import numpy as np\n",
    "import pandas as pd"
   ]
  },
  {
   "cell_type": "code",
   "execution_count": 2,
   "id": "cd358203",
   "metadata": {},
   "outputs": [],
   "source": [
    "# Loading data\n",
    "centroid_locations = pd.read_csv(\"/Users/dylanmack/Library/CloudStorage/OneDrive-WashingtonUniversityinSt.Louis/ESE 499/trio-capstone/data/CensusTractCentroids.csv\")\n",
    "metro_locations = pd.read_csv(\"/Users/dylanmack/Library/CloudStorage/OneDrive-WashingtonUniversityinSt.Louis/ESE 499/trio-capstone/data/MetroLinkStations_REGISTERED.csv\")\n",
    "# eventually, get the number of people taking public transportation in each tract to weight the nearest neighbor calculation"
   ]
  },
  {
   "cell_type": "code",
   "execution_count": 9,
   "id": "bdc69c90",
   "metadata": {},
   "outputs": [
    {
     "name": "stdout",
     "output_type": "stream",
     "text": [
      "3.324203401197435\n"
     ]
    }
   ],
   "source": [
    "# Unweighted sum of distances from each census tract centroid to nearest metro stop in lat/lon units\n",
    "closest_metro_loc = np.zeros([len(centroid_locations), 2])\n",
    "closest_metro_id = np.zeros(len(centroid_locations))\n",
    "shortest_distance = np.zeros(len(centroid_locations))\n",
    "for i in range(len(centroid_locations)):\n",
    "    cent = np.array([centroid_locations.INTPTLAT[i],centroid_locations.INTPTLON[i]])\n",
    "    closest_distance = float('inf') \n",
    "    for j in range(len(metro_locations)):\n",
    "        metro = np.array([metro_locations.Y[j],metro_locations.X[j]])\n",
    "        distance = np.linalg.norm(cent-metro)\n",
    "        if (distance < closest_distance):\n",
    "            shortest_distance[i] = distance\n",
    "            closest_distance = distance\n",
    "            closest_metro_loc[i,0] = metro[0]\n",
    "            closest_metro_loc[i,1] = metro[1]\n",
    "            closest_metro_id[i] = metro_locations.StopID[j]\n",
    "            \n",
    "nn_score = np.sum(shortest_distance)        \n",
    "print(nn_score)"
   ]
  },
  {
   "cell_type": "code",
   "execution_count": 4,
   "id": "cc5d6b40",
   "metadata": {},
   "outputs": [],
   "source": [
    "# Function to calculate the sum of weighted nearest neighbors\n",
    "def sum_nearest_neighbor(weights):\n",
    "    nn_score = 0\n",
    "    closest_metro_loc = np.zeros([len(centroid_locations), 2])\n",
    "    closest_metro_id = np.zeros(len(centroid_locations))\n",
    "    shortest_distance = np.zeros(len(centroid_locations))\n",
    "    for i in range(len(centroid_locations)):\n",
    "        cent = np.array([centroid_locations.INTPTLAT[i],centroid_locations.INTPTLON[i]])\n",
    "        closest_distance = float('inf') #replace this with infinity?\n",
    "        for j in range(len(metro_locations)):\n",
    "            metro = np.array([metro_locations.Y[j],metro_locations.X[j]])\n",
    "            distance = np.linalg.norm(cent-metro)\n",
    "            if (distance < closest_distance):\n",
    "                shortest_distance[i] = distance\n",
    "                closest_distance = distance\n",
    "                closest_metro_loc[i,0] = metro[0]\n",
    "                closest_metro_loc[i,1] = metro[1]\n",
    "                closest_metro_id[i] = metro_locations.StopID[j]\n",
    "    nn_score = np.dot(weights, shortest_distance)\n",
    "    return(nn_score)"
   ]
  },
  {
   "cell_type": "code",
   "execution_count": 7,
   "id": "47f8e134",
   "metadata": {},
   "outputs": [
    {
     "name": "stdout",
     "output_type": "stream",
     "text": [
      "0.03196349424228302\n"
     ]
    }
   ],
   "source": [
    "# When the weights are one and the total is divided by the number of census tracts,\n",
    "# this becomes the average lon/lat distance from a centroid to the closest metro stop\n",
    "avg_nearest_dist = sum_nearest_neighbor(np.ones(len(centroid_locations)))/len(centroid_locations)\n",
    "print(avg_nearest_dist)"
   ]
  },
  {
   "cell_type": "code",
   "execution_count": null,
   "id": "5fea8289",
   "metadata": {},
   "outputs": [],
   "source": []
  },
  {
   "cell_type": "code",
   "execution_count": null,
   "id": "f80c0f59",
   "metadata": {},
   "outputs": [],
   "source": []
  }
 ],
 "metadata": {
  "kernelspec": {
   "display_name": "Python 3 (ipykernel)",
   "language": "python",
   "name": "python3"
  },
  "language_info": {
   "codemirror_mode": {
    "name": "ipython",
    "version": 3
   },
   "file_extension": ".py",
   "mimetype": "text/x-python",
   "name": "python",
   "nbconvert_exporter": "python",
   "pygments_lexer": "ipython3",
   "version": "3.11.7"
  }
 },
 "nbformat": 4,
 "nbformat_minor": 5
}
