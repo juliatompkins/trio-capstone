{
 "cells": [
  {
   "cell_type": "code",
   "execution_count": 8,
   "id": "0c0ee115",
   "metadata": {},
   "outputs": [],
   "source": [
    "import numpy as np\n",
    "import pandas as pd\n",
    "import matplotlib.pyplot as plt\n",
    "import warnings"
   ]
  },
  {
   "cell_type": "code",
   "execution_count": 2,
   "id": "cd358203",
   "metadata": {
    "scrolled": true
   },
   "outputs": [],
   "source": [
    "# Loading data\n",
    "\n",
    "#centroid_locations = pd.read_csv(\"/Users/dylanmack/Library/CloudStorage/OneDrive-WashingtonUniversityinSt.Louis/ESE 499/trio-capstone/data/CensusTractCentroids.csv\")\n",
    "#metro_locations = pd.read_csv(\"/Users/dylanmack/Library/CloudStorage/OneDrive-WashingtonUniversityinSt.Louis/ESE 499/trio-capstone/data/MetroLinkStations_REGISTERED.csv\")\n",
    "#census_data = data = pd.read_csv(\"/Users/dylanmack/Library/CloudStorage/OneDrive-WashingtonUniversityinSt.Louis/ESE 499/trio-capstone/data/B08119_stl_city.csv\")\n",
    "\n",
    "centroid_locations = pd.read_csv(r\"C:\\Users\\dodie\\Downloads\\spring 2024\\trio-capstone\\data\\CensusTractCentroids.csv\")\n",
    "metro_locations = pd.read_csv(r\"C:\\Users\\dodie\\Downloads\\spring 2024\\trio-capstone\\data\\MetroLinkStations_REGISTERED.csv\")\n",
    "census_data = data = pd.read_csv(r\"C:\\Users\\dodie\\Downloads\\spring 2024\\trio-capstone\\data\\B08119_stl_city.csv\")\n",
    "\n",
    "# eventually, get the number of people taking public transportation in each tract to weight the nearest neighbor calculation"
   ]
  },
  {
   "cell_type": "code",
   "execution_count": 9,
   "id": "49f662f6",
   "metadata": {},
   "outputs": [
    {
     "data": {
      "text/html": [
       "<div>\n",
       "<style scoped>\n",
       "    .dataframe tbody tr th:only-of-type {\n",
       "        vertical-align: middle;\n",
       "    }\n",
       "\n",
       "    .dataframe tbody tr th {\n",
       "        vertical-align: top;\n",
       "    }\n",
       "\n",
       "    .dataframe thead th {\n",
       "        text-align: right;\n",
       "    }\n",
       "</style>\n",
       "<table border=\"1\" class=\"dataframe\">\n",
       "  <thead>\n",
       "    <tr style=\"text-align: right;\">\n",
       "      <th></th>\n",
       "      <th>location</th>\n",
       "      <th>estimate</th>\n",
       "      <th>public transport %</th>\n",
       "    </tr>\n",
       "  </thead>\n",
       "  <tbody>\n",
       "    <tr>\n",
       "      <th>0</th>\n",
       "      <td>Census Tract 1011</td>\n",
       "      <td>1039</td>\n",
       "      <td>0.029836</td>\n",
       "    </tr>\n",
       "    <tr>\n",
       "      <th>1</th>\n",
       "      <td>Census Tract 1012</td>\n",
       "      <td>1921</td>\n",
       "      <td>0.005726</td>\n",
       "    </tr>\n",
       "    <tr>\n",
       "      <th>2</th>\n",
       "      <td>Census Tract 1013</td>\n",
       "      <td>2161</td>\n",
       "      <td>0.016196</td>\n",
       "    </tr>\n",
       "    <tr>\n",
       "      <th>3</th>\n",
       "      <td>Census Tract 1014</td>\n",
       "      <td>1502</td>\n",
       "      <td>0.063249</td>\n",
       "    </tr>\n",
       "    <tr>\n",
       "      <th>4</th>\n",
       "      <td>Census Tract 1015</td>\n",
       "      <td>1318</td>\n",
       "      <td>0.024279</td>\n",
       "    </tr>\n",
       "  </tbody>\n",
       "</table>\n",
       "</div>"
      ],
      "text/plain": [
       "            location  estimate  public transport %\n",
       "0  Census Tract 1011      1039            0.029836\n",
       "1  Census Tract 1012      1921            0.005726\n",
       "2  Census Tract 1013      2161            0.016196\n",
       "3  Census Tract 1014      1502            0.063249\n",
       "4  Census Tract 1015      1318            0.024279"
      ]
     },
     "execution_count": 9,
     "metadata": {},
     "output_type": "execute_result"
    }
   ],
   "source": [
    "# Working with census data\n",
    "\n",
    "warnings. filterwarnings('ignore')\n",
    "\n",
    "# Only keep important columns\n",
    "census_data = census_data[['location','label','estimate','moe']]\n",
    "census_data['label'] = census_data['label'].str.replace('Estimate', '').str.replace('Total', '').str.replace('!!', '').str.replace(':', '')\n",
    "census_data['location'] = census_data['location'].str.replace('; St. Louis city; Missouri','')\n",
    "\n",
    "# Filter out aggregate columns\n",
    "all_totals = census_data[census_data['label']=='']\n",
    "trans_totals_mask = ~census_data['label'].astype(str).str.contains('[$]')\n",
    "trans_totals = census_data.loc[trans_totals_mask][1:]\n",
    "income_totals = census_data[census_data['label'].str.startswith(\"$\")]\n",
    "not_to_include = pd.concat([trans_totals, income_totals, all_totals])\n",
    "merged_df = pd.merge(census_data, not_to_include, how='left', indicator=True)\n",
    "no_totals = merged_df[merged_df['_merge'] == 'left_only'].drop(columns=['_merge'])[1:]\n",
    "split_data = no_totals['label'].str.split('$', 1, expand=True)\n",
    "no_totals[['transportation', 'income']] = split_data\n",
    "no_totals.drop(columns=['label'], inplace=True)\n",
    "no_totals['income'] = '$' + no_totals['income']\n",
    "from_this = no_totals['income'].unique()\n",
    "to_this = [1, 10000, 15000, 25000, 35000, 50000, 65000, 75000]\n",
    "no_totals['avg income'] = no_totals['income'].replace(from_this, to_this)\n",
    "clean_census_data = no_totals\n",
    "\n",
    "# Group by census tract and mode of transportation\n",
    "by_tract_trans = clean_census_data.groupby(['location','transportation'])['estimate'].sum()\n",
    "\n",
    "# Find percentage of people who take public transport in each tract\n",
    "tract_pops = clean_census_data.groupby('location', as_index = False)['estimate'].sum()['estimate'].tolist()\n",
    "public_transit_pops = clean_census_data[clean_census_data['transportation']=='Public transportation (excluding taxicab)'].groupby(['location','transportation'], as_index = False)['estimate'].sum()['estimate'].tolist()\n",
    "\n",
    "pct_public_trans = []\n",
    "for i in range(len(tract_pops)):\n",
    "    pct_public_trans.append(public_transit_pops[i]/tract_pops[i])\n",
    "\n",
    "# Add percentages back in to groupby\n",
    "percent_by_tract = clean_census_data.groupby('location', as_index = False)['estimate'].sum()\n",
    "percent_by_tract['public transport %'] = pct_public_trans\n",
    "\n",
    "    \n",
    "percent_by_tract.head()"
   ]
  },
  {
   "cell_type": "code",
   "execution_count": 4,
   "id": "bdc69c90",
   "metadata": {},
   "outputs": [],
   "source": [
    "# Unweighted sum of distances from each census tract centroid to nearest metro stop in lat/lon units\n",
    "\n",
    "def dist_to_nearest_stop(centroid_locations, metro_locations):\n",
    "    closest_metro_loc = np.zeros([len(centroid_locations), 2]) # latitude and longitude\n",
    "    closest_metro_id = np.zeros(len(centroid_locations))\n",
    "    shortest_distance = np.zeros(len(centroid_locations))\n",
    "    \n",
    "    for i in range(len(centroid_locations)):\n",
    "        cent = np.array([centroid_locations.INTPTLAT[i],centroid_locations.INTPTLON[i]])\n",
    "        closest_distance = float('inf') # initialize to infinity\n",
    "        for j in range(len(metro_locations)):\n",
    "            metro = np.array([metro_locations.Y[j],metro_locations.X[j]])\n",
    "            distance = np.linalg.norm(cent-metro)\n",
    "            if (distance < closest_distance):\n",
    "                closest_distance = distance\n",
    "                closest_metro_loc[i,0] = metro[0]\n",
    "                closest_metro_loc[i,1] = metro[1]\n",
    "                closest_metro_id[i] = metro_locations.StopID[j]\n",
    "        shortest_distance[i] = closest_distance\n",
    "    \n",
    "    return closest_metro_loc, closest_metro_id, shortest_distance"
   ]
  },
  {
   "cell_type": "code",
   "execution_count": 5,
   "id": "cc5d6b40",
   "metadata": {},
   "outputs": [
    {
     "name": "stdout",
     "output_type": "stream",
     "text": [
      "Stop 10619.0, CONVST, is closest for 5 census tracts\n",
      "Stop 10622.0, CVCNST, is closest for 3 census tracts\n",
      "Stop 10623.0, UNSTST, is closest for 7 census tracts\n",
      "Stop 10624.0, GRNDST, is closest for 23 census tracts\n",
      "Stop 10625.0, CWTCST, is closest for 7 census tracts\n",
      "Stop 10626.0, FOPKST, is closest for 8 census tracts\n",
      "Stop 10627.0, DLMRST, is closest for 1 census tracts\n",
      "Stop 10628.0, WELLST, is closest for 4 census tracts\n",
      "Stop 10629.0, RKRDST, is closest for 4 census tracts\n",
      "Stop 10630.0, UMSOST, is closest for 4 census tracts\n",
      "Stop 13662.0, STADST, is closest for 1 census tracts\n",
      "Stop 14753.0, SHRBST, is closest for 19 census tracts\n",
      "Stop 14754.0, SUNNST, is closest for 1 census tracts\n",
      "Stop 14761.0, SKBLST, is closest for 2 census tracts\n",
      "Stop 16149.0, CRTXST, is closest for 15 census tracts\n"
     ]
    }
   ],
   "source": [
    "closest_metro_loc, closest_metro_id, shortest_distance = dist_to_nearest_stop(centroid_locations, metro_locations)\n",
    "\n",
    "values, counts = np.unique(closest_metro_id, return_counts=True)\n",
    "for i in range(len(values)):\n",
    "    name = metro_locations['StopAbbr'][metro_locations['StopID'] == values[i]].tolist()[0]\n",
    "    print(f'Stop {values[i]}, {name}, is closest for {counts[i]} census tracts')"
   ]
  },
  {
   "cell_type": "code",
   "execution_count": 6,
   "id": "f9d85d94",
   "metadata": {},
   "outputs": [
    {
     "name": "stdout",
     "output_type": "stream",
     "text": [
      "Score (sum of all shortest distances): 3.3242\n"
     ]
    }
   ],
   "source": [
    "nn_score = np.sum(shortest_distance)\n",
    "print(f'Score (sum of all shortest distances): {nn_score:0.4f}')"
   ]
  },
  {
   "cell_type": "code",
   "execution_count": 7,
   "id": "0957e0e9",
   "metadata": {},
   "outputs": [
    {
     "data": {
      "text/plain": [
       "Text(0.5, 1.0, 'Histogram of distances to closest metro stops')"
      ]
     },
     "execution_count": 7,
     "metadata": {},
     "output_type": "execute_result"
    },
    {
     "data": {
      "image/png": "[encoded data removed]",
      "text/plain": [
       "<Figure size 640x480 with 1 Axes>"
      ]
     },
     "metadata": {},
     "output_type": "display_data"
    }
   ],
   "source": [
    "plt.hist(shortest_distance)\n",
    "plt.title('Histogram of distances to closest metro stops')"
   ]
  }
 ],
 "metadata": {
  "kernelspec": {
   "display_name": "Python 3 (ipykernel)",
   "language": "python",
   "name": "python3"
  },
  "language_info": {
   "codemirror_mode": {
    "name": "ipython",
    "version": 3
   },
   "file_extension": ".py",
   "mimetype": "text/x-python",
   "name": "python",
   "nbconvert_exporter": "python",
   "pygments_lexer": "ipython3",
   "version": "3.11.7"
  }
 },
 "nbformat": 4,
 "nbformat_minor": 5
}
