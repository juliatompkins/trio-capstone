{
 "cells": [
  {
   "cell_type": "code",
   "execution_count": 18,
   "id": "0c0ee115",
   "metadata": {},
   "outputs": [],
   "source": [
    "import numpy as np\n",
    "import pandas as pd"
   ]
  },
  {
   "cell_type": "code",
   "execution_count": 19,
   "id": "cd358203",
   "metadata": {},
   "outputs": [],
   "source": [
    "# Loading data\n",
    "centroid_locations = pd.read_csv(\"/Users/dylanmack/Library/CloudStorage/OneDrive-WashingtonUniversityinSt.Louis/ESE 499/trio-capstone/data/CensusTractCentroids.csv\")\n",
    "metro_locations = pd.read_csv(\"/Users/dylanmack/Library/CloudStorage/OneDrive-WashingtonUniversityinSt.Louis/ESE 499/trio-capstone/data/MetroLinkStations_REGISTERED.csv\")\n",
    "# eventually, get the number of people taking public transportation in each tract to weight the nearest neighbor calculation"
   ]
  },
  {
   "cell_type": "code",
   "execution_count": 20,
   "id": "bdc69c90",
   "metadata": {},
   "outputs": [
    {
     "name": "stdout",
     "output_type": "stream",
     "text": [
      "3.324203401197435\n"
     ]
    }
   ],
   "source": [
    "# Unweighted sum of distances from each census tract centroid to nearest metro stop in lat/lon units\n",
    "nn_score = 0\n",
    "closest_metro_loc = np.zeros([len(centroid_locations), 2])\n",
    "closest_metro_id = np.zeros(len(centroid_locations))\n",
    "shortest_distance = np.zeros(len(centroid_locations))\n",
    "for i in range(len(centroid_locations)):\n",
    "    cent = np.array([centroid_locations.INTPTLAT[i],centroid_locations.INTPTLON[i]])\n",
    "    closest_distance = 999999 #replace this with infinity?\n",
    "    for j in range(len(metro_locations)):\n",
    "        metro = np.array([metro_locations.Y[j],metro_locations.X[j]])\n",
    "        distance = np.linalg.norm(cent-metro)\n",
    "        if (distance < closest_distance):\n",
    "            shortest_distance[i] = distance\n",
    "            closest_distance = distance\n",
    "            closest_metro_loc[i,0] = metro[0]\n",
    "            closest_metro_loc[i,1] = metro[1]\n",
    "            closest_metro_id[i] = metro_locations.StopID[j]\n",
    "            \n",
    "nn_score = np.sum(shortest_distance)        \n",
    "print(nn_score)"
   ]
  },
  {
   "cell_type": "code",
   "execution_count": null,
   "id": "cc5d6b40",
   "metadata": {},
   "outputs": [],
   "source": []
  },
  {
   "cell_type": "code",
   "execution_count": null,
   "id": "47f8e134",
   "metadata": {},
   "outputs": [],
   "source": []
  },
  {
   "cell_type": "code",
   "execution_count": null,
   "id": "d896a101",
   "metadata": {},
   "outputs": [],
   "source": []
  },
  {
   "cell_type": "code",
   "execution_count": null,
   "id": "674af08b",
   "metadata": {},
   "outputs": [],
   "source": []
  }
 ],
 "metadata": {
  "kernelspec": {
   "display_name": "Python 3 (ipykernel)",
   "language": "python",
   "name": "python3"
  },
  "language_info": {
   "codemirror_mode": {
    "name": "ipython",
    "version": 3
   },
   "file_extension": ".py",
   "mimetype": "text/x-python",
   "name": "python",
   "nbconvert_exporter": "python",
   "pygments_lexer": "ipython3",
   "version": "3.11.7"
  }
 },
 "nbformat": 4,
 "nbformat_minor": 5
}
