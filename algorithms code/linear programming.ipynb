{
 "cells": [
  {
   "cell_type": "markdown",
   "id": "d7530ec5",
   "metadata": {},
   "source": [
    "# Linear Programming"
   ]
  },
  {
   "cell_type": "code",
   "execution_count": 1,
   "id": "bc680641",
   "metadata": {},
   "outputs": [],
   "source": [
    "import numpy as np\n",
    "import pandas as pd\n",
    "import random\n",
    "import warnings\n",
    "import matplotlib.pyplot as plt\n",
    "from scipy.optimize import minimize\n",
    "from sklearn.linear_model import LinearRegression\n",
    "import plotly.express as px"
   ]
  },
  {
   "cell_type": "code",
   "execution_count": 3,
   "id": "e5290779",
   "metadata": {},
   "outputs": [],
   "source": [
    "# import data\n",
    "#centroid_locations = pd.read_csv(r\"C:\\Users\\dodie\\Downloads\\spring 2024\\trio-capstone\\data\\CensusTractCentroids.csv\")\n",
    "#metro_locations = pd.read_csv(r\"C:\\Users\\dodie\\Downloads\\spring 2024\\trio-capstone\\data\\MetroLinkStations_REGISTERED.csv\")\n",
    "#north_south_locations = pd.read_csv(r\"C:\\Users\\dodie\\Downloads\\spring 2024\\trio-capstone\\data\\MetroLinkStations_NS.csv\")\n",
    "#census_data = data = pd.read_csv(r\"C:\\Users\\dodie\\Downloads\\spring 2024\\trio-capstone\\data\\B08119_stl_city.csv\")\n",
    "#race_data = pd.read_csv(r\"C:\\Users\\dodie\\Downloads\\spring 2024\\trio-capstone\\data\\B08105_stl_city.csv\")\n",
    "\n",
    "centroid_locations = pd.read_csv(\"/Users/dylanmack/Library/CloudStorage/OneDrive-WashingtonUniversityinSt.Louis/ESE 499/trio-capstone/data/CensusTractCentroids.csv\")\n",
    "metro_locations = pd.read_csv(\"/Users/dylanmack/Library/CloudStorage/OneDrive-WashingtonUniversityinSt.Louis/ESE 499/trio-capstone/data/MetroLinkStations_REGISTERED.csv\")\n",
    "north_south_locations = pd.read_csv(\"/Users/dylanmack/Library/CloudStorage/OneDrive-WashingtonUniversityinSt.Louis/ESE 499/trio-capstone/data/MetroLinkStations_NS.csv\")\n",
    "census_data = data = pd.read_csv(\"/Users/dylanmack/Library/CloudStorage/OneDrive-WashingtonUniversityinSt.Louis/ESE 499/trio-capstone/data/B08119_stl_city.csv\")\n",
    "race_data = pd.read_csv(\"/Users/dylanmack/Library/CloudStorage/OneDrive-WashingtonUniversityinSt.Louis/ESE 499/trio-capstone/data/B08105_stl_city.csv\")"
   ]
  },
  {
   "cell_type": "code",
   "execution_count": 4,
   "id": "c52508d8",
   "metadata": {},
   "outputs": [],
   "source": [
    "# clean census data\n",
    "\n",
    "warnings. filterwarnings('ignore')\n",
    "\n",
    "# Only keep important columns\n",
    "census_data = census_data[['location','label','estimate','moe']]\n",
    "census_data['label'] = census_data['label'].str.replace('Estimate', '').str.replace('Total', '').str.replace('!!', '').str.replace(':', '')\n",
    "census_data['location'] = census_data['location'].str.replace('; St. Louis city; Missouri','')\n",
    "\n",
    "# Filter out aggregate columns\n",
    "all_totals = census_data[census_data['label']=='']\n",
    "trans_totals_mask = ~census_data['label'].astype(str).str.contains('[$]')\n",
    "trans_totals = census_data.loc[trans_totals_mask][1:]\n",
    "income_totals = census_data[census_data['label'].str.startswith(\"$\")]\n",
    "not_to_include = pd.concat([trans_totals, income_totals, all_totals])\n",
    "merged_df = pd.merge(census_data, not_to_include, how='left', indicator=True)\n",
    "no_totals = merged_df[merged_df['_merge'] == 'left_only'].drop(columns=['_merge'])[1:]\n",
    "split_data = no_totals['label'].str.split('$', 1, expand=True)\n",
    "no_totals[['transportation', 'income']] = split_data\n",
    "no_totals.drop(columns=['label'], inplace=True)\n",
    "no_totals['income'] = '$' + no_totals['income']\n",
    "from_this = no_totals['income'].unique()\n",
    "to_this = [1, 10000, 15000, 25000, 35000, 50000, 65000, 75000]\n",
    "no_totals['avg income'] = no_totals['income'].replace(from_this, to_this)\n",
    "clean_census_data = no_totals"
   ]
  },
  {
   "cell_type": "code",
   "execution_count": 5,
   "id": "1a901a55",
   "metadata": {},
   "outputs": [],
   "source": [
    "# clean race data\n",
    "\n",
    "warnings. filterwarnings('ignore')\n",
    "\n",
    "# Only keep important columns\n",
    "race_data = race_data[['location','label','concept','estimate','moe']]\n",
    "race_data['label'] = race_data['label'].str.replace('Estimate', '').str.replace('Total', '').str.replace('!!', '').str.replace(':', '')\n",
    "race_data['location'] = race_data['location'].str.replace('; St. Louis city; Missouri','')\n",
    "race_data['concept'] = race_data['concept'].str.replace('MEANS OF TRANSPORTATION TO WORK ', '').str.replace(')','').str.replace('(','').str.replace('ALONE','')\n",
    "\n",
    "# Filter out aggregate rows and rename columns\n",
    "race_data = race_data[race_data['label'] != '']\n",
    "race_data = race_data.rename(columns={'label': 'transportation', 'concept': 'race'})"
   ]
  },
  {
   "cell_type": "code",
   "execution_count": 6,
   "id": "14741de6",
   "metadata": {},
   "outputs": [],
   "source": [
    "# Group by census tract and mode of transportation\n",
    "by_tract_trans = clean_census_data.groupby(['location','transportation'])['estimate'].sum()\n",
    "\n",
    "# Find percentage of people who take public transport in each tract\n",
    "tract_pops = clean_census_data.groupby('location', as_index = False)['estimate'].sum()['estimate'].tolist()\n",
    "public_transit_pops = clean_census_data[clean_census_data['transportation']=='Public transportation (excluding taxicab)'].groupby(['location','transportation'], as_index = False)['estimate'].sum()['estimate'].tolist()\n",
    "\n",
    "pct_public_trans = []\n",
    "for i in range(len(tract_pops)):\n",
    "    pct_public_trans.append(public_transit_pops[i]/tract_pops[i])\n",
    "\n",
    "# Add percentages back in to groupby\n",
    "by_tract = clean_census_data.groupby('location', as_index = False)['estimate'].sum()\n",
    "by_tract['public transport count'] = public_transit_pops\n",
    "by_tract['public transport %'] = pct_public_trans\n",
    "\n",
    "# Group by census tract and income\n",
    "by_tract_inc = clean_census_data.groupby(['location','avg income'])['estimate'].sum()\n",
    "\n",
    "# Find average income of each tract\n",
    "tract_incomes = (clean_census_data['avg income']*clean_census_data['estimate']).groupby(clean_census_data['location']).sum().tolist()\n",
    "tract_totals = sum(tract_incomes)\n",
    "tract_incomes_new = np.array([tract_totals - i for i in tract_incomes])\n",
    "income_weight = tract_incomes_new / sum(tract_incomes_new)\n",
    "\n",
    "# Add percentages back in to groupby\n",
    "by_tract['income weight'] = income_weight\n",
    "\n",
    "# Find minority (nonwhite) population of each tract\n",
    "total_pops = race_data.groupby('location')['estimate'].sum().tolist()\n",
    "nonwhite_pops = race_data[race_data['race'] != 'WHITE '].groupby('location')['estimate'].sum().tolist()\n",
    "\n",
    "# add back in to groupby\n",
    "by_tract['race weight'] = np.divide(np.array(nonwhite_pops), np.array(total_pops))"
   ]
  },
  {
   "cell_type": "code",
   "execution_count": 7,
   "id": "a2db8bc0",
   "metadata": {},
   "outputs": [
    {
     "data": {
      "text/html": [
       "<div>\n",
       "<style scoped>\n",
       "    .dataframe tbody tr th:only-of-type {\n",
       "        vertical-align: middle;\n",
       "    }\n",
       "\n",
       "    .dataframe tbody tr th {\n",
       "        vertical-align: top;\n",
       "    }\n",
       "\n",
       "    .dataframe thead th {\n",
       "        text-align: right;\n",
       "    }\n",
       "</style>\n",
       "<table border=\"1\" class=\"dataframe\">\n",
       "  <thead>\n",
       "    <tr style=\"text-align: right;\">\n",
       "      <th></th>\n",
       "      <th>location</th>\n",
       "      <th>estimate</th>\n",
       "      <th>public transport count</th>\n",
       "      <th>public transport %</th>\n",
       "      <th>income weight</th>\n",
       "      <th>race weight</th>\n",
       "      <th>LAT</th>\n",
       "      <th>LON</th>\n",
       "    </tr>\n",
       "  </thead>\n",
       "  <tbody>\n",
       "    <tr>\n",
       "      <th>0</th>\n",
       "      <td>Census Tract 1011</td>\n",
       "      <td>1039</td>\n",
       "      <td>31</td>\n",
       "      <td>0.029836</td>\n",
       "      <td>0.009653</td>\n",
       "      <td>0.538604</td>\n",
       "      <td>38.554718</td>\n",
       "      <td>-90.273620</td>\n",
       "    </tr>\n",
       "    <tr>\n",
       "      <th>1</th>\n",
       "      <td>Census Tract 1012</td>\n",
       "      <td>1921</td>\n",
       "      <td>11</td>\n",
       "      <td>0.005726</td>\n",
       "      <td>0.009570</td>\n",
       "      <td>0.570798</td>\n",
       "      <td>38.561824</td>\n",
       "      <td>-90.274863</td>\n",
       "    </tr>\n",
       "    <tr>\n",
       "      <th>2</th>\n",
       "      <td>Census Tract 1013</td>\n",
       "      <td>2161</td>\n",
       "      <td>35</td>\n",
       "      <td>0.016196</td>\n",
       "      <td>0.009560</td>\n",
       "      <td>0.587548</td>\n",
       "      <td>38.566560</td>\n",
       "      <td>-90.264211</td>\n",
       "    </tr>\n",
       "    <tr>\n",
       "      <th>3</th>\n",
       "      <td>Census Tract 1014</td>\n",
       "      <td>1502</td>\n",
       "      <td>95</td>\n",
       "      <td>0.063249</td>\n",
       "      <td>0.009614</td>\n",
       "      <td>0.679515</td>\n",
       "      <td>38.562243</td>\n",
       "      <td>-90.253522</td>\n",
       "    </tr>\n",
       "    <tr>\n",
       "      <th>4</th>\n",
       "      <td>Census Tract 1015</td>\n",
       "      <td>1318</td>\n",
       "      <td>32</td>\n",
       "      <td>0.024279</td>\n",
       "      <td>0.009645</td>\n",
       "      <td>0.582895</td>\n",
       "      <td>38.548544</td>\n",
       "      <td>-90.264511</td>\n",
       "    </tr>\n",
       "  </tbody>\n",
       "</table>\n",
       "</div>"
      ],
      "text/plain": [
       "            location  estimate  public transport count  public transport %  \\\n",
       "0  Census Tract 1011      1039                      31            0.029836   \n",
       "1  Census Tract 1012      1921                      11            0.005726   \n",
       "2  Census Tract 1013      2161                      35            0.016196   \n",
       "3  Census Tract 1014      1502                      95            0.063249   \n",
       "4  Census Tract 1015      1318                      32            0.024279   \n",
       "\n",
       "   income weight  race weight        LAT        LON  \n",
       "0       0.009653     0.538604  38.554718 -90.273620  \n",
       "1       0.009570     0.570798  38.561824 -90.274863  \n",
       "2       0.009560     0.587548  38.566560 -90.264211  \n",
       "3       0.009614     0.679515  38.562243 -90.253522  \n",
       "4       0.009645     0.582895  38.548544 -90.264511  "
      ]
     },
     "execution_count": 7,
     "metadata": {},
     "output_type": "execute_result"
    }
   ],
   "source": [
    "# merge census tract location data with census data\n",
    "\n",
    "centroid_locations_small = centroid_locations[['NAMELSAD','INTPTLAT','INTPTLON']]\n",
    "centroid_locations_small = centroid_locations_small.rename(columns = {\"NAMELSAD\": \"location\", \"INTPTLAT\" : \"LAT\", \"INTPTLON\" : \"LON\"})\n",
    "\n",
    "full_data = by_tract.merge(centroid_locations_small, on='location')\n",
    "full_data.head()"
   ]
  },
  {
   "cell_type": "code",
   "execution_count": 8,
   "id": "594d5eb5",
   "metadata": {},
   "outputs": [
    {
     "data": {
      "text/html": [
       "<div>\n",
       "<style scoped>\n",
       "    .dataframe tbody tr th:only-of-type {\n",
       "        vertical-align: middle;\n",
       "    }\n",
       "\n",
       "    .dataframe tbody tr th {\n",
       "        vertical-align: top;\n",
       "    }\n",
       "\n",
       "    .dataframe thead th {\n",
       "        text-align: right;\n",
       "    }\n",
       "</style>\n",
       "<table border=\"1\" class=\"dataframe\">\n",
       "  <thead>\n",
       "    <tr style=\"text-align: right;\">\n",
       "      <th></th>\n",
       "      <th>id</th>\n",
       "      <th>Name</th>\n",
       "      <th>LON</th>\n",
       "      <th>LAT</th>\n",
       "    </tr>\n",
       "  </thead>\n",
       "  <tbody>\n",
       "    <tr>\n",
       "      <th>0</th>\n",
       "      <td>1</td>\n",
       "      <td>Grand Blvd/Fairground Park</td>\n",
       "      <td>-90.217</td>\n",
       "      <td>38.661</td>\n",
       "    </tr>\n",
       "    <tr>\n",
       "      <th>1</th>\n",
       "      <td>2</td>\n",
       "      <td>Palm St/Salisbury St</td>\n",
       "      <td>-90.209</td>\n",
       "      <td>38.658</td>\n",
       "    </tr>\n",
       "    <tr>\n",
       "      <th>2</th>\n",
       "      <td>3</td>\n",
       "      <td>St Louis Ave</td>\n",
       "      <td>-90.211</td>\n",
       "      <td>38.653</td>\n",
       "    </tr>\n",
       "    <tr>\n",
       "      <th>3</th>\n",
       "      <td>4</td>\n",
       "      <td>Cass Ave</td>\n",
       "      <td>-90.213</td>\n",
       "      <td>38.645</td>\n",
       "    </tr>\n",
       "    <tr>\n",
       "      <th>4</th>\n",
       "      <td>5</td>\n",
       "      <td>Carr St</td>\n",
       "      <td>-90.213</td>\n",
       "      <td>38.640</td>\n",
       "    </tr>\n",
       "  </tbody>\n",
       "</table>\n",
       "</div>"
      ],
      "text/plain": [
       "   id                        Name     LON     LAT\n",
       "0   1  Grand Blvd/Fairground Park -90.217  38.661\n",
       "1   2        Palm St/Salisbury St -90.209  38.658\n",
       "2   3                St Louis Ave -90.211  38.653\n",
       "3   4                    Cass Ave -90.213  38.645\n",
       "4   5                     Carr St -90.213  38.640"
      ]
     },
     "execution_count": 8,
     "metadata": {},
     "output_type": "execute_result"
    }
   ],
   "source": [
    "north_south_locations.head()"
   ]
  },
  {
   "cell_type": "code",
   "execution_count": 9,
   "id": "84b7980d",
   "metadata": {},
   "outputs": [],
   "source": [
    "k = 12\n",
    "n = len(full_data)\n",
    "x0 = []\n",
    "for i in range(k):\n",
    "    new_tract = random.randint(0,n-1)\n",
    "    x0.append(full_data['LON'][new_tract])\n",
    "    x0.append(full_data['LAT'][new_tract])"
   ]
  },
  {
   "cell_type": "code",
   "execution_count": 10,
   "id": "c5f1cdcb",
   "metadata": {},
   "outputs": [],
   "source": [
    "lat_bounds = (min(full_data['LAT']),max(full_data['LAT']))\n",
    "lon_bounds = (min(full_data['LON']),max(full_data['LON']))\n",
    "bnds = [val for pair in zip([lon_bounds]*12, [lat_bounds]*12) for val in pair]"
   ]
  },
  {
   "cell_type": "code",
   "execution_count": 11,
   "id": "475c5f81",
   "metadata": {},
   "outputs": [],
   "source": [
    "def distances_to_nearest_stop(tract_locations, metro_locations):\n",
    "    \n",
    "    shortest_distance = np.zeros(len(tract_locations))\n",
    "    metro_locations = [[metro_locations[i], metro_locations[i + 1]] for i in range(0, len(metro_locations), 2)] # reshape back into 2d array\n",
    "    \n",
    "    for i in range(len(tract_locations)):\n",
    "        cent = np.array([tract_locations['LON'][i],tract_locations['LAT'][i]])\n",
    "        closest_distance = float('inf') # initialize to infinity\n",
    "        for j in range(len(metro_locations)):\n",
    "            metro = np.array(metro_locations[j])\n",
    "            distance = np.linalg.norm(cent-metro)\n",
    "            if (distance < closest_distance):\n",
    "                closest_distance = distance\n",
    "        shortest_distance[i] = closest_distance\n",
    "    \n",
    "    return shortest_distance"
   ]
  },
  {
   "cell_type": "code",
   "execution_count": 12,
   "id": "e982ac27",
   "metadata": {},
   "outputs": [],
   "source": [
    "def orth_dist(x):\n",
    "    x = [[x[i], x[i + 1]] for i in range(0, len(x), 2)] # reshape back into 2d array\n",
    "    model = LinearRegression().fit(np.array(x[0][:]).reshape(-1,1),np.array(x[1][:]))\n",
    "    b = model.intercept_\n",
    "    m = model.coef_[0]\n",
    "    dists = 0\n",
    "    for stop in x:\n",
    "        n = abs(-1*m*stop[0]+stop[1]-b)\n",
    "        d = np.sqrt(m**2+1)\n",
    "        dists = dists + n/d\n",
    "    return dists"
   ]
  },
  {
   "cell_type": "code",
   "execution_count": 13,
   "id": "2b4f12e8",
   "metadata": {},
   "outputs": [],
   "source": [
    "def distances_between_stops(metro_locations):\n",
    "    metro_locations = [[metro_locations[i], metro_locations[i + 1]] for i in range(0, len(metro_locations), 2)] # reshape back into 2d array\n",
    "    shortest_distance = np.zeros(len(metro_locations))\n",
    "    total_distance = 0\n",
    "    for i in range(len(metro_locations)):\n",
    "        metro_current = np.array([metro_locations[i][0],metro_locations[i][1]])\n",
    "        closest_distance = float('inf') # initialize to infinity\n",
    "        for j in range(len(metro_locations)):\n",
    "            if (i != j):\n",
    "                metro_compared = np.array(metro_locations[j])\n",
    "                distance = np.linalg.norm(metro_current-metro_compared)\n",
    "                if (distance < closest_distance):\n",
    "                    closest_distance = distance\n",
    "        total_distance = total_distance + closest_distance\n",
    "    return total_distance"
   ]
  },
  {
   "cell_type": "code",
   "execution_count": 14,
   "id": "d786e90f",
   "metadata": {},
   "outputs": [],
   "source": [
    "def distance_to_mean_x(metro_locations):\n",
    "    metro_locations = [[metro_locations[i], metro_locations[i + 1]] for i in range(0, len(metro_locations), 2)] # reshape back into 2d array\n",
    "    x_avg = np.mean(metro_locations[:][0])\n",
    "    deviation_from_avg = 0\n",
    "    for i in range(len(metro_locations)):\n",
    "        deviation_from_avg = deviation_from_avg + np.abs(x_avg - metro_locations[i][0])\n",
    "    return deviation_from_avg"
   ]
  },
  {
   "cell_type": "code",
   "execution_count": 27,
   "id": "e4b2a8e1",
   "metadata": {},
   "outputs": [],
   "source": [
    "def fun(new_stops):\n",
    "    #print(f'shape of new stops: {np.shape(new_stops)}')\n",
    "    #weights = full_data['race weight']\n",
    "    weights = np.ones(len(full_data))\n",
    "    #print(weights)\n",
    "    dist_to_stops = np.dot(weights, distances_to_nearest_stop(full_data, new_stops))\n",
    "    linearity = orth_dist(new_stops) \n",
    "    dist_btw_stops = distances_between_stops(new_stops)\n",
    "    distance_to_mean = distance_to_mean_x(new_stops)\n",
    "    print(f'dist to stops: {dist_to_stops:3.3f}, linearity: {linearity:3.3f}')\n",
    "    return 5*dist_to_stops + 1.0*linearity - 1.0*dist_btw_stops + 1*distance_to_mean"
   ]
  },
  {
   "cell_type": "code",
   "execution_count": 28,
   "id": "2ae98ec4",
   "metadata": {},
   "outputs": [
    {
     "name": "stdout",
     "output_type": "stream",
     "text": [
      "dist to stops: 2.014, linearity: 1093.338\n",
      "dist to stops: 2.014, linearity: 1093.338\n",
      "dist to stops: 2.014, linearity: 1093.338\n",
      "dist to stops: 2.014, linearity: 1093.338\n",
      "dist to stops: 2.014, linearity: 1093.338\n",
      "dist to stops: 2.014, linearity: 1093.338\n",
      "dist to stops: 2.014, linearity: 1093.338\n",
      "dist to stops: 2.014, linearity: 1093.338\n",
      "dist to stops: 2.014, linearity: 1093.338\n",
      "dist to stops: 2.014, linearity: 1093.338\n",
      "dist to stops: 2.014, linearity: 1093.338\n",
      "dist to stops: 2.014, linearity: 1093.338\n",
      "dist to stops: 2.014, linearity: 1093.338\n",
      "dist to stops: 2.014, linearity: 1093.338\n",
      "dist to stops: 2.014, linearity: 1093.338\n",
      "dist to stops: 2.014, linearity: 1093.338\n",
      "dist to stops: 2.014, linearity: 1093.338\n",
      "dist to stops: 2.014, linearity: 1093.338\n",
      "dist to stops: 2.014, linearity: 1093.338\n",
      "dist to stops: 2.014, linearity: 1093.338\n",
      "dist to stops: 2.014, linearity: 1093.338\n",
      "dist to stops: 2.014, linearity: 1093.338\n",
      "dist to stops: 2.014, linearity: 1093.338\n",
      "dist to stops: 2.014, linearity: 1093.338\n",
      "dist to stops: 2.014, linearity: 1093.338\n",
      "dist to stops: 6.999, linearity: 1094.376\n",
      "dist to stops: 6.999, linearity: 1094.376\n",
      "dist to stops: 6.999, linearity: 1094.376\n",
      "dist to stops: 6.999, linearity: 1094.376\n",
      "dist to stops: 6.999, linearity: 1094.376\n",
      "dist to stops: 6.999, linearity: 1094.376\n",
      "dist to stops: 6.999, linearity: 1094.376\n",
      "dist to stops: 6.999, linearity: 1094.376\n",
      "dist to stops: 6.999, linearity: 1094.376\n",
      "dist to stops: 6.999, linearity: 1094.376\n",
      "dist to stops: 6.999, linearity: 1094.376\n",
      "dist to stops: 6.999, linearity: 1094.376\n",
      "dist to stops: 6.999, linearity: 1094.376\n",
      "dist to stops: 6.999, linearity: 1094.376\n",
      "dist to stops: 6.999, linearity: 1094.376\n",
      "dist to stops: 6.999, linearity: 1094.376\n",
      "dist to stops: 6.999, linearity: 1094.376\n",
      "dist to stops: 6.999, linearity: 1094.376\n",
      "dist to stops: 6.999, linearity: 1094.376\n",
      "dist to stops: 6.999, linearity: 1094.376\n",
      "dist to stops: 6.999, linearity: 1094.376\n",
      "dist to stops: 6.999, linearity: 1094.376\n",
      "dist to stops: 6.999, linearity: 1094.376\n",
      "dist to stops: 6.999, linearity: 1094.376\n",
      "dist to stops: 6.999, linearity: 1094.376\n",
      "dist to stops: 2.156, linearity: 1093.718\n",
      "dist to stops: 2.156, linearity: 1093.718\n",
      "dist to stops: 2.156, linearity: 1093.718\n",
      "dist to stops: 2.156, linearity: 1093.718\n",
      "dist to stops: 2.156, linearity: 1093.718\n",
      "dist to stops: 2.156, linearity: 1093.718\n",
      "dist to stops: 2.156, linearity: 1093.718\n",
      "dist to stops: 2.156, linearity: 1093.718\n",
      "dist to stops: 2.156, linearity: 1093.718\n",
      "dist to stops: 2.156, linearity: 1093.718\n",
      "dist to stops: 2.156, linearity: 1093.718\n",
      "dist to stops: 2.156, linearity: 1093.718\n",
      "dist to stops: 2.156, linearity: 1093.718\n",
      "dist to stops: 2.156, linearity: 1093.718\n",
      "dist to stops: 2.156, linearity: 1093.718\n",
      "dist to stops: 2.156, linearity: 1093.718\n",
      "dist to stops: 2.156, linearity: 1093.718\n",
      "dist to stops: 2.156, linearity: 1093.718\n",
      "dist to stops: 2.156, linearity: 1093.718\n",
      "dist to stops: 2.156, linearity: 1093.718\n",
      "dist to stops: 2.156, linearity: 1093.718\n",
      "dist to stops: 2.156, linearity: 1093.718\n",
      "dist to stops: 2.156, linearity: 1093.718\n",
      "dist to stops: 2.156, linearity: 1093.718\n",
      "dist to stops: 2.156, linearity: 1093.718\n",
      "dist to stops: 1.796, linearity: 1093.432\n",
      "dist to stops: 1.796, linearity: 1093.432\n",
      "dist to stops: 1.796, linearity: 1093.432\n",
      "dist to stops: 1.796, linearity: 1093.432\n",
      "dist to stops: 1.796, linearity: 1093.432\n",
      "dist to stops: 1.796, linearity: 1093.432\n",
      "dist to stops: 1.796, linearity: 1093.432\n",
      "dist to stops: 1.796, linearity: 1093.432\n",
      "dist to stops: 1.796, linearity: 1093.432\n",
      "dist to stops: 1.796, linearity: 1093.432\n",
      "dist to stops: 1.796, linearity: 1093.432\n",
      "dist to stops: 1.796, linearity: 1093.432\n",
      "dist to stops: 1.796, linearity: 1093.432\n",
      "dist to stops: 1.796, linearity: 1093.432\n",
      "dist to stops: 1.796, linearity: 1093.432\n",
      "dist to stops: 1.796, linearity: 1093.432\n",
      "dist to stops: 1.796, linearity: 1093.432\n",
      "dist to stops: 1.796, linearity: 1093.432\n",
      "dist to stops: 1.796, linearity: 1093.432\n",
      "dist to stops: 1.796, linearity: 1093.432\n",
      "dist to stops: 1.796, linearity: 1093.432\n",
      "dist to stops: 1.796, linearity: 1093.432\n",
      "dist to stops: 1.796, linearity: 1093.432\n",
      "dist to stops: 1.796, linearity: 1093.432\n",
      "dist to stops: 1.796, linearity: 1093.432\n",
      "dist to stops: 1.617, linearity: 1093.516\n",
      "dist to stops: 1.617, linearity: 1093.516\n",
      "dist to stops: 1.617, linearity: 1093.516\n",
      "dist to stops: 1.617, linearity: 1093.516\n",
      "dist to stops: 1.617, linearity: 1093.516\n",
      "dist to stops: 1.617, linearity: 1093.516\n",
      "dist to stops: 1.617, linearity: 1093.516\n",
      "dist to stops: 1.617, linearity: 1093.516\n",
      "dist to stops: 1.617, linearity: 1093.516\n",
      "dist to stops: 1.617, linearity: 1093.516\n",
      "dist to stops: 1.617, linearity: 1093.516\n",
      "dist to stops: 1.617, linearity: 1093.516\n",
      "dist to stops: 1.617, linearity: 1093.516\n",
      "dist to stops: 1.617, linearity: 1093.516\n",
      "dist to stops: 1.617, linearity: 1093.516\n",
      "dist to stops: 1.617, linearity: 1093.516\n",
      "dist to stops: 1.617, linearity: 1093.516\n",
      "dist to stops: 1.617, linearity: 1093.516\n",
      "dist to stops: 1.617, linearity: 1093.516\n",
      "dist to stops: 1.617, linearity: 1093.516\n",
      "dist to stops: 1.617, linearity: 1093.516\n",
      "dist to stops: 1.617, linearity: 1093.516\n",
      "dist to stops: 1.617, linearity: 1093.516\n",
      "dist to stops: 1.617, linearity: 1093.516\n",
      "dist to stops: 1.617, linearity: 1093.516\n",
      "dist to stops: 1.560, linearity: 1093.493\n",
      "dist to stops: 1.560, linearity: 1093.493\n",
      "dist to stops: 1.560, linearity: 1093.493\n",
      "dist to stops: 1.560, linearity: 1093.493\n",
      "dist to stops: 1.560, linearity: 1093.493\n",
      "dist to stops: 1.560, linearity: 1093.493\n",
      "dist to stops: 1.560, linearity: 1093.493\n",
      "dist to stops: 1.560, linearity: 1093.493\n",
      "dist to stops: 1.560, linearity: 1093.493\n",
      "dist to stops: 1.560, linearity: 1093.493\n",
      "dist to stops: 1.560, linearity: 1093.493\n",
      "dist to stops: 1.560, linearity: 1093.493\n",
      "dist to stops: 1.560, linearity: 1093.493\n",
      "dist to stops: 1.560, linearity: 1093.493\n",
      "dist to stops: 1.560, linearity: 1093.493\n",
      "dist to stops: 1.560, linearity: 1093.493\n",
      "dist to stops: 1.560, linearity: 1093.493\n",
      "dist to stops: 1.560, linearity: 1093.493\n",
      "dist to stops: 1.560, linearity: 1093.493\n",
      "dist to stops: 1.560, linearity: 1093.493\n",
      "dist to stops: 1.560, linearity: 1093.493\n",
      "dist to stops: 1.560, linearity: 1093.493\n",
      "dist to stops: 1.560, linearity: 1093.493\n",
      "dist to stops: 1.560, linearity: 1093.493\n",
      "dist to stops: 1.560, linearity: 1093.493\n",
      "dist to stops: 1.522, linearity: 1093.528\n",
      "dist to stops: 1.522, linearity: 1093.528\n",
      "dist to stops: 1.522, linearity: 1093.528\n",
      "dist to stops: 1.522, linearity: 1093.528\n",
      "dist to stops: 1.522, linearity: 1093.528\n",
      "dist to stops: 1.522, linearity: 1093.528\n",
      "dist to stops: 1.522, linearity: 1093.528\n",
      "dist to stops: 1.522, linearity: 1093.528\n",
      "dist to stops: 1.522, linearity: 1093.528\n",
      "dist to stops: 1.522, linearity: 1093.528\n",
      "dist to stops: 1.522, linearity: 1093.528\n",
      "dist to stops: 1.522, linearity: 1093.528\n",
      "dist to stops: 1.522, linearity: 1093.528\n",
      "dist to stops: 1.522, linearity: 1093.528\n",
      "dist to stops: 1.522, linearity: 1093.528\n",
      "dist to stops: 1.522, linearity: 1093.528\n",
      "dist to stops: 1.522, linearity: 1093.528\n",
      "dist to stops: 1.522, linearity: 1093.528\n",
      "dist to stops: 1.522, linearity: 1093.528\n",
      "dist to stops: 1.522, linearity: 1093.528\n",
      "dist to stops: 1.522, linearity: 1093.528\n",
      "dist to stops: 1.522, linearity: 1093.528\n",
      "dist to stops: 1.522, linearity: 1093.528\n",
      "dist to stops: 1.522, linearity: 1093.528\n",
      "dist to stops: 1.522, linearity: 1093.528\n",
      "dist to stops: 1.489, linearity: 1093.531\n",
      "dist to stops: 1.489, linearity: 1093.531\n",
      "dist to stops: 1.489, linearity: 1093.531\n",
      "dist to stops: 1.489, linearity: 1093.531\n",
      "dist to stops: 1.489, linearity: 1093.531\n",
      "dist to stops: 1.489, linearity: 1093.531\n",
      "dist to stops: 1.489, linearity: 1093.531\n",
      "dist to stops: 1.489, linearity: 1093.531\n",
      "dist to stops: 1.489, linearity: 1093.531\n",
      "dist to stops: 1.489, linearity: 1093.531\n",
      "dist to stops: 1.489, linearity: 1093.531\n",
      "dist to stops: 1.489, linearity: 1093.531\n",
      "dist to stops: 1.489, linearity: 1093.531\n",
      "dist to stops: 1.489, linearity: 1093.531\n",
      "dist to stops: 1.489, linearity: 1093.531\n",
      "dist to stops: 1.489, linearity: 1093.531\n",
      "dist to stops: 1.489, linearity: 1093.531\n",
      "dist to stops: 1.489, linearity: 1093.531\n",
      "dist to stops: 1.489, linearity: 1093.531\n",
      "dist to stops: 1.489, linearity: 1093.531\n",
      "dist to stops: 1.489, linearity: 1093.531\n",
      "dist to stops: 1.489, linearity: 1093.531\n",
      "dist to stops: 1.489, linearity: 1093.531\n",
      "dist to stops: 1.489, linearity: 1093.531\n",
      "dist to stops: 1.489, linearity: 1093.531\n",
      "dist to stops: 1.440, linearity: 1093.569\n",
      "dist to stops: 1.440, linearity: 1093.569\n",
      "dist to stops: 1.440, linearity: 1093.569\n",
      "dist to stops: 1.440, linearity: 1093.569\n",
      "dist to stops: 1.440, linearity: 1093.569\n",
      "dist to stops: 1.440, linearity: 1093.569\n",
      "dist to stops: 1.440, linearity: 1093.569\n",
      "dist to stops: 1.440, linearity: 1093.569\n",
      "dist to stops: 1.440, linearity: 1093.569\n"
     ]
    },
    {
     "name": "stdout",
     "output_type": "stream",
     "text": [
      "dist to stops: 1.440, linearity: 1093.569\n",
      "dist to stops: 1.440, linearity: 1093.569\n",
      "dist to stops: 1.440, linearity: 1093.569\n",
      "dist to stops: 1.440, linearity: 1093.569\n",
      "dist to stops: 1.440, linearity: 1093.569\n",
      "dist to stops: 1.440, linearity: 1093.569\n",
      "dist to stops: 1.440, linearity: 1093.569\n",
      "dist to stops: 1.440, linearity: 1093.569\n",
      "dist to stops: 1.440, linearity: 1093.569\n",
      "dist to stops: 1.440, linearity: 1093.569\n",
      "dist to stops: 1.440, linearity: 1093.569\n",
      "dist to stops: 1.440, linearity: 1093.569\n",
      "dist to stops: 1.440, linearity: 1093.569\n",
      "dist to stops: 1.440, linearity: 1093.569\n",
      "dist to stops: 1.440, linearity: 1093.569\n",
      "dist to stops: 1.440, linearity: 1093.569\n",
      "dist to stops: 1.415, linearity: 1093.585\n",
      "dist to stops: 1.415, linearity: 1093.585\n",
      "dist to stops: 1.415, linearity: 1093.585\n",
      "dist to stops: 1.415, linearity: 1093.585\n",
      "dist to stops: 1.415, linearity: 1093.585\n",
      "dist to stops: 1.415, linearity: 1093.585\n",
      "dist to stops: 1.415, linearity: 1093.585\n",
      "dist to stops: 1.415, linearity: 1093.585\n",
      "dist to stops: 1.415, linearity: 1093.585\n",
      "dist to stops: 1.415, linearity: 1093.585\n",
      "dist to stops: 1.415, linearity: 1093.585\n",
      "dist to stops: 1.415, linearity: 1093.585\n",
      "dist to stops: 1.415, linearity: 1093.585\n",
      "dist to stops: 1.415, linearity: 1093.585\n",
      "dist to stops: 1.415, linearity: 1093.585\n",
      "dist to stops: 1.415, linearity: 1093.585\n",
      "dist to stops: 1.415, linearity: 1093.585\n",
      "dist to stops: 1.415, linearity: 1093.585\n",
      "dist to stops: 1.415, linearity: 1093.585\n",
      "dist to stops: 1.415, linearity: 1093.585\n",
      "dist to stops: 1.415, linearity: 1093.585\n",
      "dist to stops: 1.415, linearity: 1093.585\n",
      "dist to stops: 1.415, linearity: 1093.585\n",
      "dist to stops: 1.415, linearity: 1093.585\n",
      "dist to stops: 1.415, linearity: 1093.585\n",
      "dist to stops: 1.398, linearity: 1093.625\n",
      "dist to stops: 1.398, linearity: 1093.625\n",
      "dist to stops: 1.398, linearity: 1093.625\n",
      "dist to stops: 1.398, linearity: 1093.625\n",
      "dist to stops: 1.398, linearity: 1093.625\n",
      "dist to stops: 1.398, linearity: 1093.625\n",
      "dist to stops: 1.398, linearity: 1093.625\n",
      "dist to stops: 1.398, linearity: 1093.625\n",
      "dist to stops: 1.398, linearity: 1093.625\n",
      "dist to stops: 1.398, linearity: 1093.625\n",
      "dist to stops: 1.398, linearity: 1093.625\n",
      "dist to stops: 1.398, linearity: 1093.625\n",
      "dist to stops: 1.398, linearity: 1093.625\n",
      "dist to stops: 1.398, linearity: 1093.625\n",
      "dist to stops: 1.398, linearity: 1093.625\n",
      "dist to stops: 1.398, linearity: 1093.625\n",
      "dist to stops: 1.398, linearity: 1093.625\n",
      "dist to stops: 1.398, linearity: 1093.625\n",
      "dist to stops: 1.398, linearity: 1093.625\n",
      "dist to stops: 1.398, linearity: 1093.625\n",
      "dist to stops: 1.398, linearity: 1093.625\n",
      "dist to stops: 1.398, linearity: 1093.625\n",
      "dist to stops: 1.398, linearity: 1093.625\n",
      "dist to stops: 1.398, linearity: 1093.625\n",
      "dist to stops: 1.398, linearity: 1093.625\n",
      "dist to stops: 1.398, linearity: 1093.603\n",
      "dist to stops: 1.398, linearity: 1093.603\n",
      "dist to stops: 1.398, linearity: 1093.603\n",
      "dist to stops: 1.398, linearity: 1093.603\n",
      "dist to stops: 1.398, linearity: 1093.603\n",
      "dist to stops: 1.398, linearity: 1093.603\n",
      "dist to stops: 1.398, linearity: 1093.603\n",
      "dist to stops: 1.398, linearity: 1093.603\n",
      "dist to stops: 1.398, linearity: 1093.603\n",
      "dist to stops: 1.398, linearity: 1093.603\n",
      "dist to stops: 1.398, linearity: 1093.603\n",
      "dist to stops: 1.398, linearity: 1093.603\n",
      "dist to stops: 1.398, linearity: 1093.603\n",
      "dist to stops: 1.398, linearity: 1093.603\n",
      "dist to stops: 1.398, linearity: 1093.603\n",
      "dist to stops: 1.398, linearity: 1093.603\n",
      "dist to stops: 1.398, linearity: 1093.603\n",
      "dist to stops: 1.398, linearity: 1093.603\n",
      "dist to stops: 1.398, linearity: 1093.603\n",
      "dist to stops: 1.398, linearity: 1093.603\n",
      "dist to stops: 1.398, linearity: 1093.603\n",
      "dist to stops: 1.398, linearity: 1093.603\n",
      "dist to stops: 1.398, linearity: 1093.603\n",
      "dist to stops: 1.398, linearity: 1093.603\n",
      "dist to stops: 1.398, linearity: 1093.603\n",
      "dist to stops: 1.388, linearity: 1093.598\n",
      "dist to stops: 1.388, linearity: 1093.598\n",
      "dist to stops: 1.388, linearity: 1093.598\n",
      "dist to stops: 1.388, linearity: 1093.598\n",
      "dist to stops: 1.388, linearity: 1093.598\n",
      "dist to stops: 1.388, linearity: 1093.598\n",
      "dist to stops: 1.388, linearity: 1093.598\n",
      "dist to stops: 1.388, linearity: 1093.598\n",
      "dist to stops: 1.388, linearity: 1093.598\n",
      "dist to stops: 1.388, linearity: 1093.598\n",
      "dist to stops: 1.388, linearity: 1093.598\n",
      "dist to stops: 1.388, linearity: 1093.598\n",
      "dist to stops: 1.388, linearity: 1093.598\n",
      "dist to stops: 1.388, linearity: 1093.598\n",
      "dist to stops: 1.388, linearity: 1093.598\n",
      "dist to stops: 1.388, linearity: 1093.598\n",
      "dist to stops: 1.388, linearity: 1093.598\n",
      "dist to stops: 1.388, linearity: 1093.598\n",
      "dist to stops: 1.388, linearity: 1093.598\n",
      "dist to stops: 1.388, linearity: 1093.598\n",
      "dist to stops: 1.388, linearity: 1093.598\n",
      "dist to stops: 1.388, linearity: 1093.598\n",
      "dist to stops: 1.388, linearity: 1093.598\n",
      "dist to stops: 1.388, linearity: 1093.598\n",
      "dist to stops: 1.388, linearity: 1093.598\n",
      "dist to stops: 1.390, linearity: 1093.617\n",
      "dist to stops: 1.390, linearity: 1093.617\n",
      "dist to stops: 1.390, linearity: 1093.617\n",
      "dist to stops: 1.390, linearity: 1093.617\n",
      "dist to stops: 1.390, linearity: 1093.617\n",
      "dist to stops: 1.390, linearity: 1093.617\n",
      "dist to stops: 1.390, linearity: 1093.617\n",
      "dist to stops: 1.390, linearity: 1093.617\n",
      "dist to stops: 1.390, linearity: 1093.617\n",
      "dist to stops: 1.390, linearity: 1093.617\n",
      "dist to stops: 1.390, linearity: 1093.617\n",
      "dist to stops: 1.390, linearity: 1093.617\n",
      "dist to stops: 1.390, linearity: 1093.617\n",
      "dist to stops: 1.390, linearity: 1093.617\n",
      "dist to stops: 1.390, linearity: 1093.617\n",
      "dist to stops: 1.390, linearity: 1093.617\n",
      "dist to stops: 1.390, linearity: 1093.617\n",
      "dist to stops: 1.390, linearity: 1093.617\n",
      "dist to stops: 1.390, linearity: 1093.617\n",
      "dist to stops: 1.390, linearity: 1093.617\n",
      "dist to stops: 1.390, linearity: 1093.617\n",
      "dist to stops: 1.390, linearity: 1093.617\n",
      "dist to stops: 1.390, linearity: 1093.617\n",
      "dist to stops: 1.390, linearity: 1093.617\n",
      "dist to stops: 1.390, linearity: 1093.617\n",
      "dist to stops: 1.384, linearity: 1093.603\n",
      "dist to stops: 1.384, linearity: 1093.603\n",
      "dist to stops: 1.384, linearity: 1093.603\n",
      "dist to stops: 1.384, linearity: 1093.603\n",
      "dist to stops: 1.384, linearity: 1093.603\n",
      "dist to stops: 1.384, linearity: 1093.603\n",
      "dist to stops: 1.384, linearity: 1093.603\n",
      "dist to stops: 1.384, linearity: 1093.603\n",
      "dist to stops: 1.384, linearity: 1093.603\n",
      "dist to stops: 1.384, linearity: 1093.603\n",
      "dist to stops: 1.384, linearity: 1093.603\n",
      "dist to stops: 1.384, linearity: 1093.603\n",
      "dist to stops: 1.384, linearity: 1093.603\n",
      "dist to stops: 1.384, linearity: 1093.603\n",
      "dist to stops: 1.384, linearity: 1093.603\n",
      "dist to stops: 1.384, linearity: 1093.603\n",
      "dist to stops: 1.384, linearity: 1093.603\n",
      "dist to stops: 1.384, linearity: 1093.603\n",
      "dist to stops: 1.384, linearity: 1093.603\n",
      "dist to stops: 1.384, linearity: 1093.603\n",
      "dist to stops: 1.384, linearity: 1093.603\n",
      "dist to stops: 1.384, linearity: 1093.603\n",
      "dist to stops: 1.384, linearity: 1093.603\n",
      "dist to stops: 1.384, linearity: 1093.603\n",
      "dist to stops: 1.384, linearity: 1093.603\n",
      "dist to stops: 1.383, linearity: 1093.601\n",
      "dist to stops: 1.383, linearity: 1093.601\n",
      "dist to stops: 1.383, linearity: 1093.601\n",
      "dist to stops: 1.383, linearity: 1093.601\n",
      "dist to stops: 1.383, linearity: 1093.601\n",
      "dist to stops: 1.383, linearity: 1093.601\n",
      "dist to stops: 1.383, linearity: 1093.601\n",
      "dist to stops: 1.383, linearity: 1093.601\n",
      "dist to stops: 1.383, linearity: 1093.601\n",
      "dist to stops: 1.383, linearity: 1093.601\n",
      "dist to stops: 1.383, linearity: 1093.601\n",
      "dist to stops: 1.383, linearity: 1093.601\n",
      "dist to stops: 1.383, linearity: 1093.601\n",
      "dist to stops: 1.383, linearity: 1093.601\n",
      "dist to stops: 1.383, linearity: 1093.601\n",
      "dist to stops: 1.383, linearity: 1093.601\n",
      "dist to stops: 1.383, linearity: 1093.601\n",
      "dist to stops: 1.383, linearity: 1093.601\n",
      "dist to stops: 1.383, linearity: 1093.601\n",
      "dist to stops: 1.383, linearity: 1093.601\n",
      "dist to stops: 1.383, linearity: 1093.601\n",
      "dist to stops: 1.383, linearity: 1093.601\n",
      "dist to stops: 1.383, linearity: 1093.601\n",
      "dist to stops: 1.383, linearity: 1093.601\n",
      "dist to stops: 1.383, linearity: 1093.601\n",
      "dist to stops: 1.383, linearity: 1093.597\n",
      "dist to stops: 1.383, linearity: 1093.597\n",
      "dist to stops: 1.383, linearity: 1093.597\n",
      "dist to stops: 1.383, linearity: 1093.597\n",
      "dist to stops: 1.383, linearity: 1093.597\n",
      "dist to stops: 1.383, linearity: 1093.597\n",
      "dist to stops: 1.383, linearity: 1093.597\n",
      "dist to stops: 1.383, linearity: 1093.597\n",
      "dist to stops: 1.383, linearity: 1093.597\n",
      "dist to stops: 1.383, linearity: 1093.597\n",
      "dist to stops: 1.383, linearity: 1093.597\n",
      "dist to stops: 1.383, linearity: 1093.597\n",
      "dist to stops: 1.383, linearity: 1093.597\n",
      "dist to stops: 1.383, linearity: 1093.597\n",
      "dist to stops: 1.383, linearity: 1093.597\n",
      "dist to stops: 1.383, linearity: 1093.597\n",
      "dist to stops: 1.383, linearity: 1093.597\n",
      "dist to stops: 1.383, linearity: 1093.597\n",
      "dist to stops: 1.383, linearity: 1093.597\n",
      "dist to stops: 1.383, linearity: 1093.597\n",
      "dist to stops: 1.383, linearity: 1093.597\n",
      "dist to stops: 1.383, linearity: 1093.597\n",
      "dist to stops: 1.383, linearity: 1093.597\n",
      "dist to stops: 1.383, linearity: 1093.597\n",
      "dist to stops: 1.383, linearity: 1093.597\n",
      "dist to stops: 1.382, linearity: 1093.597\n",
      "dist to stops: 1.382, linearity: 1093.597\n",
      "dist to stops: 1.382, linearity: 1093.597\n",
      "dist to stops: 1.382, linearity: 1093.597\n",
      "dist to stops: 1.382, linearity: 1093.597\n",
      "dist to stops: 1.382, linearity: 1093.597\n",
      "dist to stops: 1.382, linearity: 1093.597\n",
      "dist to stops: 1.382, linearity: 1093.597\n",
      "dist to stops: 1.382, linearity: 1093.597\n",
      "dist to stops: 1.382, linearity: 1093.597\n",
      "dist to stops: 1.382, linearity: 1093.597\n",
      "dist to stops: 1.382, linearity: 1093.597\n",
      "dist to stops: 1.382, linearity: 1093.597\n",
      "dist to stops: 1.382, linearity: 1093.597\n",
      "dist to stops: 1.382, linearity: 1093.597\n",
      "dist to stops: 1.382, linearity: 1093.597\n",
      "dist to stops: 1.382, linearity: 1093.597\n",
      "dist to stops: 1.382, linearity: 1093.597\n",
      "dist to stops: 1.382, linearity: 1093.597\n",
      "dist to stops: 1.382, linearity: 1093.597\n",
      "dist to stops: 1.382, linearity: 1093.597\n",
      "dist to stops: 1.382, linearity: 1093.597\n",
      "dist to stops: 1.382, linearity: 1093.597\n",
      "dist to stops: 1.382, linearity: 1093.597\n",
      "dist to stops: 1.382, linearity: 1093.597\n",
      "dist to stops: 1.387, linearity: 1093.596\n",
      "dist to stops: 1.387, linearity: 1093.596\n",
      "dist to stops: 1.387, linearity: 1093.596\n",
      "dist to stops: 1.387, linearity: 1093.596\n",
      "dist to stops: 1.387, linearity: 1093.596\n",
      "dist to stops: 1.387, linearity: 1093.596\n",
      "dist to stops: 1.387, linearity: 1093.596\n",
      "dist to stops: 1.387, linearity: 1093.596\n",
      "dist to stops: 1.387, linearity: 1093.596\n",
      "dist to stops: 1.387, linearity: 1093.596\n",
      "dist to stops: 1.387, linearity: 1093.596\n",
      "dist to stops: 1.387, linearity: 1093.596\n",
      "dist to stops: 1.387, linearity: 1093.596\n",
      "dist to stops: 1.387, linearity: 1093.596\n",
      "dist to stops: 1.387, linearity: 1093.596\n",
      "dist to stops: 1.387, linearity: 1093.596\n",
      "dist to stops: 1.387, linearity: 1093.596\n",
      "dist to stops: 1.387, linearity: 1093.596\n",
      "dist to stops: 1.387, linearity: 1093.596\n",
      "dist to stops: 1.387, linearity: 1093.596\n",
      "dist to stops: 1.387, linearity: 1093.596\n",
      "dist to stops: 1.387, linearity: 1093.596\n",
      "dist to stops: 1.387, linearity: 1093.596\n",
      "dist to stops: 1.387, linearity: 1093.596\n",
      "dist to stops: 1.387, linearity: 1093.596\n",
      "dist to stops: 1.382, linearity: 1093.597\n",
      "dist to stops: 1.382, linearity: 1093.597\n",
      "dist to stops: 1.382, linearity: 1093.597\n",
      "dist to stops: 1.382, linearity: 1093.597\n",
      "dist to stops: 1.382, linearity: 1093.597\n",
      "dist to stops: 1.382, linearity: 1093.597\n",
      "dist to stops: 1.382, linearity: 1093.597\n",
      "dist to stops: 1.382, linearity: 1093.597\n",
      "dist to stops: 1.382, linearity: 1093.597\n",
      "dist to stops: 1.382, linearity: 1093.597\n",
      "dist to stops: 1.382, linearity: 1093.597\n",
      "dist to stops: 1.382, linearity: 1093.597\n",
      "dist to stops: 1.382, linearity: 1093.597\n",
      "dist to stops: 1.382, linearity: 1093.597\n",
      "dist to stops: 1.382, linearity: 1093.597\n",
      "dist to stops: 1.382, linearity: 1093.597\n",
      "dist to stops: 1.382, linearity: 1093.597\n"
     ]
    },
    {
     "name": "stdout",
     "output_type": "stream",
     "text": [
      "dist to stops: 1.382, linearity: 1093.597\n",
      "dist to stops: 1.382, linearity: 1093.597\n",
      "dist to stops: 1.382, linearity: 1093.597\n",
      "dist to stops: 1.382, linearity: 1093.597\n",
      "dist to stops: 1.382, linearity: 1093.597\n",
      "dist to stops: 1.382, linearity: 1093.597\n",
      "dist to stops: 1.382, linearity: 1093.597\n",
      "dist to stops: 1.382, linearity: 1093.597\n",
      "dist to stops: 1.383, linearity: 1093.596\n",
      "dist to stops: 1.383, linearity: 1093.596\n",
      "dist to stops: 1.383, linearity: 1093.596\n",
      "dist to stops: 1.383, linearity: 1093.596\n",
      "dist to stops: 1.383, linearity: 1093.596\n",
      "dist to stops: 1.383, linearity: 1093.596\n",
      "dist to stops: 1.383, linearity: 1093.596\n",
      "dist to stops: 1.383, linearity: 1093.596\n",
      "dist to stops: 1.383, linearity: 1093.596\n",
      "dist to stops: 1.383, linearity: 1093.596\n",
      "dist to stops: 1.383, linearity: 1093.596\n",
      "dist to stops: 1.383, linearity: 1093.596\n",
      "dist to stops: 1.383, linearity: 1093.596\n",
      "dist to stops: 1.383, linearity: 1093.596\n",
      "dist to stops: 1.383, linearity: 1093.596\n",
      "dist to stops: 1.383, linearity: 1093.596\n",
      "dist to stops: 1.383, linearity: 1093.596\n",
      "dist to stops: 1.383, linearity: 1093.596\n",
      "dist to stops: 1.383, linearity: 1093.596\n",
      "dist to stops: 1.383, linearity: 1093.596\n",
      "dist to stops: 1.383, linearity: 1093.596\n",
      "dist to stops: 1.383, linearity: 1093.596\n",
      "dist to stops: 1.383, linearity: 1093.596\n",
      "dist to stops: 1.383, linearity: 1093.596\n",
      "dist to stops: 1.383, linearity: 1093.596\n",
      "dist to stops: 1.384, linearity: 1093.594\n",
      "dist to stops: 1.384, linearity: 1093.594\n",
      "dist to stops: 1.384, linearity: 1093.594\n",
      "dist to stops: 1.384, linearity: 1093.594\n",
      "dist to stops: 1.384, linearity: 1093.594\n",
      "dist to stops: 1.384, linearity: 1093.594\n",
      "dist to stops: 1.384, linearity: 1093.594\n",
      "dist to stops: 1.384, linearity: 1093.594\n",
      "dist to stops: 1.384, linearity: 1093.594\n",
      "dist to stops: 1.384, linearity: 1093.594\n",
      "dist to stops: 1.384, linearity: 1093.594\n",
      "dist to stops: 1.384, linearity: 1093.594\n",
      "dist to stops: 1.384, linearity: 1093.594\n",
      "dist to stops: 1.384, linearity: 1093.594\n",
      "dist to stops: 1.384, linearity: 1093.594\n",
      "dist to stops: 1.384, linearity: 1093.594\n",
      "dist to stops: 1.384, linearity: 1093.594\n",
      "dist to stops: 1.384, linearity: 1093.594\n",
      "dist to stops: 1.384, linearity: 1093.594\n",
      "dist to stops: 1.384, linearity: 1093.594\n",
      "dist to stops: 1.384, linearity: 1093.594\n",
      "dist to stops: 1.384, linearity: 1093.594\n",
      "dist to stops: 1.384, linearity: 1093.594\n",
      "dist to stops: 1.384, linearity: 1093.594\n",
      "dist to stops: 1.384, linearity: 1093.594\n",
      "dist to stops: 1.383, linearity: 1093.597\n",
      "dist to stops: 1.383, linearity: 1093.597\n",
      "dist to stops: 1.383, linearity: 1093.597\n",
      "dist to stops: 1.383, linearity: 1093.597\n",
      "dist to stops: 1.383, linearity: 1093.597\n",
      "dist to stops: 1.383, linearity: 1093.597\n",
      "dist to stops: 1.383, linearity: 1093.597\n",
      "dist to stops: 1.383, linearity: 1093.597\n",
      "dist to stops: 1.383, linearity: 1093.597\n",
      "dist to stops: 1.383, linearity: 1093.597\n",
      "dist to stops: 1.383, linearity: 1093.597\n",
      "dist to stops: 1.383, linearity: 1093.597\n",
      "dist to stops: 1.383, linearity: 1093.597\n",
      "dist to stops: 1.383, linearity: 1093.597\n",
      "dist to stops: 1.383, linearity: 1093.597\n",
      "dist to stops: 1.383, linearity: 1093.597\n",
      "dist to stops: 1.383, linearity: 1093.597\n",
      "dist to stops: 1.383, linearity: 1093.597\n",
      "dist to stops: 1.383, linearity: 1093.597\n",
      "dist to stops: 1.383, linearity: 1093.597\n",
      "dist to stops: 1.383, linearity: 1093.597\n",
      "dist to stops: 1.383, linearity: 1093.597\n",
      "dist to stops: 1.383, linearity: 1093.597\n",
      "dist to stops: 1.383, linearity: 1093.597\n",
      "dist to stops: 1.383, linearity: 1093.597\n",
      "dist to stops: 1.382, linearity: 1093.597\n",
      "dist to stops: 1.382, linearity: 1093.597\n",
      "dist to stops: 1.382, linearity: 1093.597\n",
      "dist to stops: 1.382, linearity: 1093.597\n",
      "dist to stops: 1.382, linearity: 1093.597\n",
      "dist to stops: 1.382, linearity: 1093.597\n",
      "dist to stops: 1.382, linearity: 1093.597\n",
      "dist to stops: 1.382, linearity: 1093.597\n",
      "dist to stops: 1.382, linearity: 1093.597\n",
      "dist to stops: 1.382, linearity: 1093.597\n",
      "dist to stops: 1.382, linearity: 1093.597\n",
      "dist to stops: 1.382, linearity: 1093.597\n",
      "dist to stops: 1.382, linearity: 1093.597\n",
      "dist to stops: 1.382, linearity: 1093.597\n",
      "dist to stops: 1.382, linearity: 1093.597\n",
      "dist to stops: 1.382, linearity: 1093.597\n",
      "dist to stops: 1.382, linearity: 1093.597\n",
      "dist to stops: 1.382, linearity: 1093.597\n",
      "dist to stops: 1.382, linearity: 1093.597\n",
      "dist to stops: 1.382, linearity: 1093.597\n",
      "dist to stops: 1.382, linearity: 1093.597\n",
      "dist to stops: 1.382, linearity: 1093.597\n",
      "dist to stops: 1.382, linearity: 1093.597\n",
      "dist to stops: 1.382, linearity: 1093.597\n",
      "dist to stops: 1.382, linearity: 1093.597\n",
      "dist to stops: 1.382, linearity: 1093.599\n",
      "dist to stops: 1.382, linearity: 1093.599\n",
      "dist to stops: 1.382, linearity: 1093.599\n",
      "dist to stops: 1.382, linearity: 1093.599\n",
      "dist to stops: 1.382, linearity: 1093.599\n",
      "dist to stops: 1.382, linearity: 1093.599\n",
      "dist to stops: 1.382, linearity: 1093.599\n",
      "dist to stops: 1.382, linearity: 1093.599\n",
      "dist to stops: 1.382, linearity: 1093.599\n",
      "dist to stops: 1.382, linearity: 1093.599\n",
      "dist to stops: 1.382, linearity: 1093.599\n",
      "dist to stops: 1.382, linearity: 1093.599\n",
      "dist to stops: 1.382, linearity: 1093.599\n",
      "dist to stops: 1.382, linearity: 1093.599\n",
      "dist to stops: 1.382, linearity: 1093.599\n",
      "dist to stops: 1.382, linearity: 1093.599\n",
      "dist to stops: 1.382, linearity: 1093.599\n",
      "dist to stops: 1.382, linearity: 1093.599\n",
      "dist to stops: 1.382, linearity: 1093.599\n",
      "dist to stops: 1.382, linearity: 1093.599\n",
      "dist to stops: 1.382, linearity: 1093.599\n",
      "dist to stops: 1.382, linearity: 1093.599\n",
      "dist to stops: 1.382, linearity: 1093.599\n",
      "dist to stops: 1.382, linearity: 1093.599\n",
      "dist to stops: 1.382, linearity: 1093.599\n",
      "dist to stops: 1.382, linearity: 1093.598\n",
      "dist to stops: 1.382, linearity: 1093.598\n",
      "dist to stops: 1.382, linearity: 1093.598\n",
      "dist to stops: 1.382, linearity: 1093.598\n",
      "dist to stops: 1.382, linearity: 1093.598\n",
      "dist to stops: 1.382, linearity: 1093.598\n",
      "dist to stops: 1.382, linearity: 1093.598\n",
      "dist to stops: 1.382, linearity: 1093.598\n",
      "dist to stops: 1.382, linearity: 1093.598\n",
      "dist to stops: 1.382, linearity: 1093.598\n",
      "dist to stops: 1.382, linearity: 1093.598\n",
      "dist to stops: 1.382, linearity: 1093.598\n",
      "dist to stops: 1.382, linearity: 1093.598\n",
      "dist to stops: 1.382, linearity: 1093.598\n",
      "dist to stops: 1.382, linearity: 1093.598\n",
      "dist to stops: 1.382, linearity: 1093.598\n",
      "dist to stops: 1.382, linearity: 1093.598\n",
      "dist to stops: 1.382, linearity: 1093.598\n",
      "dist to stops: 1.382, linearity: 1093.598\n",
      "dist to stops: 1.382, linearity: 1093.598\n",
      "dist to stops: 1.382, linearity: 1093.598\n",
      "dist to stops: 1.382, linearity: 1093.598\n",
      "dist to stops: 1.382, linearity: 1093.598\n",
      "dist to stops: 1.382, linearity: 1093.598\n",
      "dist to stops: 1.382, linearity: 1093.598\n",
      "dist to stops: 1.382, linearity: 1093.599\n",
      "dist to stops: 1.382, linearity: 1093.599\n",
      "dist to stops: 1.382, linearity: 1093.599\n",
      "dist to stops: 1.382, linearity: 1093.599\n",
      "dist to stops: 1.382, linearity: 1093.599\n",
      "dist to stops: 1.382, linearity: 1093.599\n",
      "dist to stops: 1.382, linearity: 1093.599\n",
      "dist to stops: 1.382, linearity: 1093.599\n",
      "dist to stops: 1.382, linearity: 1093.599\n",
      "dist to stops: 1.382, linearity: 1093.599\n",
      "dist to stops: 1.382, linearity: 1093.599\n",
      "dist to stops: 1.382, linearity: 1093.599\n",
      "dist to stops: 1.382, linearity: 1093.599\n",
      "dist to stops: 1.382, linearity: 1093.599\n",
      "dist to stops: 1.382, linearity: 1093.599\n",
      "dist to stops: 1.382, linearity: 1093.599\n",
      "dist to stops: 1.382, linearity: 1093.599\n",
      "dist to stops: 1.382, linearity: 1093.599\n",
      "dist to stops: 1.382, linearity: 1093.599\n",
      "dist to stops: 1.382, linearity: 1093.599\n",
      "dist to stops: 1.382, linearity: 1093.599\n",
      "dist to stops: 1.382, linearity: 1093.599\n",
      "dist to stops: 1.382, linearity: 1093.599\n",
      "dist to stops: 1.382, linearity: 1093.599\n",
      "dist to stops: 1.382, linearity: 1093.599\n",
      "dist to stops: 1.382, linearity: 1093.598\n",
      "dist to stops: 1.382, linearity: 1093.598\n",
      "dist to stops: 1.382, linearity: 1093.598\n",
      "dist to stops: 1.382, linearity: 1093.598\n",
      "dist to stops: 1.382, linearity: 1093.598\n",
      "dist to stops: 1.382, linearity: 1093.598\n",
      "dist to stops: 1.382, linearity: 1093.598\n",
      "dist to stops: 1.382, linearity: 1093.598\n",
      "dist to stops: 1.382, linearity: 1093.598\n",
      "dist to stops: 1.382, linearity: 1093.598\n",
      "dist to stops: 1.382, linearity: 1093.598\n",
      "dist to stops: 1.382, linearity: 1093.598\n",
      "dist to stops: 1.382, linearity: 1093.598\n",
      "dist to stops: 1.382, linearity: 1093.598\n",
      "dist to stops: 1.382, linearity: 1093.598\n",
      "dist to stops: 1.382, linearity: 1093.598\n",
      "dist to stops: 1.382, linearity: 1093.598\n",
      "dist to stops: 1.382, linearity: 1093.598\n",
      "dist to stops: 1.382, linearity: 1093.598\n",
      "dist to stops: 1.382, linearity: 1093.598\n",
      "dist to stops: 1.382, linearity: 1093.598\n",
      "dist to stops: 1.382, linearity: 1093.598\n",
      "dist to stops: 1.382, linearity: 1093.598\n",
      "dist to stops: 1.382, linearity: 1093.598\n",
      "dist to stops: 1.382, linearity: 1093.598\n",
      "dist to stops: 1.383, linearity: 1093.598\n",
      "dist to stops: 1.383, linearity: 1093.598\n",
      "dist to stops: 1.383, linearity: 1093.598\n",
      "dist to stops: 1.383, linearity: 1093.598\n",
      "dist to stops: 1.383, linearity: 1093.598\n",
      "dist to stops: 1.383, linearity: 1093.598\n",
      "dist to stops: 1.383, linearity: 1093.598\n",
      "dist to stops: 1.383, linearity: 1093.598\n",
      "dist to stops: 1.383, linearity: 1093.598\n",
      "dist to stops: 1.383, linearity: 1093.598\n",
      "dist to stops: 1.383, linearity: 1093.598\n",
      "dist to stops: 1.383, linearity: 1093.598\n",
      "dist to stops: 1.383, linearity: 1093.598\n",
      "dist to stops: 1.383, linearity: 1093.598\n",
      "dist to stops: 1.383, linearity: 1093.598\n",
      "dist to stops: 1.383, linearity: 1093.598\n",
      "dist to stops: 1.383, linearity: 1093.598\n",
      "dist to stops: 1.383, linearity: 1093.598\n",
      "dist to stops: 1.383, linearity: 1093.598\n",
      "dist to stops: 1.383, linearity: 1093.598\n",
      "dist to stops: 1.383, linearity: 1093.598\n",
      "dist to stops: 1.383, linearity: 1093.598\n",
      "dist to stops: 1.383, linearity: 1093.598\n",
      "dist to stops: 1.383, linearity: 1093.598\n",
      "dist to stops: 1.383, linearity: 1093.598\n",
      "dist to stops: 1.382, linearity: 1093.598\n",
      "dist to stops: 1.382, linearity: 1093.598\n",
      "dist to stops: 1.382, linearity: 1093.598\n",
      "dist to stops: 1.382, linearity: 1093.598\n",
      "dist to stops: 1.382, linearity: 1093.598\n",
      "dist to stops: 1.382, linearity: 1093.598\n",
      "dist to stops: 1.382, linearity: 1093.598\n",
      "dist to stops: 1.382, linearity: 1093.598\n",
      "dist to stops: 1.382, linearity: 1093.598\n",
      "dist to stops: 1.382, linearity: 1093.598\n",
      "dist to stops: 1.382, linearity: 1093.598\n",
      "dist to stops: 1.382, linearity: 1093.598\n",
      "dist to stops: 1.382, linearity: 1093.598\n",
      "dist to stops: 1.382, linearity: 1093.598\n",
      "dist to stops: 1.382, linearity: 1093.598\n",
      "dist to stops: 1.382, linearity: 1093.598\n",
      "dist to stops: 1.382, linearity: 1093.598\n",
      "dist to stops: 1.382, linearity: 1093.598\n",
      "dist to stops: 1.382, linearity: 1093.598\n",
      "dist to stops: 1.382, linearity: 1093.598\n",
      "dist to stops: 1.382, linearity: 1093.598\n",
      "dist to stops: 1.382, linearity: 1093.598\n",
      "dist to stops: 1.382, linearity: 1093.598\n",
      "dist to stops: 1.382, linearity: 1093.598\n",
      "dist to stops: 1.382, linearity: 1093.598\n",
      "dist to stops: 1.384, linearity: 1093.598\n",
      "dist to stops: 1.384, linearity: 1093.598\n",
      "dist to stops: 1.384, linearity: 1093.598\n",
      "dist to stops: 1.384, linearity: 1093.598\n",
      "dist to stops: 1.384, linearity: 1093.598\n",
      "dist to stops: 1.384, linearity: 1093.598\n",
      "dist to stops: 1.384, linearity: 1093.598\n",
      "dist to stops: 1.384, linearity: 1093.598\n",
      "dist to stops: 1.384, linearity: 1093.598\n",
      "dist to stops: 1.384, linearity: 1093.598\n",
      "dist to stops: 1.384, linearity: 1093.598\n",
      "dist to stops: 1.384, linearity: 1093.598\n",
      "dist to stops: 1.384, linearity: 1093.598\n",
      "dist to stops: 1.384, linearity: 1093.598\n",
      "dist to stops: 1.384, linearity: 1093.598\n",
      "dist to stops: 1.384, linearity: 1093.598\n",
      "dist to stops: 1.384, linearity: 1093.598\n",
      "dist to stops: 1.384, linearity: 1093.598\n",
      "dist to stops: 1.384, linearity: 1093.598\n",
      "dist to stops: 1.384, linearity: 1093.598\n",
      "dist to stops: 1.384, linearity: 1093.598\n",
      "dist to stops: 1.384, linearity: 1093.598\n",
      "dist to stops: 1.384, linearity: 1093.598\n",
      "dist to stops: 1.384, linearity: 1093.598\n",
      "dist to stops: 1.384, linearity: 1093.598\n",
      "dist to stops: 1.382, linearity: 1093.598\n",
      "dist to stops: 1.382, linearity: 1093.598\n",
      "dist to stops: 1.382, linearity: 1093.598\n",
      "dist to stops: 1.382, linearity: 1093.598\n",
      "dist to stops: 1.382, linearity: 1093.598\n",
      "dist to stops: 1.382, linearity: 1093.598\n",
      "dist to stops: 1.382, linearity: 1093.598\n"
     ]
    },
    {
     "name": "stdout",
     "output_type": "stream",
     "text": [
      "dist to stops: 1.382, linearity: 1093.598\n",
      "dist to stops: 1.382, linearity: 1093.598\n",
      "dist to stops: 1.382, linearity: 1093.598\n",
      "dist to stops: 1.382, linearity: 1093.598\n",
      "dist to stops: 1.382, linearity: 1093.598\n",
      "dist to stops: 1.382, linearity: 1093.598\n",
      "dist to stops: 1.382, linearity: 1093.598\n",
      "dist to stops: 1.382, linearity: 1093.598\n",
      "dist to stops: 1.382, linearity: 1093.598\n",
      "dist to stops: 1.382, linearity: 1093.598\n",
      "dist to stops: 1.382, linearity: 1093.598\n",
      "dist to stops: 1.382, linearity: 1093.598\n",
      "dist to stops: 1.382, linearity: 1093.598\n",
      "dist to stops: 1.382, linearity: 1093.598\n",
      "dist to stops: 1.382, linearity: 1093.598\n",
      "dist to stops: 1.382, linearity: 1093.598\n",
      "dist to stops: 1.382, linearity: 1093.598\n",
      "dist to stops: 1.382, linearity: 1093.598\n",
      "dist to stops: 1.384, linearity: 1093.598\n",
      "dist to stops: 1.384, linearity: 1093.598\n",
      "dist to stops: 1.384, linearity: 1093.598\n",
      "dist to stops: 1.384, linearity: 1093.598\n",
      "dist to stops: 1.384, linearity: 1093.598\n",
      "dist to stops: 1.384, linearity: 1093.598\n",
      "dist to stops: 1.384, linearity: 1093.598\n",
      "dist to stops: 1.384, linearity: 1093.598\n",
      "dist to stops: 1.384, linearity: 1093.598\n",
      "dist to stops: 1.384, linearity: 1093.598\n",
      "dist to stops: 1.384, linearity: 1093.598\n",
      "dist to stops: 1.384, linearity: 1093.598\n",
      "dist to stops: 1.384, linearity: 1093.598\n",
      "dist to stops: 1.384, linearity: 1093.598\n",
      "dist to stops: 1.384, linearity: 1093.598\n",
      "dist to stops: 1.384, linearity: 1093.598\n",
      "dist to stops: 1.384, linearity: 1093.598\n",
      "dist to stops: 1.384, linearity: 1093.598\n",
      "dist to stops: 1.384, linearity: 1093.598\n",
      "dist to stops: 1.384, linearity: 1093.598\n",
      "dist to stops: 1.384, linearity: 1093.598\n",
      "dist to stops: 1.384, linearity: 1093.598\n",
      "dist to stops: 1.384, linearity: 1093.598\n",
      "dist to stops: 1.384, linearity: 1093.598\n",
      "dist to stops: 1.384, linearity: 1093.598\n",
      "dist to stops: 1.382, linearity: 1093.598\n",
      "dist to stops: 1.382, linearity: 1093.598\n",
      "dist to stops: 1.382, linearity: 1093.598\n",
      "dist to stops: 1.382, linearity: 1093.598\n",
      "dist to stops: 1.382, linearity: 1093.598\n",
      "dist to stops: 1.382, linearity: 1093.598\n",
      "dist to stops: 1.382, linearity: 1093.598\n",
      "dist to stops: 1.382, linearity: 1093.598\n",
      "dist to stops: 1.382, linearity: 1093.598\n",
      "dist to stops: 1.382, linearity: 1093.598\n",
      "dist to stops: 1.382, linearity: 1093.598\n",
      "dist to stops: 1.382, linearity: 1093.598\n",
      "dist to stops: 1.382, linearity: 1093.598\n",
      "dist to stops: 1.382, linearity: 1093.598\n",
      "dist to stops: 1.382, linearity: 1093.598\n",
      "dist to stops: 1.382, linearity: 1093.598\n",
      "dist to stops: 1.382, linearity: 1093.598\n",
      "dist to stops: 1.382, linearity: 1093.598\n",
      "dist to stops: 1.382, linearity: 1093.598\n",
      "dist to stops: 1.382, linearity: 1093.598\n",
      "dist to stops: 1.382, linearity: 1093.598\n",
      "dist to stops: 1.382, linearity: 1093.598\n",
      "dist to stops: 1.382, linearity: 1093.598\n",
      "dist to stops: 1.382, linearity: 1093.598\n",
      "dist to stops: 1.382, linearity: 1093.598\n",
      "dist to stops: 1.382, linearity: 1093.598\n",
      "dist to stops: 1.382, linearity: 1093.598\n",
      "dist to stops: 1.382, linearity: 1093.598\n",
      "dist to stops: 1.382, linearity: 1093.598\n",
      "dist to stops: 1.382, linearity: 1093.598\n",
      "dist to stops: 1.382, linearity: 1093.598\n",
      "dist to stops: 1.382, linearity: 1093.598\n",
      "dist to stops: 1.382, linearity: 1093.598\n",
      "dist to stops: 1.382, linearity: 1093.598\n",
      "dist to stops: 1.382, linearity: 1093.598\n",
      "dist to stops: 1.382, linearity: 1093.598\n",
      "dist to stops: 1.382, linearity: 1093.598\n",
      "dist to stops: 1.382, linearity: 1093.598\n",
      "dist to stops: 1.382, linearity: 1093.598\n",
      "dist to stops: 1.382, linearity: 1093.598\n",
      "dist to stops: 1.382, linearity: 1093.598\n",
      "dist to stops: 1.382, linearity: 1093.598\n",
      "dist to stops: 1.382, linearity: 1093.598\n",
      "dist to stops: 1.382, linearity: 1093.598\n",
      "dist to stops: 1.382, linearity: 1093.598\n",
      "dist to stops: 1.382, linearity: 1093.598\n",
      "dist to stops: 1.382, linearity: 1093.598\n",
      "dist to stops: 1.382, linearity: 1093.598\n",
      "dist to stops: 1.382, linearity: 1093.598\n",
      "dist to stops: 1.382, linearity: 1093.598\n",
      "dist to stops: 1.382, linearity: 1093.598\n",
      "dist to stops: 1.382, linearity: 1093.598\n",
      "dist to stops: 1.382, linearity: 1093.598\n",
      "dist to stops: 1.382, linearity: 1093.598\n",
      "dist to stops: 1.382, linearity: 1093.598\n",
      "dist to stops: 1.382, linearity: 1093.598\n",
      "dist to stops: 1.382, linearity: 1093.598\n",
      "dist to stops: 1.382, linearity: 1093.598\n",
      "dist to stops: 1.382, linearity: 1093.598\n",
      "dist to stops: 1.382, linearity: 1093.598\n",
      "dist to stops: 1.382, linearity: 1093.598\n",
      "dist to stops: 1.382, linearity: 1093.598\n",
      "dist to stops: 1.382, linearity: 1093.598\n",
      "dist to stops: 1.382, linearity: 1093.598\n",
      "dist to stops: 1.382, linearity: 1093.598\n",
      "dist to stops: 1.382, linearity: 1093.598\n",
      "dist to stops: 1.382, linearity: 1093.598\n",
      "dist to stops: 1.382, linearity: 1093.598\n",
      "dist to stops: 1.382, linearity: 1093.598\n",
      "dist to stops: 1.382, linearity: 1093.598\n",
      "dist to stops: 1.382, linearity: 1093.598\n",
      "dist to stops: 1.382, linearity: 1093.598\n",
      "dist to stops: 1.382, linearity: 1093.598\n",
      "dist to stops: 1.382, linearity: 1093.598\n",
      "dist to stops: 1.382, linearity: 1093.598\n",
      "dist to stops: 1.382, linearity: 1093.598\n",
      "dist to stops: 1.382, linearity: 1093.598\n",
      "dist to stops: 1.382, linearity: 1093.598\n",
      "dist to stops: 1.382, linearity: 1093.598\n",
      "dist to stops: 1.382, linearity: 1093.598\n",
      "dist to stops: 1.382, linearity: 1093.598\n",
      "dist to stops: 1.382, linearity: 1093.598\n",
      "dist to stops: 1.382, linearity: 1093.598\n",
      "dist to stops: 1.382, linearity: 1093.598\n",
      "dist to stops: 1.382, linearity: 1093.598\n",
      "dist to stops: 1.382, linearity: 1093.598\n",
      "dist to stops: 1.382, linearity: 1093.598\n",
      "dist to stops: 1.382, linearity: 1093.598\n",
      "dist to stops: 1.382, linearity: 1093.598\n",
      "dist to stops: 1.382, linearity: 1093.598\n",
      "dist to stops: 1.382, linearity: 1093.598\n",
      "dist to stops: 1.382, linearity: 1093.598\n",
      "dist to stops: 1.382, linearity: 1093.598\n",
      "dist to stops: 1.382, linearity: 1093.598\n",
      "dist to stops: 1.382, linearity: 1093.598\n",
      "dist to stops: 1.382, linearity: 1093.598\n",
      "dist to stops: 1.382, linearity: 1093.598\n",
      "dist to stops: 1.382, linearity: 1093.598\n",
      "dist to stops: 1.382, linearity: 1093.598\n",
      "dist to stops: 1.382, linearity: 1093.598\n",
      "dist to stops: 1.382, linearity: 1093.598\n",
      "dist to stops: 1.382, linearity: 1093.598\n",
      "dist to stops: 1.382, linearity: 1093.598\n",
      "dist to stops: 1.382, linearity: 1093.598\n",
      "dist to stops: 1.382, linearity: 1093.598\n",
      "dist to stops: 1.382, linearity: 1093.598\n",
      "dist to stops: 1.382, linearity: 1093.598\n",
      "dist to stops: 1.382, linearity: 1093.598\n",
      "dist to stops: 1.382, linearity: 1093.598\n",
      "dist to stops: 1.382, linearity: 1093.598\n",
      "dist to stops: 1.382, linearity: 1093.598\n",
      "dist to stops: 1.382, linearity: 1093.598\n",
      "dist to stops: 1.382, linearity: 1093.598\n",
      "dist to stops: 1.382, linearity: 1093.598\n",
      "dist to stops: 1.382, linearity: 1093.598\n",
      "dist to stops: 1.382, linearity: 1093.598\n",
      "dist to stops: 1.382, linearity: 1093.598\n",
      "dist to stops: 1.382, linearity: 1093.598\n",
      "dist to stops: 1.382, linearity: 1093.598\n",
      "dist to stops: 1.382, linearity: 1093.598\n",
      "dist to stops: 1.382, linearity: 1093.598\n",
      "dist to stops: 1.382, linearity: 1093.598\n",
      "dist to stops: 1.382, linearity: 1093.598\n",
      "dist to stops: 1.382, linearity: 1093.598\n",
      "dist to stops: 1.382, linearity: 1093.598\n",
      "dist to stops: 1.382, linearity: 1093.598\n",
      "dist to stops: 1.382, linearity: 1093.598\n",
      "dist to stops: 1.382, linearity: 1093.598\n",
      "dist to stops: 1.382, linearity: 1093.598\n",
      "dist to stops: 1.382, linearity: 1093.598\n",
      "dist to stops: 1.382, linearity: 1093.598\n",
      "dist to stops: 1.382, linearity: 1093.598\n",
      "dist to stops: 1.382, linearity: 1093.598\n",
      "dist to stops: 1.382, linearity: 1093.598\n",
      "dist to stops: 1.382, linearity: 1093.598\n",
      "dist to stops: 1.382, linearity: 1093.598\n",
      "dist to stops: 1.382, linearity: 1093.598\n",
      "dist to stops: 1.382, linearity: 1093.598\n",
      "dist to stops: 1.382, linearity: 1093.598\n",
      "dist to stops: 1.382, linearity: 1093.598\n",
      "dist to stops: 1.382, linearity: 1093.598\n",
      "dist to stops: 1.382, linearity: 1093.598\n",
      "dist to stops: 1.382, linearity: 1093.598\n",
      "dist to stops: 1.382, linearity: 1093.598\n",
      "dist to stops: 1.382, linearity: 1093.598\n",
      "dist to stops: 1.382, linearity: 1093.598\n",
      "dist to stops: 1.382, linearity: 1093.598\n",
      "dist to stops: 1.382, linearity: 1093.598\n",
      "dist to stops: 1.382, linearity: 1093.598\n",
      "dist to stops: 1.382, linearity: 1093.598\n",
      "dist to stops: 1.384, linearity: 1093.597\n",
      "dist to stops: 1.384, linearity: 1093.597\n",
      "dist to stops: 1.384, linearity: 1093.597\n",
      "dist to stops: 1.384, linearity: 1093.597\n",
      "dist to stops: 1.384, linearity: 1093.597\n",
      "dist to stops: 1.384, linearity: 1093.597\n",
      "dist to stops: 1.384, linearity: 1093.597\n",
      "dist to stops: 1.384, linearity: 1093.597\n",
      "dist to stops: 1.384, linearity: 1093.597\n",
      "dist to stops: 1.384, linearity: 1093.597\n",
      "dist to stops: 1.384, linearity: 1093.597\n",
      "dist to stops: 1.384, linearity: 1093.597\n",
      "dist to stops: 1.384, linearity: 1093.597\n",
      "dist to stops: 1.384, linearity: 1093.597\n",
      "dist to stops: 1.384, linearity: 1093.597\n",
      "dist to stops: 1.384, linearity: 1093.597\n",
      "dist to stops: 1.384, linearity: 1093.597\n",
      "dist to stops: 1.384, linearity: 1093.597\n",
      "dist to stops: 1.384, linearity: 1093.597\n",
      "dist to stops: 1.384, linearity: 1093.597\n",
      "dist to stops: 1.384, linearity: 1093.597\n",
      "dist to stops: 1.384, linearity: 1093.597\n",
      "dist to stops: 1.384, linearity: 1093.597\n",
      "dist to stops: 1.384, linearity: 1093.597\n",
      "dist to stops: 1.384, linearity: 1093.597\n",
      "dist to stops: 1.382, linearity: 1093.598\n",
      "dist to stops: 1.382, linearity: 1093.598\n",
      "dist to stops: 1.382, linearity: 1093.598\n",
      "dist to stops: 1.382, linearity: 1093.598\n",
      "dist to stops: 1.382, linearity: 1093.598\n",
      "dist to stops: 1.382, linearity: 1093.598\n",
      "dist to stops: 1.382, linearity: 1093.598\n",
      "dist to stops: 1.382, linearity: 1093.598\n",
      "dist to stops: 1.382, linearity: 1093.598\n",
      "dist to stops: 1.382, linearity: 1093.598\n",
      "dist to stops: 1.382, linearity: 1093.598\n",
      "dist to stops: 1.382, linearity: 1093.598\n",
      "dist to stops: 1.382, linearity: 1093.598\n",
      "dist to stops: 1.382, linearity: 1093.598\n",
      "dist to stops: 1.382, linearity: 1093.598\n",
      "dist to stops: 1.382, linearity: 1093.598\n",
      "dist to stops: 1.382, linearity: 1093.598\n",
      "dist to stops: 1.382, linearity: 1093.598\n",
      "dist to stops: 1.382, linearity: 1093.598\n",
      "dist to stops: 1.382, linearity: 1093.598\n",
      "dist to stops: 1.382, linearity: 1093.598\n",
      "dist to stops: 1.382, linearity: 1093.598\n",
      "dist to stops: 1.382, linearity: 1093.598\n",
      "dist to stops: 1.382, linearity: 1093.598\n",
      "dist to stops: 1.382, linearity: 1093.598\n",
      "dist to stops: 1.382, linearity: 1093.598\n",
      "dist to stops: 1.382, linearity: 1093.598\n",
      "dist to stops: 1.382, linearity: 1093.598\n",
      "dist to stops: 1.382, linearity: 1093.598\n",
      "dist to stops: 1.382, linearity: 1093.598\n",
      "dist to stops: 1.382, linearity: 1093.598\n",
      "dist to stops: 1.382, linearity: 1093.598\n",
      "dist to stops: 1.382, linearity: 1093.598\n",
      "dist to stops: 1.382, linearity: 1093.598\n",
      "dist to stops: 1.382, linearity: 1093.598\n",
      "dist to stops: 1.382, linearity: 1093.598\n",
      "dist to stops: 1.382, linearity: 1093.598\n",
      "dist to stops: 1.382, linearity: 1093.598\n",
      "dist to stops: 1.382, linearity: 1093.598\n",
      "dist to stops: 1.382, linearity: 1093.598\n",
      "dist to stops: 1.382, linearity: 1093.598\n",
      "dist to stops: 1.382, linearity: 1093.598\n",
      "dist to stops: 1.382, linearity: 1093.598\n",
      "dist to stops: 1.382, linearity: 1093.598\n",
      "dist to stops: 1.382, linearity: 1093.598\n",
      "dist to stops: 1.382, linearity: 1093.598\n",
      "dist to stops: 1.382, linearity: 1093.598\n",
      "dist to stops: 1.382, linearity: 1093.598\n",
      "dist to stops: 1.382, linearity: 1093.598\n"
     ]
    },
    {
     "name": "stdout",
     "output_type": "stream",
     "text": [
      "dist to stops: 1.382, linearity: 1093.598\n",
      "dist to stops: 1.382, linearity: 1093.597\n",
      "dist to stops: 1.382, linearity: 1093.597\n",
      "dist to stops: 1.382, linearity: 1093.597\n",
      "dist to stops: 1.382, linearity: 1093.597\n",
      "dist to stops: 1.382, linearity: 1093.597\n",
      "dist to stops: 1.382, linearity: 1093.597\n",
      "dist to stops: 1.382, linearity: 1093.597\n",
      "dist to stops: 1.382, linearity: 1093.597\n",
      "dist to stops: 1.382, linearity: 1093.597\n",
      "dist to stops: 1.382, linearity: 1093.597\n",
      "dist to stops: 1.382, linearity: 1093.597\n",
      "dist to stops: 1.382, linearity: 1093.597\n",
      "dist to stops: 1.382, linearity: 1093.597\n",
      "dist to stops: 1.382, linearity: 1093.597\n",
      "dist to stops: 1.382, linearity: 1093.597\n",
      "dist to stops: 1.382, linearity: 1093.597\n",
      "dist to stops: 1.382, linearity: 1093.597\n",
      "dist to stops: 1.382, linearity: 1093.597\n",
      "dist to stops: 1.382, linearity: 1093.597\n",
      "dist to stops: 1.382, linearity: 1093.597\n",
      "dist to stops: 1.382, linearity: 1093.597\n",
      "dist to stops: 1.382, linearity: 1093.597\n",
      "dist to stops: 1.382, linearity: 1093.597\n",
      "dist to stops: 1.382, linearity: 1093.597\n",
      "dist to stops: 1.382, linearity: 1093.597\n",
      "dist to stops: 1.382, linearity: 1093.598\n",
      "dist to stops: 1.382, linearity: 1093.598\n",
      "dist to stops: 1.382, linearity: 1093.598\n",
      "dist to stops: 1.382, linearity: 1093.598\n",
      "dist to stops: 1.382, linearity: 1093.598\n",
      "dist to stops: 1.382, linearity: 1093.598\n",
      "dist to stops: 1.382, linearity: 1093.598\n",
      "dist to stops: 1.382, linearity: 1093.598\n",
      "dist to stops: 1.382, linearity: 1093.598\n",
      "dist to stops: 1.382, linearity: 1093.598\n",
      "dist to stops: 1.382, linearity: 1093.598\n",
      "dist to stops: 1.382, linearity: 1093.598\n",
      "dist to stops: 1.382, linearity: 1093.598\n",
      "dist to stops: 1.382, linearity: 1093.598\n",
      "dist to stops: 1.382, linearity: 1093.598\n",
      "dist to stops: 1.382, linearity: 1093.598\n",
      "dist to stops: 1.382, linearity: 1093.598\n",
      "dist to stops: 1.382, linearity: 1093.598\n",
      "dist to stops: 1.382, linearity: 1093.598\n",
      "dist to stops: 1.382, linearity: 1093.598\n",
      "dist to stops: 1.382, linearity: 1093.598\n",
      "dist to stops: 1.382, linearity: 1093.598\n",
      "dist to stops: 1.382, linearity: 1093.598\n",
      "dist to stops: 1.382, linearity: 1093.598\n",
      "dist to stops: 1.382, linearity: 1093.598\n",
      "dist to stops: 1.383, linearity: 1093.597\n",
      "dist to stops: 1.383, linearity: 1093.597\n",
      "dist to stops: 1.383, linearity: 1093.597\n",
      "dist to stops: 1.383, linearity: 1093.597\n",
      "dist to stops: 1.383, linearity: 1093.597\n",
      "dist to stops: 1.383, linearity: 1093.597\n",
      "dist to stops: 1.383, linearity: 1093.597\n",
      "dist to stops: 1.383, linearity: 1093.597\n",
      "dist to stops: 1.383, linearity: 1093.597\n",
      "dist to stops: 1.383, linearity: 1093.597\n",
      "dist to stops: 1.383, linearity: 1093.597\n",
      "dist to stops: 1.383, linearity: 1093.597\n",
      "dist to stops: 1.383, linearity: 1093.597\n",
      "dist to stops: 1.383, linearity: 1093.597\n",
      "dist to stops: 1.383, linearity: 1093.597\n",
      "dist to stops: 1.383, linearity: 1093.597\n",
      "dist to stops: 1.383, linearity: 1093.597\n",
      "dist to stops: 1.383, linearity: 1093.597\n",
      "dist to stops: 1.383, linearity: 1093.597\n",
      "dist to stops: 1.383, linearity: 1093.597\n",
      "dist to stops: 1.383, linearity: 1093.597\n",
      "dist to stops: 1.383, linearity: 1093.597\n",
      "dist to stops: 1.383, linearity: 1093.597\n",
      "dist to stops: 1.383, linearity: 1093.597\n",
      "dist to stops: 1.383, linearity: 1093.597\n",
      "dist to stops: 1.382, linearity: 1093.597\n",
      "dist to stops: 1.382, linearity: 1093.597\n",
      "dist to stops: 1.382, linearity: 1093.597\n",
      "dist to stops: 1.382, linearity: 1093.597\n",
      "dist to stops: 1.382, linearity: 1093.597\n",
      "dist to stops: 1.382, linearity: 1093.597\n",
      "dist to stops: 1.382, linearity: 1093.597\n",
      "dist to stops: 1.382, linearity: 1093.597\n",
      "dist to stops: 1.382, linearity: 1093.597\n",
      "dist to stops: 1.382, linearity: 1093.597\n",
      "dist to stops: 1.382, linearity: 1093.597\n",
      "dist to stops: 1.382, linearity: 1093.597\n",
      "dist to stops: 1.382, linearity: 1093.597\n",
      "dist to stops: 1.382, linearity: 1093.597\n",
      "dist to stops: 1.382, linearity: 1093.597\n",
      "dist to stops: 1.382, linearity: 1093.597\n",
      "dist to stops: 1.382, linearity: 1093.597\n",
      "dist to stops: 1.382, linearity: 1093.597\n",
      "dist to stops: 1.382, linearity: 1093.597\n",
      "dist to stops: 1.382, linearity: 1093.597\n",
      "dist to stops: 1.382, linearity: 1093.597\n",
      "dist to stops: 1.382, linearity: 1093.597\n",
      "dist to stops: 1.382, linearity: 1093.597\n",
      "dist to stops: 1.382, linearity: 1093.597\n",
      "dist to stops: 1.382, linearity: 1093.597\n",
      "dist to stops: 1.383, linearity: 1093.597\n",
      "dist to stops: 1.383, linearity: 1093.597\n",
      "dist to stops: 1.383, linearity: 1093.597\n",
      "dist to stops: 1.383, linearity: 1093.597\n",
      "dist to stops: 1.383, linearity: 1093.597\n",
      "dist to stops: 1.383, linearity: 1093.597\n",
      "dist to stops: 1.383, linearity: 1093.597\n",
      "dist to stops: 1.383, linearity: 1093.597\n",
      "dist to stops: 1.383, linearity: 1093.597\n",
      "dist to stops: 1.383, linearity: 1093.597\n",
      "dist to stops: 1.383, linearity: 1093.597\n",
      "dist to stops: 1.383, linearity: 1093.597\n",
      "dist to stops: 1.383, linearity: 1093.597\n",
      "dist to stops: 1.383, linearity: 1093.597\n",
      "dist to stops: 1.383, linearity: 1093.597\n",
      "dist to stops: 1.383, linearity: 1093.597\n",
      "dist to stops: 1.383, linearity: 1093.597\n",
      "dist to stops: 1.383, linearity: 1093.597\n",
      "dist to stops: 1.383, linearity: 1093.597\n",
      "dist to stops: 1.383, linearity: 1093.597\n",
      "dist to stops: 1.383, linearity: 1093.597\n",
      "dist to stops: 1.383, linearity: 1093.597\n",
      "dist to stops: 1.383, linearity: 1093.597\n",
      "dist to stops: 1.383, linearity: 1093.597\n",
      "dist to stops: 1.383, linearity: 1093.597\n",
      "dist to stops: 1.382, linearity: 1093.597\n",
      "dist to stops: 1.382, linearity: 1093.597\n",
      "dist to stops: 1.382, linearity: 1093.597\n",
      "dist to stops: 1.382, linearity: 1093.597\n",
      "dist to stops: 1.382, linearity: 1093.597\n",
      "dist to stops: 1.382, linearity: 1093.597\n",
      "dist to stops: 1.382, linearity: 1093.597\n",
      "dist to stops: 1.382, linearity: 1093.597\n",
      "dist to stops: 1.382, linearity: 1093.597\n",
      "dist to stops: 1.382, linearity: 1093.597\n",
      "dist to stops: 1.382, linearity: 1093.597\n",
      "dist to stops: 1.382, linearity: 1093.597\n",
      "dist to stops: 1.382, linearity: 1093.597\n",
      "dist to stops: 1.382, linearity: 1093.597\n",
      "dist to stops: 1.382, linearity: 1093.597\n",
      "dist to stops: 1.382, linearity: 1093.597\n",
      "dist to stops: 1.382, linearity: 1093.597\n",
      "dist to stops: 1.382, linearity: 1093.597\n",
      "dist to stops: 1.382, linearity: 1093.597\n",
      "dist to stops: 1.382, linearity: 1093.597\n",
      "dist to stops: 1.382, linearity: 1093.597\n",
      "dist to stops: 1.382, linearity: 1093.597\n",
      "dist to stops: 1.382, linearity: 1093.597\n",
      "dist to stops: 1.382, linearity: 1093.597\n",
      "dist to stops: 1.382, linearity: 1093.597\n",
      "dist to stops: 1.382, linearity: 1093.597\n",
      "dist to stops: 1.382, linearity: 1093.597\n",
      "dist to stops: 1.382, linearity: 1093.597\n",
      "dist to stops: 1.382, linearity: 1093.597\n",
      "dist to stops: 1.382, linearity: 1093.597\n",
      "dist to stops: 1.382, linearity: 1093.597\n",
      "dist to stops: 1.382, linearity: 1093.597\n",
      "dist to stops: 1.382, linearity: 1093.597\n",
      "dist to stops: 1.382, linearity: 1093.597\n",
      "dist to stops: 1.382, linearity: 1093.597\n",
      "dist to stops: 1.382, linearity: 1093.597\n",
      "dist to stops: 1.382, linearity: 1093.597\n",
      "dist to stops: 1.382, linearity: 1093.597\n",
      "dist to stops: 1.382, linearity: 1093.597\n",
      "dist to stops: 1.382, linearity: 1093.597\n",
      "dist to stops: 1.382, linearity: 1093.597\n",
      "dist to stops: 1.382, linearity: 1093.597\n",
      "dist to stops: 1.382, linearity: 1093.597\n",
      "dist to stops: 1.382, linearity: 1093.597\n",
      "dist to stops: 1.382, linearity: 1093.597\n",
      "dist to stops: 1.382, linearity: 1093.597\n",
      "dist to stops: 1.382, linearity: 1093.597\n",
      "dist to stops: 1.382, linearity: 1093.597\n",
      "dist to stops: 1.382, linearity: 1093.597\n",
      "dist to stops: 1.382, linearity: 1093.597\n"
     ]
    }
   ],
   "source": [
    "result = minimize(fun, x0, bounds=bnds)\n",
    "all_centroids = result.x\n",
    "lp_results = [[all_centroids[i], all_centroids[i + 1]] for i in range(0, len(all_centroids), 2)]\n"
   ]
  },
  {
   "cell_type": "code",
   "execution_count": 29,
   "id": "861938b3",
   "metadata": {},
   "outputs": [
    {
     "name": "stdout",
     "output_type": "stream",
     "text": [
      "Final Objective Function Value: 1873.811296717634\n",
      "Sum of Nearest Stop Evaluation: 1.3823044676633662\n"
     ]
    }
   ],
   "source": [
    "print(f'Final Objective Function Value: {result.fun}')\n",
    "\n",
    "def dist_to_nearest_stop_eval(centroid_locations, metro_locations):\n",
    "    shortest_distance = np.zeros(len(centroid_locations))\n",
    "    \n",
    "    for i in range(len(centroid_locations)):\n",
    "        cent = np.array([centroid_locations.INTPTLAT[i],centroid_locations.INTPTLON[i]])\n",
    "        closest_distance = float('inf') # initialize to infinity\n",
    "        for j in range(len(metro_locations)):\n",
    "            metro = np.array([metro_locations[j][1],metro_locations[j][0]])\n",
    "            distance = np.linalg.norm(cent-metro)\n",
    "            if (distance < closest_distance):\n",
    "                closest_distance = distance\n",
    "        shortest_distance[i] = closest_distance\n",
    "    \n",
    "    return shortest_distance\n",
    "\n",
    "shortest_distance = dist_to_nearest_stop_eval(centroid_locations, lp_results)\n",
    "print(f'Sum of Nearest Stop Evaluation: {np.sum(shortest_distance)}')\n"
   ]
  },
  {
   "cell_type": "code",
   "execution_count": 30,
   "id": "09ab3406",
   "metadata": {},
   "outputs": [
    {
     "data": {
      "application/vnd.plotly.v1+json": {
       "config": {
        "plotlyServerURL": "https://plot.ly"
       },
       "data": [
        {
         "hovertemplate": "size=%{marker.size}<br>lat=%{lat}<br>long=%{lon}<extra></extra>",
         "lat": [
          38.69595390501936,
          38.63025318383136,
          38.58789218388228,
          38.643643549400466,
          38.66029113409394,
          38.56109013010401,
          38.60266126932909,
          38.662125849034446,
          38.61688341735397,
          38.663453451915096,
          38.56954286317115,
          38.594112598481125
         ],
         "legendgroup": "",
         "lon": [
          -90.25036260783665,
          -90.20175007605411,
          -90.29597374711396,
          -90.25117886999035,
          -90.19746814157094,
          -90.25065848242451,
          -90.22289448388473,
          -90.27747234307654,
          -90.28932082882724,
          -90.22759634111877,
          -90.27409145046823,
          -90.25157697852673
         ],
         "marker": {
          "color": "#636efa",
          "size": [
           1,
           1,
           1,
           1,
           1,
           1,
           1,
           1,
           1,
           1,
           1,
           1
          ],
          "sizemode": "area",
          "sizeref": 0.0025
         },
         "mode": "markers",
         "name": "",
         "showlegend": false,
         "subplot": "mapbox",
         "type": "scattermapbox"
        }
       ],
       "layout": {
        "height": 750,
        "legend": {
         "itemsizing": "constant",
         "tracegroupgap": 0
        },
        "mapbox": {
         "center": {
          "lat": 38.62399196130135,
          "lon": -90.24919536257441
         },
         "domain": {
          "x": [
           0,
           1
          ],
          "y": [
           0,
           1
          ]
         },
         "style": "open-street-map",
         "zoom": 10
        },
        "margin": {
         "t": 60
        },
        "template": {
         "data": {
          "bar": [
           {
            "error_x": {
             "color": "#2a3f5f"
            },
            "error_y": {
             "color": "#2a3f5f"
            },
            "marker": {
             "line": {
              "color": "#E5ECF6",
              "width": 0.5
             },
             "pattern": {
              "fillmode": "overlay",
              "size": 10,
              "solidity": 0.2
             }
            },
            "type": "bar"
           }
          ],
          "barpolar": [
           {
            "marker": {
             "line": {
              "color": "#E5ECF6",
              "width": 0.5
             },
             "pattern": {
              "fillmode": "overlay",
              "size": 10,
              "solidity": 0.2
             }
            },
            "type": "barpolar"
           }
          ],
          "carpet": [
           {
            "aaxis": {
             "endlinecolor": "#2a3f5f",
             "gridcolor": "white",
             "linecolor": "white",
             "minorgridcolor": "white",
             "startlinecolor": "#2a3f5f"
            },
            "baxis": {
             "endlinecolor": "#2a3f5f",
             "gridcolor": "white",
             "linecolor": "white",
             "minorgridcolor": "white",
             "startlinecolor": "#2a3f5f"
            },
            "type": "carpet"
           }
          ],
          "choropleth": [
           {
            "colorbar": {
             "outlinewidth": 0,
             "ticks": ""
            },
            "type": "choropleth"
           }
          ],
          "contour": [
           {
            "colorbar": {
             "outlinewidth": 0,
             "ticks": ""
            },
            "colorscale": [
             [
              0,
              "#0d0887"
             ],
             [
              0.1111111111111111,
              "#46039f"
             ],
             [
              0.2222222222222222,
              "#7201a8"
             ],
             [
              0.3333333333333333,
              "#9c179e"
             ],
             [
              0.4444444444444444,
              "#bd3786"
             ],
             [
              0.5555555555555556,
              "#d8576b"
             ],
             [
              0.6666666666666666,
              "#ed7953"
             ],
             [
              0.7777777777777778,
              "#fb9f3a"
             ],
             [
              0.8888888888888888,
              "#fdca26"
             ],
             [
              1,
              "#f0f921"
             ]
            ],
            "type": "contour"
           }
          ],
          "contourcarpet": [
           {
            "colorbar": {
             "outlinewidth": 0,
             "ticks": ""
            },
            "type": "contourcarpet"
           }
          ],
          "heatmap": [
           {
            "colorbar": {
             "outlinewidth": 0,
             "ticks": ""
            },
            "colorscale": [
             [
              0,
              "#0d0887"
             ],
             [
              0.1111111111111111,
              "#46039f"
             ],
             [
              0.2222222222222222,
              "#7201a8"
             ],
             [
              0.3333333333333333,
              "#9c179e"
             ],
             [
              0.4444444444444444,
              "#bd3786"
             ],
             [
              0.5555555555555556,
              "#d8576b"
             ],
             [
              0.6666666666666666,
              "#ed7953"
             ],
             [
              0.7777777777777778,
              "#fb9f3a"
             ],
             [
              0.8888888888888888,
              "#fdca26"
             ],
             [
              1,
              "#f0f921"
             ]
            ],
            "type": "heatmap"
           }
          ],
          "heatmapgl": [
           {
            "colorbar": {
             "outlinewidth": 0,
             "ticks": ""
            },
            "colorscale": [
             [
              0,
              "#0d0887"
             ],
             [
              0.1111111111111111,
              "#46039f"
             ],
             [
              0.2222222222222222,
              "#7201a8"
             ],
             [
              0.3333333333333333,
              "#9c179e"
             ],
             [
              0.4444444444444444,
              "#bd3786"
             ],
             [
              0.5555555555555556,
              "#d8576b"
             ],
             [
              0.6666666666666666,
              "#ed7953"
             ],
             [
              0.7777777777777778,
              "#fb9f3a"
             ],
             [
              0.8888888888888888,
              "#fdca26"
             ],
             [
              1,
              "#f0f921"
             ]
            ],
            "type": "heatmapgl"
           }
          ],
          "histogram": [
           {
            "marker": {
             "pattern": {
              "fillmode": "overlay",
              "size": 10,
              "solidity": 0.2
             }
            },
            "type": "histogram"
           }
          ],
          "histogram2d": [
           {
            "colorbar": {
             "outlinewidth": 0,
             "ticks": ""
            },
            "colorscale": [
             [
              0,
              "#0d0887"
             ],
             [
              0.1111111111111111,
              "#46039f"
             ],
             [
              0.2222222222222222,
              "#7201a8"
             ],
             [
              0.3333333333333333,
              "#9c179e"
             ],
             [
              0.4444444444444444,
              "#bd3786"
             ],
             [
              0.5555555555555556,
              "#d8576b"
             ],
             [
              0.6666666666666666,
              "#ed7953"
             ],
             [
              0.7777777777777778,
              "#fb9f3a"
             ],
             [
              0.8888888888888888,
              "#fdca26"
             ],
             [
              1,
              "#f0f921"
             ]
            ],
            "type": "histogram2d"
           }
          ],
          "histogram2dcontour": [
           {
            "colorbar": {
             "outlinewidth": 0,
             "ticks": ""
            },
            "colorscale": [
             [
              0,
              "#0d0887"
             ],
             [
              0.1111111111111111,
              "#46039f"
             ],
             [
              0.2222222222222222,
              "#7201a8"
             ],
             [
              0.3333333333333333,
              "#9c179e"
             ],
             [
              0.4444444444444444,
              "#bd3786"
             ],
             [
              0.5555555555555556,
              "#d8576b"
             ],
             [
              0.6666666666666666,
              "#ed7953"
             ],
             [
              0.7777777777777778,
              "#fb9f3a"
             ],
             [
              0.8888888888888888,
              "#fdca26"
             ],
             [
              1,
              "#f0f921"
             ]
            ],
            "type": "histogram2dcontour"
           }
          ],
          "mesh3d": [
           {
            "colorbar": {
             "outlinewidth": 0,
             "ticks": ""
            },
            "type": "mesh3d"
           }
          ],
          "parcoords": [
           {
            "line": {
             "colorbar": {
              "outlinewidth": 0,
              "ticks": ""
             }
            },
            "type": "parcoords"
           }
          ],
          "pie": [
           {
            "automargin": true,
            "type": "pie"
           }
          ],
          "scatter": [
           {
            "fillpattern": {
             "fillmode": "overlay",
             "size": 10,
             "solidity": 0.2
            },
            "type": "scatter"
           }
          ],
          "scatter3d": [
           {
            "line": {
             "colorbar": {
              "outlinewidth": 0,
              "ticks": ""
             }
            },
            "marker": {
             "colorbar": {
              "outlinewidth": 0,
              "ticks": ""
             }
            },
            "type": "scatter3d"
           }
          ],
          "scattercarpet": [
           {
            "marker": {
             "colorbar": {
              "outlinewidth": 0,
              "ticks": ""
             }
            },
            "type": "scattercarpet"
           }
          ],
          "scattergeo": [
           {
            "marker": {
             "colorbar": {
              "outlinewidth": 0,
              "ticks": ""
             }
            },
            "type": "scattergeo"
           }
          ],
          "scattergl": [
           {
            "marker": {
             "colorbar": {
              "outlinewidth": 0,
              "ticks": ""
             }
            },
            "type": "scattergl"
           }
          ],
          "scattermapbox": [
           {
            "marker": {
             "colorbar": {
              "outlinewidth": 0,
              "ticks": ""
             }
            },
            "type": "scattermapbox"
           }
          ],
          "scatterpolar": [
           {
            "marker": {
             "colorbar": {
              "outlinewidth": 0,
              "ticks": ""
             }
            },
            "type": "scatterpolar"
           }
          ],
          "scatterpolargl": [
           {
            "marker": {
             "colorbar": {
              "outlinewidth": 0,
              "ticks": ""
             }
            },
            "type": "scatterpolargl"
           }
          ],
          "scatterternary": [
           {
            "marker": {
             "colorbar": {
              "outlinewidth": 0,
              "ticks": ""
             }
            },
            "type": "scatterternary"
           }
          ],
          "surface": [
           {
            "colorbar": {
             "outlinewidth": 0,
             "ticks": ""
            },
            "colorscale": [
             [
              0,
              "#0d0887"
             ],
             [
              0.1111111111111111,
              "#46039f"
             ],
             [
              0.2222222222222222,
              "#7201a8"
             ],
             [
              0.3333333333333333,
              "#9c179e"
             ],
             [
              0.4444444444444444,
              "#bd3786"
             ],
             [
              0.5555555555555556,
              "#d8576b"
             ],
             [
              0.6666666666666666,
              "#ed7953"
             ],
             [
              0.7777777777777778,
              "#fb9f3a"
             ],
             [
              0.8888888888888888,
              "#fdca26"
             ],
             [
              1,
              "#f0f921"
             ]
            ],
            "type": "surface"
           }
          ],
          "table": [
           {
            "cells": {
             "fill": {
              "color": "#EBF0F8"
             },
             "line": {
              "color": "white"
             }
            },
            "header": {
             "fill": {
              "color": "#C8D4E3"
             },
             "line": {
              "color": "white"
             }
            },
            "type": "table"
           }
          ]
         },
         "layout": {
          "annotationdefaults": {
           "arrowcolor": "#2a3f5f",
           "arrowhead": 0,
           "arrowwidth": 1
          },
          "autotypenumbers": "strict",
          "coloraxis": {
           "colorbar": {
            "outlinewidth": 0,
            "ticks": ""
           }
          },
          "colorscale": {
           "diverging": [
            [
             0,
             "#8e0152"
            ],
            [
             0.1,
             "#c51b7d"
            ],
            [
             0.2,
             "#de77ae"
            ],
            [
             0.3,
             "#f1b6da"
            ],
            [
             0.4,
             "#fde0ef"
            ],
            [
             0.5,
             "#f7f7f7"
            ],
            [
             0.6,
             "#e6f5d0"
            ],
            [
             0.7,
             "#b8e186"
            ],
            [
             0.8,
             "#7fbc41"
            ],
            [
             0.9,
             "#4d9221"
            ],
            [
             1,
             "#276419"
            ]
           ],
           "sequential": [
            [
             0,
             "#0d0887"
            ],
            [
             0.1111111111111111,
             "#46039f"
            ],
            [
             0.2222222222222222,
             "#7201a8"
            ],
            [
             0.3333333333333333,
             "#9c179e"
            ],
            [
             0.4444444444444444,
             "#bd3786"
            ],
            [
             0.5555555555555556,
             "#d8576b"
            ],
            [
             0.6666666666666666,
             "#ed7953"
            ],
            [
             0.7777777777777778,
             "#fb9f3a"
            ],
            [
             0.8888888888888888,
             "#fdca26"
            ],
            [
             1,
             "#f0f921"
            ]
           ],
           "sequentialminus": [
            [
             0,
             "#0d0887"
            ],
            [
             0.1111111111111111,
             "#46039f"
            ],
            [
             0.2222222222222222,
             "#7201a8"
            ],
            [
             0.3333333333333333,
             "#9c179e"
            ],
            [
             0.4444444444444444,
             "#bd3786"
            ],
            [
             0.5555555555555556,
             "#d8576b"
            ],
            [
             0.6666666666666666,
             "#ed7953"
            ],
            [
             0.7777777777777778,
             "#fb9f3a"
            ],
            [
             0.8888888888888888,
             "#fdca26"
            ],
            [
             1,
             "#f0f921"
            ]
           ]
          },
          "colorway": [
           "#636efa",
           "#EF553B",
           "#00cc96",
           "#ab63fa",
           "#FFA15A",
           "#19d3f3",
           "#FF6692",
           "#B6E880",
           "#FF97FF",
           "#FECB52"
          ],
          "font": {
           "color": "#2a3f5f"
          },
          "geo": {
           "bgcolor": "white",
           "lakecolor": "white",
           "landcolor": "#E5ECF6",
           "showlakes": true,
           "showland": true,
           "subunitcolor": "white"
          },
          "hoverlabel": {
           "align": "left"
          },
          "hovermode": "closest",
          "mapbox": {
           "style": "light"
          },
          "paper_bgcolor": "white",
          "plot_bgcolor": "#E5ECF6",
          "polar": {
           "angularaxis": {
            "gridcolor": "white",
            "linecolor": "white",
            "ticks": ""
           },
           "bgcolor": "#E5ECF6",
           "radialaxis": {
            "gridcolor": "white",
            "linecolor": "white",
            "ticks": ""
           }
          },
          "scene": {
           "xaxis": {
            "backgroundcolor": "#E5ECF6",
            "gridcolor": "white",
            "gridwidth": 2,
            "linecolor": "white",
            "showbackground": true,
            "ticks": "",
            "zerolinecolor": "white"
           },
           "yaxis": {
            "backgroundcolor": "#E5ECF6",
            "gridcolor": "white",
            "gridwidth": 2,
            "linecolor": "white",
            "showbackground": true,
            "ticks": "",
            "zerolinecolor": "white"
           },
           "zaxis": {
            "backgroundcolor": "#E5ECF6",
            "gridcolor": "white",
            "gridwidth": 2,
            "linecolor": "white",
            "showbackground": true,
            "ticks": "",
            "zerolinecolor": "white"
           }
          },
          "shapedefaults": {
           "line": {
            "color": "#2a3f5f"
           }
          },
          "ternary": {
           "aaxis": {
            "gridcolor": "white",
            "linecolor": "white",
            "ticks": ""
           },
           "baxis": {
            "gridcolor": "white",
            "linecolor": "white",
            "ticks": ""
           },
           "bgcolor": "#E5ECF6",
           "caxis": {
            "gridcolor": "white",
            "linecolor": "white",
            "ticks": ""
           }
          },
          "title": {
           "x": 0.05
          },
          "xaxis": {
           "automargin": true,
           "gridcolor": "white",
           "linecolor": "white",
           "ticks": "",
           "title": {
            "standoff": 15
           },
           "zerolinecolor": "white",
           "zerolinewidth": 2
          },
          "yaxis": {
           "automargin": true,
           "gridcolor": "white",
           "linecolor": "white",
           "ticks": "",
           "title": {
            "standoff": 15
           },
           "zerolinecolor": "white",
           "zerolinewidth": 2
          }
         }
        }
       }
      },
      "text/html": [
       "<div>                            <div id=\"66f38cf3-9a28-43d0-8c53-db86c4254ccf\" class=\"plotly-graph-div\" style=\"height:750px; width:100%;\"></div>            <script type=\"text/javascript\">                require([\"plotly\"], function(Plotly) {                    window.PLOTLYENV=window.PLOTLYENV || {};                                    if (document.getElementById(\"66f38cf3-9a28-43d0-8c53-db86c4254ccf\")) {                    Plotly.newPlot(                        \"66f38cf3-9a28-43d0-8c53-db86c4254ccf\",                        [{\"hovertemplate\":\"size=%{marker.size}\\u003cbr\\u003elat=%{lat}\\u003cbr\\u003elong=%{lon}\\u003cextra\\u003e\\u003c\\u002fextra\\u003e\",\"lat\":[38.69595390501936,38.63025318383136,38.58789218388228,38.643643549400466,38.66029113409394,38.56109013010401,38.60266126932909,38.662125849034446,38.61688341735397,38.663453451915096,38.56954286317115,38.594112598481125],\"legendgroup\":\"\",\"lon\":[-90.25036260783665,-90.20175007605411,-90.29597374711396,-90.25117886999035,-90.19746814157094,-90.25065848242451,-90.22289448388473,-90.27747234307654,-90.28932082882724,-90.22759634111877,-90.27409145046823,-90.25157697852673],\"marker\":{\"color\":\"#636efa\",\"size\":[1,1,1,1,1,1,1,1,1,1,1,1],\"sizemode\":\"area\",\"sizeref\":0.0025},\"mode\":\"markers\",\"name\":\"\",\"showlegend\":false,\"subplot\":\"mapbox\",\"type\":\"scattermapbox\"}],                        {\"template\":{\"data\":{\"histogram2dcontour\":[{\"type\":\"histogram2dcontour\",\"colorbar\":{\"outlinewidth\":0,\"ticks\":\"\"},\"colorscale\":[[0.0,\"#0d0887\"],[0.1111111111111111,\"#46039f\"],[0.2222222222222222,\"#7201a8\"],[0.3333333333333333,\"#9c179e\"],[0.4444444444444444,\"#bd3786\"],[0.5555555555555556,\"#d8576b\"],[0.6666666666666666,\"#ed7953\"],[0.7777777777777778,\"#fb9f3a\"],[0.8888888888888888,\"#fdca26\"],[1.0,\"#f0f921\"]]}],\"choropleth\":[{\"type\":\"choropleth\",\"colorbar\":{\"outlinewidth\":0,\"ticks\":\"\"}}],\"histogram2d\":[{\"type\":\"histogram2d\",\"colorbar\":{\"outlinewidth\":0,\"ticks\":\"\"},\"colorscale\":[[0.0,\"#0d0887\"],[0.1111111111111111,\"#46039f\"],[0.2222222222222222,\"#7201a8\"],[0.3333333333333333,\"#9c179e\"],[0.4444444444444444,\"#bd3786\"],[0.5555555555555556,\"#d8576b\"],[0.6666666666666666,\"#ed7953\"],[0.7777777777777778,\"#fb9f3a\"],[0.8888888888888888,\"#fdca26\"],[1.0,\"#f0f921\"]]}],\"heatmap\":[{\"type\":\"heatmap\",\"colorbar\":{\"outlinewidth\":0,\"ticks\":\"\"},\"colorscale\":[[0.0,\"#0d0887\"],[0.1111111111111111,\"#46039f\"],[0.2222222222222222,\"#7201a8\"],[0.3333333333333333,\"#9c179e\"],[0.4444444444444444,\"#bd3786\"],[0.5555555555555556,\"#d8576b\"],[0.6666666666666666,\"#ed7953\"],[0.7777777777777778,\"#fb9f3a\"],[0.8888888888888888,\"#fdca26\"],[1.0,\"#f0f921\"]]}],\"heatmapgl\":[{\"type\":\"heatmapgl\",\"colorbar\":{\"outlinewidth\":0,\"ticks\":\"\"},\"colorscale\":[[0.0,\"#0d0887\"],[0.1111111111111111,\"#46039f\"],[0.2222222222222222,\"#7201a8\"],[0.3333333333333333,\"#9c179e\"],[0.4444444444444444,\"#bd3786\"],[0.5555555555555556,\"#d8576b\"],[0.6666666666666666,\"#ed7953\"],[0.7777777777777778,\"#fb9f3a\"],[0.8888888888888888,\"#fdca26\"],[1.0,\"#f0f921\"]]}],\"contourcarpet\":[{\"type\":\"contourcarpet\",\"colorbar\":{\"outlinewidth\":0,\"ticks\":\"\"}}],\"contour\":[{\"type\":\"contour\",\"colorbar\":{\"outlinewidth\":0,\"ticks\":\"\"},\"colorscale\":[[0.0,\"#0d0887\"],[0.1111111111111111,\"#46039f\"],[0.2222222222222222,\"#7201a8\"],[0.3333333333333333,\"#9c179e\"],[0.4444444444444444,\"#bd3786\"],[0.5555555555555556,\"#d8576b\"],[0.6666666666666666,\"#ed7953\"],[0.7777777777777778,\"#fb9f3a\"],[0.8888888888888888,\"#fdca26\"],[1.0,\"#f0f921\"]]}],\"surface\":[{\"type\":\"surface\",\"colorbar\":{\"outlinewidth\":0,\"ticks\":\"\"},\"colorscale\":[[0.0,\"#0d0887\"],[0.1111111111111111,\"#46039f\"],[0.2222222222222222,\"#7201a8\"],[0.3333333333333333,\"#9c179e\"],[0.4444444444444444,\"#bd3786\"],[0.5555555555555556,\"#d8576b\"],[0.6666666666666666,\"#ed7953\"],[0.7777777777777778,\"#fb9f3a\"],[0.8888888888888888,\"#fdca26\"],[1.0,\"#f0f921\"]]}],\"mesh3d\":[{\"type\":\"mesh3d\",\"colorbar\":{\"outlinewidth\":0,\"ticks\":\"\"}}],\"scatter\":[{\"fillpattern\":{\"fillmode\":\"overlay\",\"size\":10,\"solidity\":0.2},\"type\":\"scatter\"}],\"parcoords\":[{\"type\":\"parcoords\",\"line\":{\"colorbar\":{\"outlinewidth\":0,\"ticks\":\"\"}}}],\"scatterpolargl\":[{\"type\":\"scatterpolargl\",\"marker\":{\"colorbar\":{\"outlinewidth\":0,\"ticks\":\"\"}}}],\"bar\":[{\"error_x\":{\"color\":\"#2a3f5f\"},\"error_y\":{\"color\":\"#2a3f5f\"},\"marker\":{\"line\":{\"color\":\"#E5ECF6\",\"width\":0.5},\"pattern\":{\"fillmode\":\"overlay\",\"size\":10,\"solidity\":0.2}},\"type\":\"bar\"}],\"scattergeo\":[{\"type\":\"scattergeo\",\"marker\":{\"colorbar\":{\"outlinewidth\":0,\"ticks\":\"\"}}}],\"scatterpolar\":[{\"type\":\"scatterpolar\",\"marker\":{\"colorbar\":{\"outlinewidth\":0,\"ticks\":\"\"}}}],\"histogram\":[{\"marker\":{\"pattern\":{\"fillmode\":\"overlay\",\"size\":10,\"solidity\":0.2}},\"type\":\"histogram\"}],\"scattergl\":[{\"type\":\"scattergl\",\"marker\":{\"colorbar\":{\"outlinewidth\":0,\"ticks\":\"\"}}}],\"scatter3d\":[{\"type\":\"scatter3d\",\"line\":{\"colorbar\":{\"outlinewidth\":0,\"ticks\":\"\"}},\"marker\":{\"colorbar\":{\"outlinewidth\":0,\"ticks\":\"\"}}}],\"scattermapbox\":[{\"type\":\"scattermapbox\",\"marker\":{\"colorbar\":{\"outlinewidth\":0,\"ticks\":\"\"}}}],\"scatterternary\":[{\"type\":\"scatterternary\",\"marker\":{\"colorbar\":{\"outlinewidth\":0,\"ticks\":\"\"}}}],\"scattercarpet\":[{\"type\":\"scattercarpet\",\"marker\":{\"colorbar\":{\"outlinewidth\":0,\"ticks\":\"\"}}}],\"carpet\":[{\"aaxis\":{\"endlinecolor\":\"#2a3f5f\",\"gridcolor\":\"white\",\"linecolor\":\"white\",\"minorgridcolor\":\"white\",\"startlinecolor\":\"#2a3f5f\"},\"baxis\":{\"endlinecolor\":\"#2a3f5f\",\"gridcolor\":\"white\",\"linecolor\":\"white\",\"minorgridcolor\":\"white\",\"startlinecolor\":\"#2a3f5f\"},\"type\":\"carpet\"}],\"table\":[{\"cells\":{\"fill\":{\"color\":\"#EBF0F8\"},\"line\":{\"color\":\"white\"}},\"header\":{\"fill\":{\"color\":\"#C8D4E3\"},\"line\":{\"color\":\"white\"}},\"type\":\"table\"}],\"barpolar\":[{\"marker\":{\"line\":{\"color\":\"#E5ECF6\",\"width\":0.5},\"pattern\":{\"fillmode\":\"overlay\",\"size\":10,\"solidity\":0.2}},\"type\":\"barpolar\"}],\"pie\":[{\"automargin\":true,\"type\":\"pie\"}]},\"layout\":{\"autotypenumbers\":\"strict\",\"colorway\":[\"#636efa\",\"#EF553B\",\"#00cc96\",\"#ab63fa\",\"#FFA15A\",\"#19d3f3\",\"#FF6692\",\"#B6E880\",\"#FF97FF\",\"#FECB52\"],\"font\":{\"color\":\"#2a3f5f\"},\"hovermode\":\"closest\",\"hoverlabel\":{\"align\":\"left\"},\"paper_bgcolor\":\"white\",\"plot_bgcolor\":\"#E5ECF6\",\"polar\":{\"bgcolor\":\"#E5ECF6\",\"angularaxis\":{\"gridcolor\":\"white\",\"linecolor\":\"white\",\"ticks\":\"\"},\"radialaxis\":{\"gridcolor\":\"white\",\"linecolor\":\"white\",\"ticks\":\"\"}},\"ternary\":{\"bgcolor\":\"#E5ECF6\",\"aaxis\":{\"gridcolor\":\"white\",\"linecolor\":\"white\",\"ticks\":\"\"},\"baxis\":{\"gridcolor\":\"white\",\"linecolor\":\"white\",\"ticks\":\"\"},\"caxis\":{\"gridcolor\":\"white\",\"linecolor\":\"white\",\"ticks\":\"\"}},\"coloraxis\":{\"colorbar\":{\"outlinewidth\":0,\"ticks\":\"\"}},\"colorscale\":{\"sequential\":[[0.0,\"#0d0887\"],[0.1111111111111111,\"#46039f\"],[0.2222222222222222,\"#7201a8\"],[0.3333333333333333,\"#9c179e\"],[0.4444444444444444,\"#bd3786\"],[0.5555555555555556,\"#d8576b\"],[0.6666666666666666,\"#ed7953\"],[0.7777777777777778,\"#fb9f3a\"],[0.8888888888888888,\"#fdca26\"],[1.0,\"#f0f921\"]],\"sequentialminus\":[[0.0,\"#0d0887\"],[0.1111111111111111,\"#46039f\"],[0.2222222222222222,\"#7201a8\"],[0.3333333333333333,\"#9c179e\"],[0.4444444444444444,\"#bd3786\"],[0.5555555555555556,\"#d8576b\"],[0.6666666666666666,\"#ed7953\"],[0.7777777777777778,\"#fb9f3a\"],[0.8888888888888888,\"#fdca26\"],[1.0,\"#f0f921\"]],\"diverging\":[[0,\"#8e0152\"],[0.1,\"#c51b7d\"],[0.2,\"#de77ae\"],[0.3,\"#f1b6da\"],[0.4,\"#fde0ef\"],[0.5,\"#f7f7f7\"],[0.6,\"#e6f5d0\"],[0.7,\"#b8e186\"],[0.8,\"#7fbc41\"],[0.9,\"#4d9221\"],[1,\"#276419\"]]},\"xaxis\":{\"gridcolor\":\"white\",\"linecolor\":\"white\",\"ticks\":\"\",\"title\":{\"standoff\":15},\"zerolinecolor\":\"white\",\"automargin\":true,\"zerolinewidth\":2},\"yaxis\":{\"gridcolor\":\"white\",\"linecolor\":\"white\",\"ticks\":\"\",\"title\":{\"standoff\":15},\"zerolinecolor\":\"white\",\"automargin\":true,\"zerolinewidth\":2},\"scene\":{\"xaxis\":{\"backgroundcolor\":\"#E5ECF6\",\"gridcolor\":\"white\",\"linecolor\":\"white\",\"showbackground\":true,\"ticks\":\"\",\"zerolinecolor\":\"white\",\"gridwidth\":2},\"yaxis\":{\"backgroundcolor\":\"#E5ECF6\",\"gridcolor\":\"white\",\"linecolor\":\"white\",\"showbackground\":true,\"ticks\":\"\",\"zerolinecolor\":\"white\",\"gridwidth\":2},\"zaxis\":{\"backgroundcolor\":\"#E5ECF6\",\"gridcolor\":\"white\",\"linecolor\":\"white\",\"showbackground\":true,\"ticks\":\"\",\"zerolinecolor\":\"white\",\"gridwidth\":2}},\"shapedefaults\":{\"line\":{\"color\":\"#2a3f5f\"}},\"annotationdefaults\":{\"arrowcolor\":\"#2a3f5f\",\"arrowhead\":0,\"arrowwidth\":1},\"geo\":{\"bgcolor\":\"white\",\"landcolor\":\"#E5ECF6\",\"subunitcolor\":\"white\",\"showland\":true,\"showlakes\":true,\"lakecolor\":\"white\"},\"title\":{\"x\":0.05},\"mapbox\":{\"style\":\"light\"}}},\"mapbox\":{\"domain\":{\"x\":[0.0,1.0],\"y\":[0.0,1.0]},\"center\":{\"lat\":38.62399196130135,\"lon\":-90.24919536257441},\"zoom\":10,\"style\":\"open-street-map\"},\"legend\":{\"tracegroupgap\":0,\"itemsizing\":\"constant\"},\"margin\":{\"t\":60},\"height\":750},                        {\"responsive\": true}                    ).then(function(){\n",
       "                            \n",
       "var gd = document.getElementById('66f38cf3-9a28-43d0-8c53-db86c4254ccf');\n",
       "var x = new MutationObserver(function (mutations, observer) {{\n",
       "        var display = window.getComputedStyle(gd).display;\n",
       "        if (!display || display === 'none') {{\n",
       "            console.log([gd, 'removed!']);\n",
       "            Plotly.purge(gd);\n",
       "            observer.disconnect();\n",
       "        }}\n",
       "}});\n",
       "\n",
       "// Listen for the removal of the full notebook cells\n",
       "var notebookContainer = gd.closest('#notebook-container');\n",
       "if (notebookContainer) {{\n",
       "    x.observe(notebookContainer, {childList: true});\n",
       "}}\n",
       "\n",
       "// Listen for the clearing of the current output cell\n",
       "var outputEl = gd.closest('.output');\n",
       "if (outputEl) {{\n",
       "    x.observe(outputEl, {childList: true});\n",
       "}}\n",
       "\n",
       "                        })                };                });            </script>        </div>"
      ]
     },
     "metadata": {},
     "output_type": "display_data"
    }
   ],
   "source": [
    "lp_results = [[all_centroids[i], all_centroids[i + 1]] for i in range(0, len(all_centroids), 2)]\n",
    "\n",
    "cluster_centroids = pd.DataFrame(data = lp_results, columns = [\"long\", \"lat\"])\n",
    "cluster_centroids['size'] = [1 for i in range(len(cluster_centroids))]\n",
    "\n",
    "fig = px.scatter_mapbox(cluster_centroids,\n",
    "                        lat='lat',\n",
    "                        lon='long',\n",
    "                        size='size',\n",
    "                        zoom=10,\n",
    "                        height=750)\n",
    "fig.update_layout(mapbox_style=\"open-street-map\")"
   ]
  },
  {
   "cell_type": "code",
   "execution_count": null,
   "id": "cbcfe131",
   "metadata": {},
   "outputs": [],
   "source": [
    "## PARAMETER SWEEPING\n",
    "\n",
    "a = np.linspace(0, 100, 5)\n",
    "b = np.linspace(0, 25, 5)\n",
    "c = np.linspace(0, 25, 5)\n",
    "d = np.linspace(0, 25, 5)\n",
    "\n",
    "obj_fun_values = np.zeros([len(a)*len(b)*len(c)*len(d), 5])\n",
    "\n",
    "def fun_sweep(new_stops):\n",
    "    #print(f'shape of new stops: {np.shape(new_stops)}')\n",
    "    #weights = full_data['race weight']\n",
    "    weights = np.ones(len(full_data))\n",
    "    #print(weights)\n",
    "    dist_to_stops = np.dot(weights, distances_to_nearest_stop(full_data, new_stops))\n",
    "    linearity = orth_dist(new_stops) \n",
    "    dist_btw_stops = distances_between_stops(new_stops)\n",
    "    distance_to_mean = distance_to_mean_x(new_stops)\n",
    "    #print(f'dist to stops: {dist_to_stops:3.3f}, linearity: {linearity:3.3f}')\n",
    "    return i*dist_to_stops + j*linearity - k*dist_btw_stops + l*distance_to_mean\n",
    "\n",
    "counter = 0\n",
    "for i in a:\n",
    "    for j in b:\n",
    "        for k in c:\n",
    "            for l in d:\n",
    "                result = minimize(fun_sweep, x0, bounds=bnds)\n",
    "                obj_fun_values[counter, 0] = i\n",
    "                obj_fun_values[counter, 1] = j\n",
    "                obj_fun_values[counter, 2] = k\n",
    "                obj_fun_values[counter, 3] = l\n",
    "                obj_fun_values[counter, 4] = result.fun\n",
    "                counter = counter + 1\n",
    "                "
   ]
  },
  {
   "cell_type": "code",
   "execution_count": null,
   "id": "f203346d",
   "metadata": {},
   "outputs": [],
   "source": [
    "counter\n",
    "\n"
   ]
  },
  {
   "cell_type": "code",
   "execution_count": null,
   "id": "bf090906",
   "metadata": {},
   "outputs": [],
   "source": [
    "def fun_opt_coefs(new_stops, a, b, c, d):\n",
    "    #print(f'shape of new stops: {np.shape(new_stops)}')\n",
    "    #weights = full_data['race weight']\n",
    "    weights = np.ones(len(full_data))\n",
    "    #print(weights)\n",
    "    dist_to_stops = np.dot(weights, distances_to_nearest_stop(full_data, new_stops))\n",
    "    linearity = orth_dist(new_stops) \n",
    "    dist_btw_stops = distances_between_stops(new_stops)\n",
    "    distance_to_mean = distance_to_mean_x(new_stops)\n",
    "    #print(f'dist to stops: {dist_to_stops:3.3f}, linearity: {linearity:3.3f}')\n",
    "    return a*dist_to_stops + b*linearity - c*dist_btw_stops + d*distance_to_mean\n",
    "\n",
    "result = minimize(fun_opt_coefs, x0, bounds=bnds)\n",
    "all_centroids = result.x"
   ]
  },
  {
   "cell_type": "code",
   "execution_count": null,
   "id": "72d7517b",
   "metadata": {},
   "outputs": [],
   "source": []
  }
 ],
 "metadata": {
  "kernelspec": {
   "display_name": "Python 3 (ipykernel)",
   "language": "python",
   "name": "python3"
  },
  "language_info": {
   "codemirror_mode": {
    "name": "ipython",
    "version": 3
   },
   "file_extension": ".py",
   "mimetype": "text/x-python",
   "name": "python",
   "nbconvert_exporter": "python",
   "pygments_lexer": "ipython3",
   "version": "3.11.7"
  }
 },
 "nbformat": 4,
 "nbformat_minor": 5
}
